{
 "cells": [
  {
   "cell_type": "code",
   "execution_count": 1,
   "metadata": {},
   "outputs": [],
   "source": [
    "import tensorflow as tf\n",
    "AUTOTUNE = tf.data.experimental.AUTOTUNE\n",
    "import IPython.display as display\n",
    "from PIL import Image\n",
    "import numpy as np\n",
    "import matplotlib.pyplot as plt\n",
    "import os\n",
    "import pandas as pd\n",
    "tf.__version__\n",
    "from PIL import Image\n",
    "import glob\n",
    "\n",
    "from sklearn.metrics import confusion_matrix,classification_report\n",
    "from tensorflow.keras.models import Sequential, Model \n",
    "from tensorflow.keras.layers import Conv2D, MaxPooling2D\n",
    "from tensorflow.keras.layers import Activation, Dropout, Flatten, Dense, Input\n",
    "from tensorflow.keras import regularizers, optimizers\n",
    "from tensorflow.keras.metrics import categorical_accuracy\n",
    "from tensorflow.keras.callbacks import EarlyStopping\n",
    "from tensorflow.keras.preprocessing.image import ImageDataGenerator\n",
    "\n",
    "\n",
    "from tensorflow.keras.models import Sequential\n",
    "from tensorflow.keras.layers import Conv2D, MaxPooling2D, Lambda, Input\n",
    "from tensorflow.keras.layers import Activation, Dropout, Flatten, Dense\n",
    "from tensorflow.keras.metrics import categorical_accuracy\n",
    "from tensorflow.keras import regularizers, optimizers\n",
    "from tensorflow.keras.layers import BatchNormalization\n"
   ]
  },
  {
   "cell_type": "markdown",
   "metadata": {},
   "source": [
    "## Image data loader and Exploration"
   ]
  },
  {
   "cell_type": "code",
   "execution_count": 2,
   "metadata": {},
   "outputs": [],
   "source": [
    "\n",
    "image_list = []\n",
    "for filepath in glob.glob('trafficsigns_dataset/*/*/*.png', recursive=True):\n",
    "    filename = filepath.split(\"\\\\\")[-1]\n",
    "    signShape = filepath.split(\"\\\\\")[1]\n",
    "    signType = filepath.split(\"\\\\\")[2]\n",
    "    image_list.append((filepath, signShape, signType))\n",
    "    \n",
    "data = pd.DataFrame(data=image_list, columns=['image_path','signShape','signType'])"
   ]
  },
  {
   "cell_type": "code",
   "execution_count": 3,
   "metadata": {},
   "outputs": [
    {
     "data": {
      "image/png": "[encoded data removed]",
      "text/plain": [
       "<Figure size 2160x288 with 8 Axes>"
      ]
     },
     "metadata": {
      "needs_background": "light"
     },
     "output_type": "display_data"
    }
   ],
   "source": [
    "r_inx = np.random.choice(1000, 8)\n",
    "rand_data = data.loc[r_inx,'image_path']\n",
    "\n",
    "plt.figure(figsize=(30,4))\n",
    "for i, image_path in enumerate(rand_data):\n",
    "    im = np.asarray(Image.open(image_path))\n",
    "    plt.subplot(1,8,i+1)\n",
    "    plt.imshow(im,cmap='gray')\n",
    "    plt.axis('off')\n",
    "    \n",
    "plt.show()"
   ]
  },
  {
   "cell_type": "code",
   "execution_count": 4,
   "metadata": {},
   "outputs": [],
   "source": [
    "data_type=data[['image_path','signType']]\n"
   ]
  },
  {
   "cell_type": "code",
   "execution_count": 5,
   "metadata": {},
   "outputs": [
    {
     "data": {
      "text/plain": [
       "(3699, 2)"
      ]
     },
     "execution_count": 5,
     "metadata": {},
     "output_type": "execute_result"
    }
   ],
   "source": [
    "data_type.shape"
   ]
  },
  {
   "cell_type": "code",
   "execution_count": 6,
   "metadata": {
    "scrolled": true
   },
   "outputs": [
    {
     "data": {
      "text/html": [
       "<div>\n",
       "<style scoped>\n",
       "    .dataframe tbody tr th:only-of-type {\n",
       "        vertical-align: middle;\n",
       "    }\n",
       "\n",
       "    .dataframe tbody tr th {\n",
       "        vertical-align: top;\n",
       "    }\n",
       "\n",
       "    .dataframe thead th {\n",
       "        text-align: right;\n",
       "    }\n",
       "</style>\n",
       "<table border=\"1\" class=\"dataframe\">\n",
       "  <thead>\n",
       "    <tr style=\"text-align: right;\">\n",
       "      <th></th>\n",
       "      <th>image_path</th>\n",
       "      <th>signType</th>\n",
       "    </tr>\n",
       "  </thead>\n",
       "  <tbody>\n",
       "    <tr>\n",
       "      <th>0</th>\n",
       "      <td>trafficsigns_dataset\\diamond\\rightofway\\00032_...</td>\n",
       "      <td>rightofway</td>\n",
       "    </tr>\n",
       "    <tr>\n",
       "      <th>1</th>\n",
       "      <td>trafficsigns_dataset\\diamond\\rightofway\\00032_...</td>\n",
       "      <td>rightofway</td>\n",
       "    </tr>\n",
       "    <tr>\n",
       "      <th>2</th>\n",
       "      <td>trafficsigns_dataset\\diamond\\rightofway\\00032_...</td>\n",
       "      <td>rightofway</td>\n",
       "    </tr>\n",
       "    <tr>\n",
       "      <th>3</th>\n",
       "      <td>trafficsigns_dataset\\diamond\\rightofway\\00037_...</td>\n",
       "      <td>rightofway</td>\n",
       "    </tr>\n",
       "    <tr>\n",
       "      <th>4</th>\n",
       "      <td>trafficsigns_dataset\\diamond\\rightofway\\00037_...</td>\n",
       "      <td>rightofway</td>\n",
       "    </tr>\n",
       "  </tbody>\n",
       "</table>\n",
       "</div>"
      ],
      "text/plain": [
       "                                          image_path    signType\n",
       "0  trafficsigns_dataset\\diamond\\rightofway\\00032_...  rightofway\n",
       "1  trafficsigns_dataset\\diamond\\rightofway\\00032_...  rightofway\n",
       "2  trafficsigns_dataset\\diamond\\rightofway\\00032_...  rightofway\n",
       "3  trafficsigns_dataset\\diamond\\rightofway\\00037_...  rightofway\n",
       "4  trafficsigns_dataset\\diamond\\rightofway\\00037_...  rightofway"
      ]
     },
     "execution_count": 6,
     "metadata": {},
     "output_type": "execute_result"
    }
   ],
   "source": [
    "data_type.head()"
   ]
  },
  {
   "cell_type": "code",
   "execution_count": 7,
   "metadata": {
    "scrolled": true
   },
   "outputs": [
    {
     "data": {
      "image/png": "[encoded data removed]",
      "text/plain": [
       "<Figure size 432x288 with 1 Axes>"
      ]
     },
     "metadata": {
      "needs_background": "light"
     },
     "output_type": "display_data"
    }
   ],
   "source": [
    "data_type.signType.value_counts().plot(kind='bar')\n",
    "plt.xlabel(\"Traffic Sign Type\", labelpad=14)\n",
    "plt.ylabel(\"Count\", labelpad=14)\n",
    "plt.title(\"Count of Traffic Signs by Type\", y=1.02);"
   ]
  },
  {
   "cell_type": "markdown",
   "metadata": {},
   "source": [
    "### Looking at the above graph we can see that this is an imbalance class problem. To tackle this we could use weighted model or do some data augmentation. "
   ]
  },
  {
   "cell_type": "code",
   "execution_count": 8,
   "metadata": {
    "scrolled": false
   },
   "outputs": [
    {
     "data": {
      "text/plain": [
       "warning             695\n",
       "noentry             375\n",
       "speed               316\n",
       "bicycle             285\n",
       "rightofway          282\n",
       "parking             276\n",
       "noparking           242\n",
       "giveway             231\n",
       "continue            199\n",
       "trafficdirective    195\n",
       "limitedtraffic      125\n",
       "traveldirection     124\n",
       "laneend             118\n",
       "roundabout           98\n",
       "crossing             95\n",
       "stop                 43\n",
       "Name: signType, dtype: int64"
      ]
     },
     "execution_count": 8,
     "metadata": {},
     "output_type": "execute_result"
    }
   ],
   "source": [
    "data_type.signType.value_counts()"
   ]
  },
  {
   "cell_type": "code",
   "execution_count": 9,
   "metadata": {},
   "outputs": [],
   "source": [
    "# Convert string labels to numeric\n",
    "#d = {'diamond':0,'hex':1,'round':2,'square':3,'triangle':4}\n",
    "#data_shape['labels_num'] = data_shape['signShape'].map(d, na_action='ignore')"
   ]
  },
  {
   "cell_type": "markdown",
   "metadata": {},
   "source": [
    "## Data for Independent Evaluation"
   ]
  },
  {
   "cell_type": "markdown",
   "metadata": {},
   "source": [
    "##### Independent Evaluation dataset pre processing"
   ]
  },
  {
   "cell_type": "code",
   "execution_count": 55,
   "metadata": {},
   "outputs": [],
   "source": [
    "fname=data_ind['image_path']\n",
    "\n",
    "import cv2\n",
    "import os\n",
    "\n",
    "for file in fname:\n",
    "    image = cv2.imread(file)\n",
    "    gray = cv2.cvtColor(image, cv2.COLOR_BGR2GRAY)\n",
    "    resized = cv2.resize(gray, (28,28) , interpolation = cv2.INTER_AREA)\n",
    "    cv2.imwrite(os.path.join(file), resized)"
   ]
  },
  {
   "cell_type": "code",
   "execution_count": 54,
   "metadata": {},
   "outputs": [
    {
     "name": "stdout",
     "output_type": "stream",
     "text": [
      "Found 175 validated image filenames belonging to 16 classes.\n"
     ]
    }
   ],
   "source": [
    "image_list = []\n",
    "for filepath in glob.glob('traffic_sign_data_independent_eval_new/*/*/*.png', recursive=True):\n",
    "    filename = filepath.split(\"\\\\\")[-1]\n",
    "    signShape = filepath.split(\"\\\\\")[1]\n",
    "    signType = filepath.split(\"\\\\\")[2]\n",
    "    image_name=filepath.split(\"\\\\\")[3]\n",
    "    image_list.append((filepath, signShape, signType,image_name))\n",
    "    \n",
    "data_ind = pd.DataFrame(data=image_list, columns=['image_path','signShape','signType','image_name'])\n",
    "\n",
    "data_ind_test=data_ind[['image_path','signType']]\n",
    "\n",
    "ind_tst_datagen = ImageDataGenerator(rescale=1./255, data_format='channels_last')\n",
    "\n",
    "ind_test_generator = ind_tst_datagen.flow_from_dataframe(\n",
    "    dataframe=data_ind_test,\n",
    "    directory='./',\n",
    "    x_col=\"image_path\",\n",
    "    y_col=\"signType\",\n",
    "    target_size=(28, 28),\n",
    "    batch_size=1,\n",
    "    shuffle=False,\n",
    "    class_mode='categorical')\n"
   ]
  },
  {
   "cell_type": "code",
   "execution_count": 12,
   "metadata": {},
   "outputs": [],
   "source": [
    "def ind_eval_m(history):\n",
    "    ind_test_generator.reset()\n",
    "    Y_pred = model.predict_generator(ind_test_generator)\n",
    "    y_pred= np.argmax(Y_pred, axis=1)\n",
    "    print('Confusion Matrix')\n",
    "    print(confusion_matrix(ind_test_generator.classes, y_pred))\n",
    "    print('Classification Report')\n",
    "    target_names = ['bicycle', 'continue', 'crossing','giveway','laneend','limitedtraffic','noentry','noparking','parking','rightofway','roundabout','speed','stop','trafficdirective','traveldirection','warning']\n",
    "    print(classification_report(ind_test_generator.classes, y_pred, target_names=target_names))"
   ]
  },
  {
   "cell_type": "markdown",
   "metadata": {},
   "source": [
    "# Predict the Type of the traffic sign"
   ]
  },
  {
   "cell_type": "markdown",
   "metadata": {},
   "source": [
    "#### Test Train validation Split"
   ]
  },
  {
   "cell_type": "code",
   "execution_count": 13,
   "metadata": {},
   "outputs": [
    {
     "data": {
      "text/html": [
       "<div>\n",
       "<style scoped>\n",
       "    .dataframe tbody tr th:only-of-type {\n",
       "        vertical-align: middle;\n",
       "    }\n",
       "\n",
       "    .dataframe tbody tr th {\n",
       "        vertical-align: top;\n",
       "    }\n",
       "\n",
       "    .dataframe thead th {\n",
       "        text-align: right;\n",
       "    }\n",
       "</style>\n",
       "<table border=\"1\" class=\"dataframe\">\n",
       "  <thead>\n",
       "    <tr style=\"text-align: right;\">\n",
       "      <th></th>\n",
       "      <th>image_path</th>\n",
       "      <th>signType</th>\n",
       "    </tr>\n",
       "  </thead>\n",
       "  <tbody>\n",
       "    <tr>\n",
       "      <th>0</th>\n",
       "      <td>trafficsigns_dataset\\diamond\\rightofway\\00032_...</td>\n",
       "      <td>rightofway</td>\n",
       "    </tr>\n",
       "    <tr>\n",
       "      <th>1</th>\n",
       "      <td>trafficsigns_dataset\\diamond\\rightofway\\00032_...</td>\n",
       "      <td>rightofway</td>\n",
       "    </tr>\n",
       "    <tr>\n",
       "      <th>2</th>\n",
       "      <td>trafficsigns_dataset\\diamond\\rightofway\\00032_...</td>\n",
       "      <td>rightofway</td>\n",
       "    </tr>\n",
       "    <tr>\n",
       "      <th>3</th>\n",
       "      <td>trafficsigns_dataset\\diamond\\rightofway\\00037_...</td>\n",
       "      <td>rightofway</td>\n",
       "    </tr>\n",
       "    <tr>\n",
       "      <th>4</th>\n",
       "      <td>trafficsigns_dataset\\diamond\\rightofway\\00037_...</td>\n",
       "      <td>rightofway</td>\n",
       "    </tr>\n",
       "  </tbody>\n",
       "</table>\n",
       "</div>"
      ],
      "text/plain": [
       "                                          image_path    signType\n",
       "0  trafficsigns_dataset\\diamond\\rightofway\\00032_...  rightofway\n",
       "1  trafficsigns_dataset\\diamond\\rightofway\\00032_...  rightofway\n",
       "2  trafficsigns_dataset\\diamond\\rightofway\\00032_...  rightofway\n",
       "3  trafficsigns_dataset\\diamond\\rightofway\\00037_...  rightofway\n",
       "4  trafficsigns_dataset\\diamond\\rightofway\\00037_...  rightofway"
      ]
     },
     "execution_count": 13,
     "metadata": {},
     "output_type": "execute_result"
    }
   ],
   "source": [
    "data_type.head()"
   ]
  },
  {
   "cell_type": "code",
   "execution_count": 14,
   "metadata": {},
   "outputs": [],
   "source": [
    "X=data_type[['image_path']]\n",
    "Y=data_type[['signType']]"
   ]
  },
  {
   "cell_type": "code",
   "execution_count": 15,
   "metadata": {},
   "outputs": [],
   "source": [
    "from sklearn.model_selection import train_test_split\n",
    "\n",
    "trainX, testX, trainY, testY= train_test_split(X,Y,test_size=0.1,random_state=100)\n"
   ]
  },
  {
   "cell_type": "code",
   "execution_count": 16,
   "metadata": {},
   "outputs": [
    {
     "name": "stdout",
     "output_type": "stream",
     "text": [
      "(3329, 1)\n",
      "(370, 1)\n",
      "(3329, 1)\n",
      "(370, 1)\n"
     ]
    }
   ],
   "source": [
    "print(trainX.shape)\n",
    "print(testX.shape)\n",
    "print(trainY.shape)\n",
    "print(testY.shape)"
   ]
  },
  {
   "cell_type": "code",
   "execution_count": 17,
   "metadata": {
    "scrolled": true
   },
   "outputs": [
    {
     "data": {
      "text/plain": [
       "warning             70\n",
       "noentry             41\n",
       "parking             33\n",
       "noparking           30\n",
       "bicycle             28\n",
       "speed               26\n",
       "giveway             24\n",
       "rightofway          21\n",
       "trafficdirective    21\n",
       "continue            18\n",
       "crossing            12\n",
       "laneend             12\n",
       "limitedtraffic      11\n",
       "traveldirection      9\n",
       "stop                 9\n",
       "roundabout           5\n",
       "Name: signType, dtype: int64"
      ]
     },
     "execution_count": 17,
     "metadata": {},
     "output_type": "execute_result"
    }
   ],
   "source": [
    "testY.signType.value_counts()"
   ]
  },
  {
   "cell_type": "code",
   "execution_count": 18,
   "metadata": {
    "scrolled": true
   },
   "outputs": [
    {
     "data": {
      "text/plain": [
       "warning             625\n",
       "noentry             334\n",
       "speed               290\n",
       "rightofway          261\n",
       "bicycle             257\n",
       "parking             243\n",
       "noparking           212\n",
       "giveway             207\n",
       "continue            181\n",
       "trafficdirective    174\n",
       "traveldirection     115\n",
       "limitedtraffic      114\n",
       "laneend             106\n",
       "roundabout           93\n",
       "crossing             83\n",
       "stop                 34\n",
       "Name: signType, dtype: int64"
      ]
     },
     "execution_count": 18,
     "metadata": {},
     "output_type": "execute_result"
    }
   ],
   "source": [
    "trainY.signType.value_counts()"
   ]
  },
  {
   "cell_type": "code",
   "execution_count": 19,
   "metadata": {},
   "outputs": [],
   "source": [
    "trainX1, valX, trainY1, valY= train_test_split(trainX,trainY,test_size=0.2,random_state=231)"
   ]
  },
  {
   "cell_type": "code",
   "execution_count": 20,
   "metadata": {},
   "outputs": [
    {
     "name": "stdout",
     "output_type": "stream",
     "text": [
      "(2663, 1)\n",
      "(666, 1)\n",
      "(2663, 1)\n",
      "(666, 1)\n"
     ]
    }
   ],
   "source": [
    "print(trainX1.shape)\n",
    "print(valX.shape)\n",
    "print(trainY1.shape)\n",
    "print(valY.shape)\n"
   ]
  },
  {
   "cell_type": "code",
   "execution_count": null,
   "metadata": {},
   "outputs": [],
   "source": []
  },
  {
   "cell_type": "code",
   "execution_count": 21,
   "metadata": {
    "scrolled": true
   },
   "outputs": [
    {
     "data": {
      "text/plain": [
       "warning             511\n",
       "noentry             253\n",
       "speed               237\n",
       "rightofway          210\n",
       "bicycle             195\n",
       "parking             192\n",
       "noparking           177\n",
       "giveway             163\n",
       "continue            146\n",
       "trafficdirective    140\n",
       "traveldirection      95\n",
       "limitedtraffic       90\n",
       "laneend              86\n",
       "roundabout           71\n",
       "crossing             67\n",
       "stop                 30\n",
       "Name: signType, dtype: int64"
      ]
     },
     "execution_count": 21,
     "metadata": {},
     "output_type": "execute_result"
    }
   ],
   "source": [
    "trainY1['signType'].value_counts()"
   ]
  },
  {
   "cell_type": "code",
   "execution_count": 22,
   "metadata": {},
   "outputs": [],
   "source": [
    "train_df=pd.concat([trainX1,trainY1],axis=1)\n",
    "val_df=pd.concat([valX,valY],axis=1)\n",
    "test_df=pd.concat([testX,testY],axis=1)"
   ]
  },
  {
   "cell_type": "code",
   "execution_count": 23,
   "metadata": {},
   "outputs": [],
   "source": [
    "N_train_images = train_df.shape[0]\n",
    "N_val_images = val_df.shape[0]\n",
    "N_test_images=test_df.shape[0]"
   ]
  },
  {
   "cell_type": "code",
   "execution_count": 24,
   "metadata": {
    "scrolled": true
   },
   "outputs": [
    {
     "name": "stdout",
     "output_type": "stream",
     "text": [
      "Training data shape:    (2663, 2)\n",
      "Validation data shape:  (666, 2)\n",
      "Testing data shape:     (370, 2)\n"
     ]
    }
   ],
   "source": [
    "print(\"Training data shape:   \",train_df.shape)\n",
    "print(\"Validation data shape: \",val_df.shape)\n",
    "print(\"Testing data shape:    \",test_df.shape)"
   ]
  },
  {
   "cell_type": "markdown",
   "metadata": {},
   "source": [
    "##### Calculating the weights for the model"
   ]
  },
  {
   "cell_type": "code",
   "execution_count": 25,
   "metadata": {},
   "outputs": [],
   "source": [
    "from sklearn.utils import class_weight\n",
    "ytrain = np.array(train_df['signType'])\n",
    "class_weights = class_weight.compute_class_weight('balanced', np.unique(ytrain), ytrain)"
   ]
  },
  {
   "cell_type": "markdown",
   "metadata": {},
   "source": [
    "## Creating Test/Train/Validation Data Generators"
   ]
  },
  {
   "cell_type": "code",
   "execution_count": 26,
   "metadata": {},
   "outputs": [],
   "source": [
    "train_datagen = ImageDataGenerator(rescale=1./255, data_format='channels_last')\n",
    "val_datagen = ImageDataGenerator(rescale=1./255, data_format='channels_last')\n",
    "tst_datagen = ImageDataGenerator(rescale=1./255, data_format='channels_last')"
   ]
  },
  {
   "cell_type": "markdown",
   "metadata": {},
   "source": [
    "##### Train Data Generator"
   ]
  },
  {
   "cell_type": "code",
   "execution_count": 27,
   "metadata": {},
   "outputs": [
    {
     "name": "stdout",
     "output_type": "stream",
     "text": [
      "Found 2663 validated image filenames belonging to 16 classes.\n"
     ]
    }
   ],
   "source": [
    "batch_size = 32\n",
    "train_generator = train_datagen.flow_from_dataframe(\n",
    "    dataframe=train_df,\n",
    "    directory='./',\n",
    "    x_col=\"image_path\",\n",
    "    y_col=\"signType\",\n",
    "    target_size=(28, 28),\n",
    "    batch_size=batch_size,\n",
    "    class_mode='categorical')"
   ]
  },
  {
   "cell_type": "markdown",
   "metadata": {},
   "source": [
    "##### Validation Data Generator"
   ]
  },
  {
   "cell_type": "code",
   "execution_count": 28,
   "metadata": {},
   "outputs": [
    {
     "name": "stdout",
     "output_type": "stream",
     "text": [
      "Found 666 validated image filenames belonging to 16 classes.\n"
     ]
    }
   ],
   "source": [
    "validation_generator = val_datagen.flow_from_dataframe(\n",
    "    dataframe=val_df,\n",
    "    directory='./',\n",
    "    x_col=\"image_path\",\n",
    "    y_col=\"signType\",\n",
    "    target_size=(28, 28),\n",
    "    batch_size=batch_size,\n",
    "    class_mode='categorical')\n"
   ]
  },
  {
   "cell_type": "markdown",
   "metadata": {},
   "source": [
    "##### Test Data Generator"
   ]
  },
  {
   "cell_type": "code",
   "execution_count": 29,
   "metadata": {},
   "outputs": [
    {
     "name": "stdout",
     "output_type": "stream",
     "text": [
      "Found 370 validated image filenames belonging to 16 classes.\n"
     ]
    }
   ],
   "source": [
    "\n",
    "test_generator = tst_datagen.flow_from_dataframe(\n",
    "    dataframe=test_df,\n",
    "    directory='./',\n",
    "    x_col=\"image_path\",\n",
    "    y_col=\"signType\",\n",
    "    target_size=(28, 28),\n",
    "    batch_size=1,\n",
    "    shuffle=False,\n",
    "    class_mode='categorical')"
   ]
  },
  {
   "cell_type": "markdown",
   "metadata": {},
   "source": [
    "### Defining Neural Net Architecture with 1 hidden layer using ReLU/sigmoid/softmax activations"
   ]
  },
  {
   "cell_type": "markdown",
   "metadata": {},
   "source": [
    "###### Model 1"
   ]
  },
  {
   "cell_type": "code",
   "execution_count": 58,
   "metadata": {},
   "outputs": [
    {
     "name": "stdout",
     "output_type": "stream",
     "text": [
      "Model: \"model_6\"\n",
      "_________________________________________________________________\n",
      "Layer (type)                 Output Shape              Param #   \n",
      "=================================================================\n",
      "input_12 (InputLayer)        [(None, 28, 28, 3)]       0         \n",
      "_________________________________________________________________\n",
      "lambda_16 (Lambda)           (None, 28, 28, 1)         0         \n",
      "_________________________________________________________________\n",
      "flatten_17 (Flatten)         (None, 784)               0         \n",
      "_________________________________________________________________\n",
      "dense_34 (Dense)             (None, 64)                50240     \n",
      "_________________________________________________________________\n",
      "activation_57 (Activation)   (None, 64)                0         \n",
      "_________________________________________________________________\n",
      "dense_35 (Dense)             (None, 16)                1040      \n",
      "_________________________________________________________________\n",
      "activation_58 (Activation)   (None, 16)                0         \n",
      "=================================================================\n",
      "Total params: 51,280\n",
      "Trainable params: 51,280\n",
      "Non-trainable params: 0\n",
      "_________________________________________________________________\n"
     ]
    }
   ],
   "source": [
    "input_ = Input(shape=(28, 28, 3))\n",
    "input_slice = Lambda(lambda x: tf.expand_dims(x[:,:,:,0], -1, name=None))(input_)\n",
    "x = Flatten()(input_slice)\n",
    "#Hidden layer\n",
    "h = Dense(64)(x)\n",
    "h = Activation('sigmoid')(h)\n",
    "# Output layer\n",
    "out_ = Dense(16)(h)\n",
    "out_ = Activation('softmax')(out_)\n",
    "\n",
    "model_1 = Model(inputs=input_, outputs=out_) # Setup the model\n",
    "\n",
    "sgd = optimizers.SGD(lr=0.01, decay=1e-6, momentum=0.9, nesterov=True)\n",
    "model_1.compile(loss='categorical_crossentropy',optimizer=sgd,metrics=['accuracy'])\n",
    "\n",
    "model_1.summary()"
   ]
  },
  {
   "cell_type": "markdown",
   "metadata": {},
   "source": [
    "###### Model 2"
   ]
  },
  {
   "cell_type": "code",
   "execution_count": 59,
   "metadata": {},
   "outputs": [
    {
     "name": "stdout",
     "output_type": "stream",
     "text": [
      "Model: \"model_7\"\n",
      "_________________________________________________________________\n",
      "Layer (type)                 Output Shape              Param #   \n",
      "=================================================================\n",
      "input_13 (InputLayer)        [(None, 28, 28, 3)]       0         \n",
      "_________________________________________________________________\n",
      "lambda_17 (Lambda)           (None, 28, 28, 1)         0         \n",
      "_________________________________________________________________\n",
      "flatten_18 (Flatten)         (None, 784)               0         \n",
      "_________________________________________________________________\n",
      "dense_36 (Dense)             (None, 64)                50240     \n",
      "_________________________________________________________________\n",
      "activation_59 (Activation)   (None, 64)                0         \n",
      "_________________________________________________________________\n",
      "dense_37 (Dense)             (None, 16)                1040      \n",
      "_________________________________________________________________\n",
      "activation_60 (Activation)   (None, 16)                0         \n",
      "=================================================================\n",
      "Total params: 51,280\n",
      "Trainable params: 51,280\n",
      "Non-trainable params: 0\n",
      "_________________________________________________________________\n"
     ]
    }
   ],
   "source": [
    "input_ = Input(shape=(28, 28, 3))\n",
    "input_slice = Lambda(lambda x: tf.expand_dims(x[:,:,:,0], -1, name=None))(input_)\n",
    "x = Flatten()(input_slice)\n",
    "#Hidden layer\n",
    "h = Dense(64)(x)\n",
    "h = Activation('relu')(h)\n",
    "# Output layer\n",
    "out_ = Dense(16)(h)\n",
    "out_ = Activation('softmax')(out_)\n",
    "\n",
    "model_2 = Model(inputs=input_, outputs=out_) # Setup the model\n",
    "\n",
    "sgd = optimizers.SGD(lr=0.01, decay=1e-6, momentum=0.9, nesterov=True)\n",
    "model_2.compile(loss='categorical_crossentropy',optimizer=sgd,metrics=['accuracy'])\n",
    "\n",
    "model_2.summary()"
   ]
  },
  {
   "cell_type": "markdown",
   "metadata": {},
   "source": [
    "#### Model 3 Including Regularization"
   ]
  },
  {
   "cell_type": "code",
   "execution_count": 60,
   "metadata": {},
   "outputs": [
    {
     "name": "stdout",
     "output_type": "stream",
     "text": [
      "Model: \"model_8\"\n",
      "_________________________________________________________________\n",
      "Layer (type)                 Output Shape              Param #   \n",
      "=================================================================\n",
      "input_14 (InputLayer)        [(None, 28, 28, 3)]       0         \n",
      "_________________________________________________________________\n",
      "lambda_18 (Lambda)           (None, 28, 28, 1)         0         \n",
      "_________________________________________________________________\n",
      "flatten_19 (Flatten)         (None, 784)               0         \n",
      "_________________________________________________________________\n",
      "dense_38 (Dense)             (None, 64)                50240     \n",
      "_________________________________________________________________\n",
      "hidden_layer (Activation)    (None, 64)                0         \n",
      "_________________________________________________________________\n",
      "dense_39 (Dense)             (None, 16)                1040      \n",
      "_________________________________________________________________\n",
      "activation_61 (Activation)   (None, 16)                0         \n",
      "=================================================================\n",
      "Total params: 51,280\n",
      "Trainable params: 51,280\n",
      "Non-trainable params: 0\n",
      "_________________________________________________________________\n"
     ]
    }
   ],
   "source": [
    "# Input layer\n",
    "input_ = Input(shape=(28, 28, 3)) # This is the input shape\n",
    "input_slice = Lambda(lambda x: tf.expand_dims(x[:,:,:,0], -1, name=None))(input_)\n",
    "x = Flatten()(input_slice)  # This will convert the 28x28 input to a vector of  dimension 784\n",
    "\n",
    "# Hidden layer\n",
    "h = Dense(64,kernel_regularizer=regularizers.l2(0.01))(x) # reg for weight matrix 1\n",
    "h = Activation('relu', name='hidden_layer')(h)\n",
    "\n",
    "# Output layer\n",
    "out_ = Dense(16,kernel_regularizer=regularizers.l2(0.01))(h) # reg for weight matrix 2\n",
    "out_ = Activation('softmax')(out_)\n",
    "\n",
    "# Define model\n",
    "model_reg = Model(inputs=input_, outputs=out_)\n",
    "\n",
    "sgd = optimizers.SGD(lr=0.01, decay=1e-6, momentum=0.9, nesterov=True)\n",
    "model_reg.compile(loss='categorical_crossentropy',\n",
    "              optimizer=sgd,\n",
    "              metrics=[categorical_accuracy])\n",
    "\n",
    "\n",
    "model_reg.summary()\n",
    "\n",
    "# Creating a model for feature vizualization (will be explained later)\n",
    "hidden_features = Model(inputs=input_, outputs=h)"
   ]
  },
  {
   "cell_type": "markdown",
   "metadata": {},
   "source": [
    "###### Model 4  Trying drop outs, Model 5 using adam optimizer"
   ]
  },
  {
   "cell_type": "code",
   "execution_count": 61,
   "metadata": {},
   "outputs": [
    {
     "name": "stdout",
     "output_type": "stream",
     "text": [
      "Model: \"model_10\"\n",
      "_________________________________________________________________\n",
      "Layer (type)                 Output Shape              Param #   \n",
      "=================================================================\n",
      "input_15 (InputLayer)        [(None, 28, 28, 3)]       0         \n",
      "_________________________________________________________________\n",
      "lambda_19 (Lambda)           (None, 28, 28, 1)         0         \n",
      "_________________________________________________________________\n",
      "flatten_20 (Flatten)         (None, 784)               0         \n",
      "_________________________________________________________________\n",
      "dense_40 (Dense)             (None, 64)                50240     \n",
      "_________________________________________________________________\n",
      "activation_62 (Activation)   (None, 64)                0         \n",
      "_________________________________________________________________\n",
      "dropout_14 (Dropout)         (None, 64)                0         \n",
      "_________________________________________________________________\n",
      "dense_41 (Dense)             (None, 16)                1040      \n",
      "_________________________________________________________________\n",
      "activation_63 (Activation)   (None, 16)                0         \n",
      "=================================================================\n",
      "Total params: 51,280\n",
      "Trainable params: 51,280\n",
      "Non-trainable params: 0\n",
      "_________________________________________________________________\n",
      "Model: \"model_11\"\n",
      "_________________________________________________________________\n",
      "Layer (type)                 Output Shape              Param #   \n",
      "=================================================================\n",
      "input_16 (InputLayer)        [(None, 28, 28, 3)]       0         \n",
      "_________________________________________________________________\n",
      "tf_op_layer_strided_slice_1  [(None, 28, 28)]          0         \n",
      "_________________________________________________________________\n",
      "tf_op_layer_ExpandDims_1 (Te [(None, 28, 28, 1)]       0         \n",
      "_________________________________________________________________\n",
      "flatten_21 (Flatten)         (None, 784)               0         \n",
      "_________________________________________________________________\n",
      "dense_42 (Dense)             (None, 64)                50240     \n",
      "_________________________________________________________________\n",
      "activation_64 (Activation)   (None, 64)                0         \n",
      "_________________________________________________________________\n",
      "dropout_15 (Dropout)         (None, 64)                0         \n",
      "_________________________________________________________________\n",
      "dense_43 (Dense)             (None, 16)                1040      \n",
      "_________________________________________________________________\n",
      "activation_65 (Activation)   (None, 16)                0         \n",
      "=================================================================\n",
      "Total params: 51,280\n",
      "Trainable params: 51,280\n",
      "Non-trainable params: 0\n",
      "_________________________________________________________________\n"
     ]
    }
   ],
   "source": [
    "\n",
    "# Input layer\n",
    "input_ = Input(shape=(28, 28, 3)) # This is the input shape\n",
    "input_slice = Lambda(lambda x: tf.expand_dims(x[:,:,:,0], -1, name=None))(input_)\n",
    "x = Flatten()(input_slice)  # This will convert the 28x28 input to a vector of  dimension 784\n",
    "\n",
    "# Hidden layer\n",
    "h = Dense(64)(x) \n",
    "h = Activation('relu')(h)\n",
    "h= Dropout(rate=0.5)(h)\n",
    "\n",
    "# Output layer\n",
    "out_ = Dense(16)(h) \n",
    "out_ = Activation('softmax')(out_)\n",
    "\n",
    "# Define model\n",
    "model_drop = Model(inputs=input_, outputs=out_)\n",
    "\n",
    "sgd = optimizers.SGD(lr=0.01, decay=1e-6, momentum=0.9, nesterov=True)\n",
    "model_drop.compile(loss='categorical_crossentropy',\n",
    "              optimizer=sgd,\n",
    "              metrics=[categorical_accuracy])\n",
    "\n",
    "\n",
    "\n",
    "model_drop.summary()\n",
    "\n",
    "\n",
    "\n",
    "\n",
    "# Input layer\n",
    "input_ = Input(shape=(28, 28, 3)) # This is the input shape\n",
    "input_slice = (lambda x: tf.expand_dims(x[:,:,:,0], -1, name=None))(input_)\n",
    "x = Flatten()(input_slice)  # This will convert the 28x28 input to a vector of  dimension 784\n",
    "\n",
    "\n",
    "# Hidden layer\n",
    "h = Dense(64)(x) \n",
    "h = Activation('relu')(h)\n",
    "h= Dropout(rate=0.5)(h)\n",
    "\n",
    "# Output layer\n",
    "out_ = Dense(16)(h) \n",
    "out_ = Activation('softmax')(out_)\n",
    "\n",
    "# Define model using adam optimizer\n",
    "model_drop_a = Model(inputs=input_, outputs=out_)\n",
    "\n",
    "\n",
    "model_drop_a.compile(loss='categorical_crossentropy',\n",
    "              optimizer='adam',\n",
    "              metrics=[categorical_accuracy])\n",
    "\n",
    "\n",
    "model_drop_a.summary()\n",
    "\n"
   ]
  },
  {
   "cell_type": "markdown",
   "metadata": {},
   "source": [
    "##### Creating model functions"
   ]
  },
  {
   "cell_type": "code",
   "execution_count": 62,
   "metadata": {},
   "outputs": [],
   "source": [
    "def calculate_losses(model_, data_generator_, N_images, batch_size_):\n",
    "    loss_hold = []\n",
    "    acc_hold = []\n",
    "    batches = 0\n",
    "    for x,y in data_generator_:\n",
    "        loss,acc = model_.evaluate(x, y, verbose=0)\n",
    "        loss_hold.append(loss)\n",
    "        acc_hold.append(acc)\n",
    "        batches += 1\n",
    "        if batches >= N_images / batch_size_:\n",
    "            # we need to break the loop by hand because# the generator loops indefinitely\n",
    "            break\n",
    "    return np.mean(loss_hold), np.mean(acc_hold)"
   ]
  },
  {
   "cell_type": "code",
   "execution_count": 63,
   "metadata": {},
   "outputs": [],
   "source": [
    "def train_model(model_, num_epoch=100, verbose=1):\n",
    "    res = []\n",
    "    for e in range(num_epoch):\n",
    "        # print('Epoch', e)\n",
    "        batches = 0\n",
    "\n",
    "        loss_ = []\n",
    "        acc_ = []\n",
    "\n",
    "         # iterate over each batch\n",
    "        for x,y in train_generator:\n",
    "            loss, acc = model_.train_on_batch(x, y) # Update weights and return train loss, acc per batch\n",
    "            loss_.append(loss)\n",
    "            acc_.append(acc)\n",
    "            batches += 1\n",
    "            if batches >= N_train_images / batch_size:\n",
    "                # we need to break the loop by hand because\n",
    "                # the generator loops indefinitely\n",
    "                break\n",
    "        loss_ = np.mean(loss_)\n",
    "        acc_ = np.mean(acc_)\n",
    "\n",
    "        loss, acc = calculate_losses(model_, validation_generator, N_val_images, batch_size)\n",
    "        if verbose:\n",
    "            print(\"Training epoch {}: Loss = {}, Accuracy = {}\".format(e, loss_, acc_))\n",
    "            print(\"Validation epoch {}: Loss = {}, Accuracy = {}\".format(e, loss, acc))\n",
    "\n",
    "        res.append((e, loss_, acc_, loss, acc))\n",
    "    return np.asarray(res)"
   ]
  },
  {
   "cell_type": "code",
   "execution_count": null,
   "metadata": {},
   "outputs": [],
   "source": []
  },
  {
   "cell_type": "code",
   "execution_count": 36,
   "metadata": {},
   "outputs": [],
   "source": [
    "\n",
    "\n",
    "\n",
    "def train_model_weighted(model_, num_epoch=100, verbose=1):\n",
    "    res = []\n",
    "    for e in range(num_epoch):\n",
    "        # print('Epoch', e)\n",
    "        batches = 0\n",
    "\n",
    "        loss_ = []\n",
    "        acc_ = []\n",
    "\n",
    "         # iterate over each batch\n",
    "        for x,y in train_generator:\n",
    "            loss, acc = model_.train_on_batch(x, y, \n",
    "                                              class_weight=class_weights) # Update weights and return train loss, acc per batch\n",
    "            loss_.append(loss)\n",
    "            acc_.append(acc)\n",
    "            batches += 1\n",
    "            if batches >= N_train_images / batch_size:\n",
    "                # we need to break the loop by hand because\n",
    "                # the generator loops indefinitely\n",
    "                break\n",
    "        loss_ = np.mean(loss_)\n",
    "        acc_ = np.mean(acc_)\n",
    "\n",
    "        loss, acc = calculate_losses(model_, validation_generator, N_val_images, batch_size)\n",
    "        if verbose:\n",
    "            print(\"Training epoch {}: Loss = {}, Accuracy = {}\".format(e, loss_, acc_))\n",
    "            print(\"Validation epoch {}: Loss = {}, Accuracy = {}\".format(e, loss, acc))\n",
    "\n",
    "        res.append((e, loss_, acc_, loss, acc))\n",
    "    return np.asarray(res)"
   ]
  },
  {
   "cell_type": "code",
   "execution_count": 37,
   "metadata": {},
   "outputs": [],
   "source": [
    "def plot_results(res):\n",
    "    plt.figure(figsize=(12,4))\n",
    "    plt.subplot(1,2,1)\n",
    "    plt.plot(res[:,0], res[:,1], 'r-')\n",
    "    plt.plot(res[:,0], res[:,3], 'b-')\n",
    "    plt.legend(['Train', 'Validation'])\n",
    "    plt.xlabel('epoch')\n",
    "    plt.ylabel('Loss')\n",
    "    plt.ylim([0, np.max([5., np.max(res[:,1]), np.max(res[:,3])])])\n",
    "\n",
    "    plt.subplot(1,2,2)\n",
    "    plt.plot(res[:,0], res[:,2], 'r-')\n",
    "    plt.plot(res[:,0], res[:,4], 'b-')\n",
    "    plt.legend(['Train', 'Validation'])\n",
    "    plt.xlabel('epoch')\n",
    "    plt.ylabel('Accuracy')\n",
    "    plt.ylim([0, np.max([1., np.max(res[:,2]), np.max(res[:,4])])])\n",
    "    plt.show()"
   ]
  },
  {
   "cell_type": "code",
   "execution_count": 38,
   "metadata": {
    "scrolled": true
   },
   "outputs": [],
   "source": [
    "#Confution Matrix and Classification Report\n",
    "\n",
    "def eval_m(mod):\n",
    "    test_generator.reset()\n",
    "    Y_pred = mod.predict_generator(test_generator)\n",
    "    y_pred= np.argmax(Y_pred, axis=1)\n",
    "    print('Confusion Matrix')\n",
    "    print(confusion_matrix(test_generator.classes, y_pred))\n",
    "    print('Classification Report')\n",
    "    target_names = ['bicycle', 'continue', 'crossing','giveway','laneend','limitedtraffic','noentry','noparking','parking','rightofway','roundabout','speed','stop','trafficdirective','traveldirection','warning']\n",
    "    print(classification_report(test_generator.classes, y_pred, target_names=target_names))"
   ]
  },
  {
   "cell_type": "markdown",
   "metadata": {},
   "source": [
    "##### Training and evaluating model 1-5 "
   ]
  },
  {
   "cell_type": "code",
   "execution_count": 39,
   "metadata": {},
   "outputs": [
    {
     "name": "stdout",
     "output_type": "stream",
     "text": [
      "*******************************CNN model Start************************************\n",
      "\n",
      "\n"
     ]
    },
    {
     "data": {
      "image/png": "[encoded data removed]",
      "text/plain": [
       "<Figure size 864x288 with 2 Axes>"
      ]
     },
     "metadata": {
      "needs_background": "light"
     },
     "output_type": "display_data"
    },
    {
     "name": "stdout",
     "output_type": "stream",
     "text": [
      "WARNING:tensorflow:From <ipython-input-38-17a1ec7826a0>:5: Model.predict_generator (from tensorflow.python.keras.engine.training) is deprecated and will be removed in a future version.\n",
      "Instructions for updating:\n",
      "Please use Model.predict, which supports generators.\n",
      "Confusion Matrix\n",
      "[[28  0  0  0  0  0  0  0  0  0  0  0  0  0  0  0]\n",
      " [ 0 18  0  0  0  0  0  0  0  0  0  0  0  0  0  0]\n",
      " [ 0  0 12  0  0  0  0  0  0  0  0  0  0  0  0  0]\n",
      " [ 0  0  0 24  0  0  0  0  0  0  0  0  0  0  0  0]\n",
      " [ 0  0  0  0 12  0  0  0  0  0  0  0  0  0  0  0]\n",
      " [ 0  0  0  0  0 11  0  0  0  0  0  0  0  0  0  0]\n",
      " [ 1  0  0  0  0  0 38  1  0  1  0  0  0  0  0  0]\n",
      " [ 0  0  0  0  0  0  0 30  0  0  0  0  0  0  0  0]\n",
      " [ 0  0  0  0  0  0  0  0 33  0  0  0  0  0  0  0]\n",
      " [ 0  0  0  0  0  0  0  0  0 20  0  0  0  0  0  1]\n",
      " [ 0  0  0  0  0  0  0  0  0  0  5  0  0  0  0  0]\n",
      " [ 0  0  0  0  0  1  0  0  0  0  0 25  0  0  0  0]\n",
      " [ 0  0  0  0  0  0  0  0  0  0  0  0  9  0  0  0]\n",
      " [ 0  0  0  0  0  3  0  0  0  0  0  1  0 17  0  0]\n",
      " [ 0  0  0  0  0  0  0  0  0  0  0  0  0  0  9  0]\n",
      " [ 0  0  0  0  1  0  0  0  0  0  0  0  0  0  0 69]]\n",
      "Classification Report\n",
      "                  precision    recall  f1-score   support\n",
      "\n",
      "         bicycle       0.97      1.00      0.98        28\n",
      "        continue       1.00      1.00      1.00        18\n",
      "        crossing       1.00      1.00      1.00        12\n",
      "         giveway       1.00      1.00      1.00        24\n",
      "         laneend       0.92      1.00      0.96        12\n",
      "  limitedtraffic       0.73      1.00      0.85        11\n",
      "         noentry       1.00      0.93      0.96        41\n",
      "       noparking       0.97      1.00      0.98        30\n",
      "         parking       1.00      1.00      1.00        33\n",
      "      rightofway       0.95      0.95      0.95        21\n",
      "      roundabout       1.00      1.00      1.00         5\n",
      "           speed       0.96      0.96      0.96        26\n",
      "            stop       1.00      1.00      1.00         9\n",
      "trafficdirective       1.00      0.81      0.89        21\n",
      " traveldirection       1.00      1.00      1.00         9\n",
      "         warning       0.99      0.99      0.99        70\n",
      "\n",
      "        accuracy                           0.97       370\n",
      "       macro avg       0.97      0.98      0.97       370\n",
      "    weighted avg       0.98      0.97      0.97       370\n",
      "\n",
      "\n",
      "\n",
      "**********Independ evealuation result model\n",
      "Confusion Matrix\n",
      "[[ 1  0  0  1  0  0  0  2  0  1  0  0  0  1  1  0]\n",
      " [ 0  3  0  0  0  0  0  0  0  0  0  0  0  0  0  0]\n",
      " [ 0  0  0  0  0  0  0  1  0  1  0  0  0  0  0  2]\n",
      " [ 0  0  0 14  0  0  0  0  0  0  0  0  0  0  0  0]\n",
      " [ 0  1  0  0  3  0  1  0  0  0  0  0  0  0  0  0]\n",
      " [ 0  0  0  1  0  4  0  0  0  3  0  0  0  0  1  1]\n",
      " [ 0  0  0  0  0  0  1  0  4  0  0  0  0  6  0  0]\n",
      " [ 1  0  0  0  0  0  0  3  1  2  0  0  0  0  0  0]\n",
      " [ 1  0  0  0  0  0  0  0  4  0  0  0  0  0  0  0]\n",
      " [ 0  0  0  1  0  0  2  6  0 14  0  0  0  0  1  0]\n",
      " [ 0  0  0  0  0  0  0  0  4  5  0  0  0  0  0  0]\n",
      " [ 0  0  0  0  0  0  0  5  1  9  0  0  0  0  0  0]\n",
      " [ 0  0  0  0  0  1 19  0  0  1  0  0  0  0  0  0]\n",
      " [ 0  0  0  0  0  0  0  0  3  0  0  0  0  3  0  0]\n",
      " [ 0  6  1  0  0  0  0  4  0  0  0  4  0  1  1  0]\n",
      " [ 1  0  0  0  0  0  0  3  0  0  0  0  0  0  0 11]]\n",
      "Classification Report\n",
      "                  precision    recall  f1-score   support\n",
      "\n",
      "         bicycle       0.25      0.14      0.18         7\n",
      "        continue       0.30      1.00      0.46         3\n",
      "        crossing       0.00      0.00      0.00         4\n",
      "         giveway       0.82      1.00      0.90        14\n",
      "         laneend       1.00      0.60      0.75         5\n",
      "  limitedtraffic       0.80      0.40      0.53        10\n",
      "         noentry       0.04      0.09      0.06        11\n",
      "       noparking       0.12      0.43      0.19         7\n",
      "         parking       0.24      0.80      0.36         5\n",
      "      rightofway       0.39      0.58      0.47        24\n",
      "      roundabout       0.00      0.00      0.00         9\n",
      "           speed       0.00      0.00      0.00        15\n",
      "            stop       0.00      0.00      0.00        21\n",
      "trafficdirective       0.27      0.50      0.35         6\n",
      " traveldirection       0.25      0.06      0.10        17\n",
      "         warning       0.79      0.73      0.76        15\n",
      "\n",
      "        accuracy                           0.36       173\n",
      "       macro avg       0.33      0.40      0.32       173\n",
      "    weighted avg       0.33      0.36      0.32       173\n",
      "\n",
      "*******************************CNN model END************************************\n",
      "*******************************CNN model_1 Start************************************\n",
      "\n",
      "\n"
     ]
    },
    {
     "name": "stderr",
     "output_type": "stream",
     "text": [
      "C:\\Users\\Akshay\\Anaconda3\\lib\\site-packages\\sklearn\\metrics\\_classification.py:1272: UndefinedMetricWarning: Precision and F-score are ill-defined and being set to 0.0 in labels with no predicted samples. Use `zero_division` parameter to control this behavior.\n",
      "  _warn_prf(average, modifier, msg_start, len(result))\n"
     ]
    },
    {
     "data": {
      "image/png": "[encoded data removed]",
      "text/plain": [
       "<Figure size 864x288 with 2 Axes>"
      ]
     },
     "metadata": {
      "needs_background": "light"
     },
     "output_type": "display_data"
    },
    {
     "name": "stdout",
     "output_type": "stream",
     "text": [
      "Confusion Matrix\n",
      "[[27  0  0  0  0  0  0  1  0  0  0  0  0  0  0  0]\n",
      " [ 0 18  0  0  0  0  0  0  0  0  0  0  0  0  0  0]\n",
      " [ 0  0 12  0  0  0  0  0  0  0  0  0  0  0  0  0]\n",
      " [ 0  0  0 23  0  0  0  0  0  1  0  0  0  0  0  0]\n",
      " [ 0  0  0  0 12  0  0  0  0  0  0  0  0  0  0  0]\n",
      " [ 0  0  0  0  0 11  0  0  0  0  0  0  0  0  0  0]\n",
      " [ 1  0  0  0  0  0 38  1  0  0  0  0  0  0  1  0]\n",
      " [ 0  0  0  0  0  0  0 30  0  0  0  0  0  0  0  0]\n",
      " [ 0  0  0  0  0  0  0  0 33  0  0  0  0  0  0  0]\n",
      " [ 0  0  0  0  0  0  0  2  0 19  0  0  0  0  0  0]\n",
      " [ 0  0  0  0  0  0  0  0  0  0  5  0  0  0  0  0]\n",
      " [ 0  0  0  0  0  0  0  0  0  0  0 26  0  0  0  0]\n",
      " [ 0  0  0  0  0  0  0  0  0  0  0  0  9  0  0  0]\n",
      " [ 0  0  0  0  0  2  0  0  0  0  0  0  0 18  1  0]\n",
      " [ 0  0  0  0  0  0  0  0  0  0  0  0  0  0  9  0]\n",
      " [ 0  0  0  0  1  0  0  0  0  0  0  0  0  0  0 69]]\n",
      "Classification Report\n",
      "                  precision    recall  f1-score   support\n",
      "\n",
      "         bicycle       0.96      0.96      0.96        28\n",
      "        continue       1.00      1.00      1.00        18\n",
      "        crossing       1.00      1.00      1.00        12\n",
      "         giveway       1.00      0.96      0.98        24\n",
      "         laneend       0.92      1.00      0.96        12\n",
      "  limitedtraffic       0.85      1.00      0.92        11\n",
      "         noentry       1.00      0.93      0.96        41\n",
      "       noparking       0.88      1.00      0.94        30\n",
      "         parking       1.00      1.00      1.00        33\n",
      "      rightofway       0.95      0.90      0.93        21\n",
      "      roundabout       1.00      1.00      1.00         5\n",
      "           speed       1.00      1.00      1.00        26\n",
      "            stop       1.00      1.00      1.00         9\n",
      "trafficdirective       1.00      0.86      0.92        21\n",
      " traveldirection       0.82      1.00      0.90         9\n",
      "         warning       1.00      0.99      0.99        70\n",
      "\n",
      "        accuracy                           0.97       370\n",
      "       macro avg       0.96      0.97      0.97       370\n",
      "    weighted avg       0.97      0.97      0.97       370\n",
      "\n",
      "\n",
      "\n",
      "**********Independ evealuation result model_1\n",
      "Confusion Matrix\n",
      "[[ 3  0  0  0  0  0  0  1  0  2  0  0  0  1  0  0]\n",
      " [ 0  3  0  0  0  0  0  0  0  0  0  0  0  0  0  0]\n",
      " [ 1  0  0  0  0  0  0  1  0  1  0  0  0  0  0  1]\n",
      " [ 0  0  0 14  0  0  0  0  0  0  0  0  0  0  0  0]\n",
      " [ 0  1  0  0  3  0  0  1  0  0  0  0  0  0  0  0]\n",
      " [ 0  0  0  1  0  4  0  0  0  4  0  0  0  0  1  0]\n",
      " [ 0  0  0  0  0  0  0  2  6  1  0  0  0  1  1  0]\n",
      " [ 1  0  0  0  0  0  0  3  1  2  0  0  0  0  0  0]\n",
      " [ 0  0  1  0  0  0  0  0  4  0  0  0  0  0  0  0]\n",
      " [ 1  0  0  0  0  0  1 10  0 10  0  0  0  0  2  0]\n",
      " [ 0  0  0  1  0  5  2  0  0  1  0  0  0  0  0  0]\n",
      " [ 0  0  0  0  0  0  0  2  2 11  0  0  0  0  0  0]\n",
      " [ 0  0  0  1  0  1 17  0  0  0  0  0  2  0  0  0]\n",
      " [ 0  0  0  0  0  0  0  0  6  0  0  0  0  0  0  0]\n",
      " [ 0  4  0  0  0  0  1  5  0  0  0  4  0  0  3  0]\n",
      " [ 1  0  1  0  0  0  0  3  0  0  0  0  0  0  0 10]]\n",
      "Classification Report\n"
     ]
    },
    {
     "name": "stderr",
     "output_type": "stream",
     "text": [
      "C:\\Users\\Akshay\\Anaconda3\\lib\\site-packages\\sklearn\\metrics\\_classification.py:1272: UndefinedMetricWarning: Precision and F-score are ill-defined and being set to 0.0 in labels with no predicted samples. Use `zero_division` parameter to control this behavior.\n",
      "  _warn_prf(average, modifier, msg_start, len(result))\n"
     ]
    },
    {
     "name": "stdout",
     "output_type": "stream",
     "text": [
      "                  precision    recall  f1-score   support\n",
      "\n",
      "         bicycle       0.43      0.43      0.43         7\n",
      "        continue       0.38      1.00      0.55         3\n",
      "        crossing       0.00      0.00      0.00         4\n",
      "         giveway       0.82      1.00      0.90        14\n",
      "         laneend       1.00      0.60      0.75         5\n",
      "  limitedtraffic       0.40      0.40      0.40        10\n",
      "         noentry       0.00      0.00      0.00        11\n",
      "       noparking       0.11      0.43      0.17         7\n",
      "         parking       0.21      0.80      0.33         5\n",
      "      rightofway       0.31      0.42      0.36        24\n",
      "      roundabout       0.00      0.00      0.00         9\n",
      "           speed       0.00      0.00      0.00        15\n",
      "            stop       1.00      0.10      0.17        21\n",
      "trafficdirective       0.00      0.00      0.00         6\n",
      " traveldirection       0.43      0.18      0.25        17\n",
      "         warning       0.91      0.67      0.77        15\n",
      "\n",
      "        accuracy                           0.34       173\n",
      "       macro avg       0.37      0.38      0.32       173\n",
      "    weighted avg       0.44      0.34      0.32       173\n",
      "\n",
      "*******************************CNN model_1 END************************************\n",
      "*******************************CNN model_2 Start************************************\n",
      "\n",
      "\n"
     ]
    },
    {
     "data": {
      "image/png": "[encoded data removed]",
      "text/plain": [
       "<Figure size 864x288 with 2 Axes>"
      ]
     },
     "metadata": {
      "needs_background": "light"
     },
     "output_type": "display_data"
    },
    {
     "name": "stdout",
     "output_type": "stream",
     "text": [
      "Confusion Matrix\n",
      "[[24  0  0  0  0  0  2  2  0  0  0  0  0  0  0  0]\n",
      " [ 0 17  0  0  0  0  0  1  0  0  0  0  0  0  0  0]\n",
      " [ 0  0 11  0  0  0  0  0  0  0  0  0  0  0  0  1]\n",
      " [ 0  0  0 24  0  0  0  0  0  0  0  0  0  0  0  0]\n",
      " [ 0  0  0  0 12  0  0  0  0  0  0  0  0  0  0  0]\n",
      " [ 0  0  0  0  0  7  0  0  0  0  0  4  0  0  0  0]\n",
      " [ 1  0  0  0  0  0 38  1  0  0  0  0  0  0  1  0]\n",
      " [ 0  0  0  0  0  0  0 30  0  0  0  0  0  0  0  0]\n",
      " [ 0  0  0  1  0  1  0  0 31  0  0  0  0  0  0  0]\n",
      " [ 1  0  0  0  0  2  0  0  0 17  0  1  0  0  0  0]\n",
      " [ 0  0  0  0  0  0  0  1  0  0  4  0  0  0  0  0]\n",
      " [ 0  0  0  0  0  1  0  0  0  0  0 25  0  0  0  0]\n",
      " [ 3  0  0  0  0  0  3  1  0  0  0  0  2  0  0  0]\n",
      " [ 0  0  0  0  0  0  0  0  0  0  0 14  0  6  1  0]\n",
      " [ 0  0  0  0  0  0  1  0  0  0  0  0  0  0  8  0]\n",
      " [ 0  0  0  0  0  4  1  0  0  0  0  1  0  0  0 64]]\n",
      "Classification Report\n",
      "                  precision    recall  f1-score   support\n",
      "\n",
      "         bicycle       0.83      0.86      0.84        28\n",
      "        continue       1.00      0.94      0.97        18\n",
      "        crossing       1.00      0.92      0.96        12\n",
      "         giveway       0.96      1.00      0.98        24\n",
      "         laneend       1.00      1.00      1.00        12\n",
      "  limitedtraffic       0.47      0.64      0.54        11\n",
      "         noentry       0.84      0.93      0.88        41\n",
      "       noparking       0.83      1.00      0.91        30\n",
      "         parking       1.00      0.94      0.97        33\n",
      "      rightofway       1.00      0.81      0.89        21\n",
      "      roundabout       1.00      0.80      0.89         5\n",
      "           speed       0.56      0.96      0.70        26\n",
      "            stop       1.00      0.22      0.36         9\n",
      "trafficdirective       1.00      0.29      0.44        21\n",
      " traveldirection       0.80      0.89      0.84         9\n",
      "         warning       0.98      0.91      0.95        70\n",
      "\n",
      "        accuracy                           0.86       370\n",
      "       macro avg       0.89      0.82      0.82       370\n",
      "    weighted avg       0.90      0.86      0.86       370\n",
      "\n",
      "\n",
      "\n",
      "**********Independ evealuation result model_2\n",
      "Confusion Matrix\n",
      "[[ 1  0  0  0  0  0  3  1  0  1  0  1  0  0  0  0]\n",
      " [ 0  2  0  0  0  0  1  0  0  0  0  0  0  0  0  0]\n",
      " [ 1  0  0  0  0  0  0  1  0  1  0  0  0  0  0  1]\n",
      " [ 0  0  0 14  0  0  0  0  0  0  0  0  0  0  0  0]\n",
      " [ 0  1  0  0  3  0  1  0  0  0  0  0  0  0  0  0]\n",
      " [ 0  0  0  1  0  8  0  0  0  0  0  1  0  0  0  0]\n",
      " [ 0  0  0  0  0  0  1  0  4  0  0  4  0  2  0  0]\n",
      " [ 1  0  0  0  0  0  1  3  1  0  0  1  0  0  0  0]\n",
      " [ 0  0  0  0  0  0  1  0  4  0  0  0  0  0  0  0]\n",
      " [ 1  0  0  2  0  0  5  8  0  8  0  0  0  0  0  0]\n",
      " [ 0  0  0  0  0  0  0  4  4  1  0  0  0  0  0  0]\n",
      " [ 0  0  0  0  0  0  6  2  1  0  0  6  0  0  0  0]\n",
      " [ 0  0  0  1  0  1 19  0  0  0  0  0  0  0  0  0]\n",
      " [ 0  0  0  0  0  0  0  0  3  0  0  3  0  0  0  0]\n",
      " [ 0  1  0  0  0  0  0  7  4  0  0  5  0  0  0  0]\n",
      " [ 0  0  0  0  0  0  9  1  0  0  0  0  0  0  0  5]]\n",
      "Classification Report\n",
      "                  precision    recall  f1-score   support\n",
      "\n",
      "         bicycle       0.25      0.14      0.18         7\n",
      "        continue       0.50      0.67      0.57         3\n",
      "        crossing       0.00      0.00      0.00         4\n",
      "         giveway       0.78      1.00      0.88        14\n",
      "         laneend       1.00      0.60      0.75         5\n",
      "  limitedtraffic       0.89      0.80      0.84        10\n",
      "         noentry       0.02      0.09      0.03        11\n",
      "       noparking       0.11      0.43      0.18         7\n",
      "         parking       0.19      0.80      0.31         5\n",
      "      rightofway       0.73      0.33      0.46        24\n",
      "      roundabout       0.00      0.00      0.00         9\n",
      "           speed       0.29      0.40      0.33        15\n",
      "            stop       0.00      0.00      0.00        21\n",
      "trafficdirective       0.00      0.00      0.00         6\n",
      " traveldirection       0.00      0.00      0.00        17\n",
      "         warning       0.83      0.33      0.48        15\n",
      "\n",
      "        accuracy                           0.32       173\n",
      "       macro avg       0.35      0.35      0.31       173\n",
      "    weighted avg       0.37      0.32      0.31       173\n"
     ]
    },
    {
     "name": "stderr",
     "output_type": "stream",
     "text": [
      "C:\\Users\\Akshay\\Anaconda3\\lib\\site-packages\\sklearn\\metrics\\_classification.py:1272: UndefinedMetricWarning: Precision and F-score are ill-defined and being set to 0.0 in labels with no predicted samples. Use `zero_division` parameter to control this behavior.\n",
      "  _warn_prf(average, modifier, msg_start, len(result))\n"
     ]
    },
    {
     "name": "stdout",
     "output_type": "stream",
     "text": [
      "\n",
      "*******************************CNN model_2 END************************************\n",
      "*******************************CNN model_4 Start************************************\n",
      "\n",
      "\n"
     ]
    },
    {
     "data": {
      "image/png": "[encoded data removed]",
      "text/plain": [
       "<Figure size 864x288 with 2 Axes>"
      ]
     },
     "metadata": {
      "needs_background": "light"
     },
     "output_type": "display_data"
    },
    {
     "name": "stdout",
     "output_type": "stream",
     "text": [
      "Confusion Matrix\n",
      "[[28  0  0  0  0  0  0  0  0  0  0  0  0  0  0  0]\n",
      " [ 0 18  0  0  0  0  0  0  0  0  0  0  0  0  0  0]\n",
      " [ 0  0 12  0  0  0  0  0  0  0  0  0  0  0  0  0]\n",
      " [ 0  0  0 24  0  0  0  0  0  0  0  0  0  0  0  0]\n",
      " [ 0  0  0  0 12  0  0  0  0  0  0  0  0  0  0  0]\n",
      " [ 0  0  0  0  0 11  0  0  0  0  0  0  0  0  0  0]\n",
      " [ 1  0  0  0  0  0 39  0  0  0  0  0  0  0  1  0]\n",
      " [ 0  0  0  0  0  0  0 30  0  0  0  0  0  0  0  0]\n",
      " [ 0  0  0  0  0  0  0  0 33  0  0  0  0  0  0  0]\n",
      " [ 0  0  0  0  0  0  0  0  0 20  0  0  0  0  0  1]\n",
      " [ 0  0  0  0  0  0  0  0  0  0  5  0  0  0  0  0]\n",
      " [ 0  0  0  0  0  2  0  0  0  0  0 24  0  0  0  0]\n",
      " [ 0  0  0  0  0  0  0  0  0  0  0  0  9  0  0  0]\n",
      " [ 0  0  0  0  0  3  0  0  0  0  0  0  0 18  0  0]\n",
      " [ 0  0  0  0  0  0  0  0  0  0  0  0  0  0  9  0]\n",
      " [ 0  0  0  0  1  0  0  0  0  0  0  0  0  0  0 69]]\n",
      "Classification Report\n",
      "                  precision    recall  f1-score   support\n",
      "\n",
      "         bicycle       0.97      1.00      0.98        28\n",
      "        continue       1.00      1.00      1.00        18\n",
      "        crossing       1.00      1.00      1.00        12\n",
      "         giveway       1.00      1.00      1.00        24\n",
      "         laneend       0.92      1.00      0.96        12\n",
      "  limitedtraffic       0.69      1.00      0.81        11\n",
      "         noentry       1.00      0.95      0.97        41\n",
      "       noparking       1.00      1.00      1.00        30\n",
      "         parking       1.00      1.00      1.00        33\n",
      "      rightofway       1.00      0.95      0.98        21\n",
      "      roundabout       1.00      1.00      1.00         5\n",
      "           speed       1.00      0.92      0.96        26\n",
      "            stop       1.00      1.00      1.00         9\n",
      "trafficdirective       1.00      0.86      0.92        21\n",
      " traveldirection       0.90      1.00      0.95         9\n",
      "         warning       0.99      0.99      0.99        70\n",
      "\n",
      "        accuracy                           0.98       370\n",
      "       macro avg       0.97      0.98      0.97       370\n",
      "    weighted avg       0.98      0.98      0.98       370\n",
      "\n",
      "\n",
      "\n",
      "**********Independ evealuation result model_4\n",
      "Confusion Matrix\n",
      "[[ 3  1  0  0  0  0  0  0  0  0  0  0  0  1  2  0]\n",
      " [ 0  3  0  0  0  0  0  0  0  0  0  0  0  0  0  0]\n",
      " [ 0  0  0  0  0  0  0  1  0  1  0  0  0  0  0  2]\n",
      " [ 0  0  0 14  0  0  0  0  0  0  0  0  0  0  0  0]\n",
      " [ 0  0  0  0  5  0  0  0  0  0  0  0  0  0  0  0]\n",
      " [ 0  0  0  1  0  7  0  0  0  0  0  0  0  0  1  1]\n",
      " [ 0  0  0  0  0  0  1  0  2  1  0  0  0  5  1  1]\n",
      " [ 3  0  0  0  0  0  0  1  1  1  0  0  0  0  0  1]\n",
      " [ 1  0  0  0  0  0  0  0  4  0  0  0  0  0  0  0]\n",
      " [ 0  0  0  1  0  0  1 13  0  8  0  0  0  0  1  0]\n",
      " [ 0  0  0  0  0  0  0  0  1  8  0  0  0  0  0  0]\n",
      " [ 0  0  0  0  0  0  0 10  4  1  0  0  0  0  0  0]\n",
      " [ 0  0  0  0  0  1  3  0  0  0  0  0 16  0  1  0]\n",
      " [ 0  0  0  0  0  0  0  0  2  1  0  0  0  3  0  0]\n",
      " [ 0  2  0  0  0  3  0  4  0  0  0  0  0  0  8  0]\n",
      " [ 1  0  0  0  0  0  0  2  0  0  0  0  0  0  0 12]]\n",
      "Classification Report\n",
      "                  precision    recall  f1-score   support\n",
      "\n",
      "         bicycle       0.38      0.43      0.40         7\n",
      "        continue       0.50      1.00      0.67         3\n",
      "        crossing       0.00      0.00      0.00         4\n",
      "         giveway       0.88      1.00      0.93        14\n",
      "         laneend       1.00      1.00      1.00         5\n",
      "  limitedtraffic       0.64      0.70      0.67        10\n",
      "         noentry       0.20      0.09      0.13        11\n",
      "       noparking       0.03      0.14      0.05         7\n",
      "         parking       0.29      0.80      0.42         5\n",
      "      rightofway       0.38      0.33      0.36        24\n",
      "      roundabout       0.00      0.00      0.00         9\n",
      "           speed       0.00      0.00      0.00        15\n",
      "            stop       1.00      0.76      0.86        21\n",
      "trafficdirective       0.33      0.50      0.40         6\n",
      " traveldirection       0.57      0.47      0.52        17\n",
      "         warning       0.71      0.80      0.75        15\n",
      "\n",
      "        accuracy                           0.49       173\n",
      "       macro avg       0.43      0.50      0.45       173\n",
      "    weighted avg       0.49      0.49      0.48       173\n",
      "\n",
      "*******************************CNN model_4 END************************************\n",
      "*******************************CNN model_5 Start************************************\n",
      "\n",
      "\n"
     ]
    },
    {
     "name": "stderr",
     "output_type": "stream",
     "text": [
      "C:\\Users\\Akshay\\Anaconda3\\lib\\site-packages\\sklearn\\metrics\\_classification.py:1272: UndefinedMetricWarning: Precision and F-score are ill-defined and being set to 0.0 in labels with no predicted samples. Use `zero_division` parameter to control this behavior.\n",
      "  _warn_prf(average, modifier, msg_start, len(result))\n"
     ]
    },
    {
     "data": {
      "image/png": "[encoded data removed]",
      "text/plain": [
       "<Figure size 864x288 with 2 Axes>"
      ]
     },
     "metadata": {
      "needs_background": "light"
     },
     "output_type": "display_data"
    },
    {
     "name": "stdout",
     "output_type": "stream",
     "text": [
      "Confusion Matrix\n",
      "[[28  0  0  0  0  0  0  0  0  0  0  0  0  0  0  0]\n",
      " [ 0 18  0  0  0  0  0  0  0  0  0  0  0  0  0  0]\n",
      " [ 0  0 12  0  0  0  0  0  0  0  0  0  0  0  0  0]\n",
      " [ 0  0  0 24  0  0  0  0  0  0  0  0  0  0  0  0]\n",
      " [ 0  0  0  0 12  0  0  0  0  0  0  0  0  0  0  0]\n",
      " [ 0  0  0  0  0 11  0  0  0  0  0  0  0  0  0  0]\n",
      " [ 0  0  0  0  0  0 39  1  0  0  0  0  0  0  1  0]\n",
      " [ 0  0  0  0  0  0  0 30  0  0  0  0  0  0  0  0]\n",
      " [ 0  0  0  0  0  0  0  0 33  0  0  0  0  0  0  0]\n",
      " [ 0  0  0  0  0  0  0  0  0 20  0  0  0  0  0  1]\n",
      " [ 0  0  0  0  0  0  0  0  0  0  5  0  0  0  0  0]\n",
      " [ 0  0  0  0  0  1  0  0  0  0  0 25  0  0  0  0]\n",
      " [ 0  0  0  0  0  0  0  0  0  0  0  0  9  0  0  0]\n",
      " [ 0  0  0  0  0  3  0  0  0  0  0  1  0 17  0  0]\n",
      " [ 0  0  0  0  0  0  0  0  0  0  0  0  0  0  9  0]\n",
      " [ 0  0  0  0  0  1  0  0  0  0  0  0  1  0  0 68]]\n",
      "Classification Report\n",
      "                  precision    recall  f1-score   support\n",
      "\n",
      "         bicycle       1.00      1.00      1.00        28\n",
      "        continue       1.00      1.00      1.00        18\n",
      "        crossing       1.00      1.00      1.00        12\n",
      "         giveway       1.00      1.00      1.00        24\n",
      "         laneend       1.00      1.00      1.00        12\n",
      "  limitedtraffic       0.69      1.00      0.81        11\n",
      "         noentry       1.00      0.95      0.97        41\n",
      "       noparking       0.97      1.00      0.98        30\n",
      "         parking       1.00      1.00      1.00        33\n",
      "      rightofway       1.00      0.95      0.98        21\n",
      "      roundabout       1.00      1.00      1.00         5\n",
      "           speed       0.96      0.96      0.96        26\n",
      "            stop       0.90      1.00      0.95         9\n",
      "trafficdirective       1.00      0.81      0.89        21\n",
      " traveldirection       0.90      1.00      0.95         9\n",
      "         warning       0.99      0.97      0.98        70\n",
      "\n",
      "        accuracy                           0.97       370\n",
      "       macro avg       0.96      0.98      0.97       370\n",
      "    weighted avg       0.98      0.97      0.97       370\n",
      "\n",
      "\n",
      "\n",
      "**********Independ evealuation result model_5\n",
      "Confusion Matrix\n",
      "[[ 0  0  0  1  0  0  0  3  0  1  0  0  0  1  1  0]\n",
      " [ 0  2  0  0  0  0  0  0  0  0  0  0  0  0  1  0]\n",
      " [ 0  0  0  0  0  0  0  1  0  1  0  0  0  0  0  2]\n",
      " [ 0  0  0 14  0  0  0  0  0  0  0  0  0  0  0  0]\n",
      " [ 0  1  0  0  3  0  0  1  0  0  0  0  0  0  0  0]\n",
      " [ 0  0  0  0  0  9  0  0  0  0  0  0  0  0  0  1]\n",
      " [ 0  0  0  0  0  0  1  0  1  4  0  0  0  5  0  0]\n",
      " [ 0  0  0  0  0  0  0  5  1  1  0  0  0  0  0  0]\n",
      " [ 1  0  0  0  0  0  0  0  4  0  0  0  0  0  0  0]\n",
      " [ 0  0  0  1  0  1  1  6  0 14  0  0  0  0  1  0]\n",
      " [ 0  0  0  0  0  0  0  1  0  8  0  0  0  0  0  0]\n",
      " [ 0  0  0  0  0  0  0  6  1  4  0  4  0  0  0  0]\n",
      " [ 0  0  0  0  0  1 16  1  0  0  0  0  2  0  1  0]\n",
      " [ 0  0  0  0  0  0  0  0  1  3  0  0  0  2  0  0]\n",
      " [ 0  0  0  0  0  0  0  5  0  0  0  4  0  0  7  1]\n",
      " [ 1  0  0  0  0  0  0  2  0  0  0  0  0  0  0 12]]\n",
      "Classification Report\n",
      "                  precision    recall  f1-score   support\n",
      "\n",
      "         bicycle       0.00      0.00      0.00         7\n",
      "        continue       0.67      0.67      0.67         3\n",
      "        crossing       0.00      0.00      0.00         4\n",
      "         giveway       0.88      1.00      0.93        14\n",
      "         laneend       1.00      0.60      0.75         5\n",
      "  limitedtraffic       0.82      0.90      0.86        10\n",
      "         noentry       0.06      0.09      0.07        11\n",
      "       noparking       0.16      0.71      0.26         7\n",
      "         parking       0.50      0.80      0.62         5\n",
      "      rightofway       0.39      0.58      0.47        24\n",
      "      roundabout       0.00      0.00      0.00         9\n",
      "           speed       0.50      0.27      0.35        15\n",
      "            stop       1.00      0.10      0.17        21\n",
      "trafficdirective       0.25      0.33      0.29         6\n",
      " traveldirection       0.64      0.41      0.50        17\n",
      "         warning       0.75      0.80      0.77        15\n",
      "\n",
      "        accuracy                           0.46       173\n",
      "       macro avg       0.48      0.45      0.42       173\n",
      "    weighted avg       0.54      0.46      0.43       173\n",
      "\n",
      "*******************************CNN model_5 END************************************\n"
     ]
    },
    {
     "name": "stderr",
     "output_type": "stream",
     "text": [
      "C:\\Users\\Akshay\\Anaconda3\\lib\\site-packages\\sklearn\\metrics\\_classification.py:1272: UndefinedMetricWarning: Precision and F-score are ill-defined and being set to 0.0 in labels with no predicted samples. Use `zero_division` parameter to control this behavior.\n",
      "  _warn_prf(average, modifier, msg_start, len(result))\n"
     ]
    }
   ],
   "source": [
    "models_list=[model_1,model_2,model_reg,model_drop,model_drop_a]\n",
    "for model in models_list:\n",
    "    print(\"*******************************CNN\" , model.name, \"Start************************************\")\n",
    "    print(\"\\n\")\n",
    "    res = train_model(model, num_epoch=100, verbose=0)\n",
    "    plot_results(res)\n",
    "    eval_m(model)\n",
    "    print(\"\\n\")\n",
    "    print(\"**********Independ evealuation result\",model.name)\n",
    "    ind_eval_m(model)\n",
    "    print(\"*******************************CNN\" , model.name, \"END************************************\")\n"
   ]
  },
  {
   "cell_type": "markdown",
   "metadata": {},
   "source": [
    "The above model seems to overfit since the train accuracy and validation accuracy grew apart as we increased the epochs. The model is overlearning the train data and performing not so good on the validation data. In the following part I have included some regularization to reduce overfitting"
   ]
  },
  {
   "cell_type": "markdown",
   "metadata": {},
   "source": [
    "##### Training and evaluating model 5-10 with weighted classes"
   ]
  },
  {
   "cell_type": "code",
   "execution_count": 64,
   "metadata": {},
   "outputs": [
    {
     "name": "stdout",
     "output_type": "stream",
     "text": [
      "*******************************CNN model_6 Start************************************\n",
      "\n",
      "\n"
     ]
    },
    {
     "data": {
      "image/png": "[encoded data removed]",
      "text/plain": [
       "<Figure size 864x288 with 2 Axes>"
      ]
     },
     "metadata": {
      "needs_background": "light"
     },
     "output_type": "display_data"
    },
    {
     "name": "stdout",
     "output_type": "stream",
     "text": [
      "Confusion Matrix\n",
      "[[28  0  0  0  0  0  0  0  0  0  0  0  0  0  0  0]\n",
      " [ 0 18  0  0  0  0  0  0  0  0  0  0  0  0  0  0]\n",
      " [ 0  0 12  0  0  0  0  0  0  0  0  0  0  0  0  0]\n",
      " [ 0  0  0 24  0  0  0  0  0  0  0  0  0  0  0  0]\n",
      " [ 0  0  0  0 12  0  0  0  0  0  0  0  0  0  0  0]\n",
      " [ 0  0  0  0  0 11  0  0  0  0  0  0  0  0  0  0]\n",
      " [ 1  0  0  1  0  0 38  1  0  0  0  0  0  0  0  0]\n",
      " [ 0  0  0  0  0  0  0 30  0  0  0  0  0  0  0  0]\n",
      " [ 0  0  0  0  0  0  0  0 33  0  0  0  0  0  0  0]\n",
      " [ 0  0  0  0  0  0  0  0  0 19  0  0  0  0  0  2]\n",
      " [ 0  0  0  0  0  0  0  0  0  0  5  0  0  0  0  0]\n",
      " [ 0  0  0  0  0  0  0  0  0  0  0 25  0  1  0  0]\n",
      " [ 0  0  0  0  0  0  0  0  0  0  0  0  9  0  0  0]\n",
      " [ 0  0  0  0  0  2  0  0  0  0  0  1  0 17  1  0]\n",
      " [ 0  0  0  0  0  0  0  0  0  0  0  0  0  0  9  0]\n",
      " [ 0  0  0  0  1  1  0  0  0  0  0  0  0  0  0 68]]\n",
      "Classification Report\n",
      "                  precision    recall  f1-score   support\n",
      "\n",
      "         bicycle       0.97      1.00      0.98        28\n",
      "        continue       1.00      1.00      1.00        18\n",
      "        crossing       1.00      1.00      1.00        12\n",
      "         giveway       0.96      1.00      0.98        24\n",
      "         laneend       0.92      1.00      0.96        12\n",
      "  limitedtraffic       0.79      1.00      0.88        11\n",
      "         noentry       1.00      0.93      0.96        41\n",
      "       noparking       0.97      1.00      0.98        30\n",
      "         parking       1.00      1.00      1.00        33\n",
      "      rightofway       1.00      0.90      0.95        21\n",
      "      roundabout       1.00      1.00      1.00         5\n",
      "           speed       0.96      0.96      0.96        26\n",
      "            stop       1.00      1.00      1.00         9\n",
      "trafficdirective       0.94      0.81      0.87        21\n",
      " traveldirection       0.90      1.00      0.95         9\n",
      "         warning       0.97      0.97      0.97        70\n",
      "\n",
      "        accuracy                           0.97       370\n",
      "       macro avg       0.96      0.97      0.97       370\n",
      "    weighted avg       0.97      0.97      0.97       370\n",
      "\n",
      "\n",
      "\n",
      "**********Independ evealuation result model_6\n",
      "Confusion Matrix\n",
      "[[ 1  0  0  0  0  0  1  2  0  1  0  0  0  1  1  0]\n",
      " [ 0  3  0  0  0  0  0  0  0  0  0  0  0  0  0  0]\n",
      " [ 1  0  0  0  0  0  0  1  0  1  0  0  0  0  0  1]\n",
      " [ 0  0  0 14  0  0  0  0  0  0  0  0  0  0  0  0]\n",
      " [ 0  1  0  0  3  0  1  0  0  0  0  0  0  0  0  0]\n",
      " [ 0  0  0  1  0  8  0  0  0  0  0  0  0  0  1  0]\n",
      " [ 0  0  0  0  0  0  1  0  3  1  0  0  0  6  0  0]\n",
      " [ 0  0  0  1  0  0  1  5  0  1  0  1  0  0  0  0]\n",
      " [ 1  0  0  0  0  0  0  0  4  0  0  0  0  0  0  0]\n",
      " [ 0  0  0  0  0  0  2  8  0 12  0  0  0  0  2  0]\n",
      " [ 0  0  0  0  0  0  0  0  6  3  0  0  0  0  0  0]\n",
      " [ 0  0  0  0  0  0  0  6  1  6  0  2  0  0  0  0]\n",
      " [ 0  0  0  1  0  1 18  0  0  0  0  0  1  0  0  0]\n",
      " [ 0  0  0  0  0  0  0  0  2  1  0  0  0  3  0  0]\n",
      " [ 0  4  0  0  0  0  1  4  0  0  0  4  0  1  3  0]\n",
      " [ 1  0  1  0  0  0  0  2  0  0  0  0  0  0  0 11]]\n",
      "Classification Report\n",
      "                  precision    recall  f1-score   support\n",
      "\n",
      "         bicycle       0.25      0.14      0.18         7\n",
      "        continue       0.38      1.00      0.55         3\n",
      "        crossing       0.00      0.00      0.00         4\n",
      "         giveway       0.82      1.00      0.90        14\n",
      "         laneend       1.00      0.60      0.75         5\n",
      "  limitedtraffic       0.89      0.80      0.84        10\n",
      "         noentry       0.04      0.09      0.06        11\n",
      "       noparking       0.18      0.56      0.27         9\n",
      "         parking       0.25      0.80      0.38         5\n",
      "      rightofway       0.46      0.50      0.48        24\n",
      "      roundabout       0.00      0.00      0.00         9\n",
      "           speed       0.29      0.13      0.18        15\n",
      "            stop       1.00      0.05      0.09        21\n",
      "trafficdirective       0.27      0.50      0.35         6\n",
      " traveldirection       0.43      0.18      0.25        17\n",
      "         warning       0.92      0.73      0.81        15\n",
      "\n",
      "        accuracy                           0.41       175\n",
      "       macro avg       0.45      0.44      0.38       175\n",
      "    weighted avg       0.52      0.41      0.39       175\n",
      "\n",
      "\n",
      "\n",
      "*******************************CNN model_6 END************************************\n",
      "*******************************CNN model_7 Start************************************\n",
      "\n",
      "\n"
     ]
    },
    {
     "name": "stderr",
     "output_type": "stream",
     "text": [
      "C:\\Users\\Akshay\\Anaconda3\\lib\\site-packages\\sklearn\\metrics\\_classification.py:1272: UndefinedMetricWarning: Precision and F-score are ill-defined and being set to 0.0 in labels with no predicted samples. Use `zero_division` parameter to control this behavior.\n",
      "  _warn_prf(average, modifier, msg_start, len(result))\n"
     ]
    },
    {
     "data": {
      "image/png": "[encoded data removed]",
      "text/plain": [
       "<Figure size 864x288 with 2 Axes>"
      ]
     },
     "metadata": {
      "needs_background": "light"
     },
     "output_type": "display_data"
    },
    {
     "name": "stdout",
     "output_type": "stream",
     "text": [
      "Confusion Matrix\n",
      "[[28  0  0  0  0  0  0  0  0  0  0  0  0  0  0  0]\n",
      " [ 0 18  0  0  0  0  0  0  0  0  0  0  0  0  0  0]\n",
      " [ 0  0 12  0  0  0  0  0  0  0  0  0  0  0  0  0]\n",
      " [ 0  0  0 24  0  0  0  0  0  0  0  0  0  0  0  0]\n",
      " [ 0  0  0  0 12  0  0  0  0  0  0  0  0  0  0  0]\n",
      " [ 0  0  0  0  0 11  0  0  0  0  0  0  0  0  0  0]\n",
      " [ 1  0  0  0  0  0 38  1  0  0  0  0  0  0  1  0]\n",
      " [ 0  0  0  0  0  0  0 30  0  0  0  0  0  0  0  0]\n",
      " [ 0  0  0  0  0  0  0  0 33  0  0  0  0  0  0  0]\n",
      " [ 0  0  0  0  0  0  0  0  0 19  0  0  0  0  0  2]\n",
      " [ 0  0  0  0  0  0  0  0  0  0  5  0  0  0  0  0]\n",
      " [ 0  0  0  1  0  0  0  0  0  0  0 25  0  0  0  0]\n",
      " [ 0  0  0  0  0  0  0  0  0  0  0  0  9  0  0  0]\n",
      " [ 0  0  0  0  0  2  0  0  0  0  0  0  1 18  0  0]\n",
      " [ 0  0  0  0  0  0  0  0  0  0  0  0  0  0  9  0]\n",
      " [ 0  0  0  0  1  0  0  0  0  0  0  0  0  0  0 69]]\n",
      "Classification Report\n",
      "                  precision    recall  f1-score   support\n",
      "\n",
      "         bicycle       0.97      1.00      0.98        28\n",
      "        continue       1.00      1.00      1.00        18\n",
      "        crossing       1.00      1.00      1.00        12\n",
      "         giveway       0.96      1.00      0.98        24\n",
      "         laneend       0.92      1.00      0.96        12\n",
      "  limitedtraffic       0.85      1.00      0.92        11\n",
      "         noentry       1.00      0.93      0.96        41\n",
      "       noparking       0.97      1.00      0.98        30\n",
      "         parking       1.00      1.00      1.00        33\n",
      "      rightofway       1.00      0.90      0.95        21\n",
      "      roundabout       1.00      1.00      1.00         5\n",
      "           speed       1.00      0.96      0.98        26\n",
      "            stop       0.90      1.00      0.95         9\n",
      "trafficdirective       1.00      0.86      0.92        21\n",
      " traveldirection       0.90      1.00      0.95         9\n",
      "         warning       0.97      0.99      0.98        70\n",
      "\n",
      "        accuracy                           0.97       370\n",
      "       macro avg       0.96      0.98      0.97       370\n",
      "    weighted avg       0.97      0.97      0.97       370\n",
      "\n",
      "\n",
      "\n",
      "**********Independ evealuation result model_7\n",
      "Confusion Matrix\n",
      "[[ 3  0  0  0  0  0  0  2  0  1  0  0  0  1  0  0]\n",
      " [ 0  2  0  0  1  0  0  0  0  0  0  0  0  0  0  0]\n",
      " [ 0  0  0  0  0  0  0  1  0  1  0  0  0  0  0  2]\n",
      " [ 0  0  0 14  0  0  0  0  0  0  0  0  0  0  0  0]\n",
      " [ 0  1  0  0  4  0  0  0  0  0  0  0  0  0  0  0]\n",
      " [ 0  0  0  1  0  4  0  0  0  4  0  0  0  0  1  0]\n",
      " [ 0  0  0  0  0  0  0  2  6  1  0  0  0  2  0  0]\n",
      " [ 0  0  0  1  0  0  1  5  0  1  0  1  0  0  0  0]\n",
      " [ 1  0  0  0  0  0  0  0  4  0  0  0  0  0  0  0]\n",
      " [ 0  0  0  0  0  0  2 10  0 10  0  0  0  0  2  0]\n",
      " [ 0  0  0  0  0  0  0  0  2  7  0  0  0  0  0  0]\n",
      " [ 0  0  0  0  0  0  0  6  2  7  0  0  0  0  0  0]\n",
      " [ 0  0  0  1  0  1 19  0  0  0  0  0  0  0  0  0]\n",
      " [ 0  0  0  0  0  0  0  0  5  1  0  0  0  0  0  0]\n",
      " [ 0  5  0  0  0  0  1  5  0  0  0  4  0  0  2  0]\n",
      " [ 1  0  1  0  0  0  0  3  0  0  0  0  0  0  0 10]]\n",
      "Classification Report\n",
      "                  precision    recall  f1-score   support\n",
      "\n",
      "         bicycle       0.60      0.43      0.50         7\n",
      "        continue       0.25      0.67      0.36         3\n",
      "        crossing       0.00      0.00      0.00         4\n",
      "         giveway       0.82      1.00      0.90        14\n",
      "         laneend       0.80      0.80      0.80         5\n",
      "  limitedtraffic       0.80      0.40      0.53        10\n",
      "         noentry       0.00      0.00      0.00        11\n",
      "       noparking       0.15      0.56      0.23         9\n",
      "         parking       0.21      0.80      0.33         5\n",
      "      rightofway       0.30      0.42      0.35        24\n",
      "      roundabout       0.00      0.00      0.00         9\n",
      "           speed       0.00      0.00      0.00        15\n",
      "            stop       0.00      0.00      0.00        21\n",
      "trafficdirective       0.00      0.00      0.00         6\n",
      " traveldirection       0.40      0.12      0.18        17\n",
      "         warning       0.83      0.67      0.74        15\n",
      "\n",
      "        accuracy                           0.33       175\n",
      "       macro avg       0.32      0.37      0.31       175\n",
      "    weighted avg       0.33      0.33      0.30       175\n",
      "\n",
      "\n",
      "\n",
      "*******************************CNN model_7 END************************************\n",
      "*******************************CNN model_8 Start************************************\n",
      "\n",
      "\n"
     ]
    },
    {
     "name": "stderr",
     "output_type": "stream",
     "text": [
      "C:\\Users\\Akshay\\Anaconda3\\lib\\site-packages\\sklearn\\metrics\\_classification.py:1272: UndefinedMetricWarning: Precision and F-score are ill-defined and being set to 0.0 in labels with no predicted samples. Use `zero_division` parameter to control this behavior.\n",
      "  _warn_prf(average, modifier, msg_start, len(result))\n"
     ]
    },
    {
     "data": {
      "image/png": "[encoded data removed]",
      "text/plain": [
       "<Figure size 864x288 with 2 Axes>"
      ]
     },
     "metadata": {
      "needs_background": "light"
     },
     "output_type": "display_data"
    },
    {
     "name": "stdout",
     "output_type": "stream",
     "text": [
      "Confusion Matrix\n",
      "[[27  0  0  0  0  0  0  0  0  0  0  0  0  0  0  1]\n",
      " [ 0 18  0  0  0  0  0  0  0  0  0  0  0  0  0  0]\n",
      " [ 0  0 10  0  0  0  0  0  0  0  0  0  0  0  0  2]\n",
      " [ 0  0  0 22  0  1  0  0  0  0  0  0  0  1  0  0]\n",
      " [ 0  0  0  0 12  0  0  0  0  0  0  0  0  0  0  0]\n",
      " [ 0  0  0  0  0 10  0  0  0  0  0  0  0  0  1  0]\n",
      " [ 1  0  0  0  0  0 38  1  0  0  0  0  0  0  1  0]\n",
      " [ 1  0  0  0  0  0  0 29  0  0  0  0  0  0  0  0]\n",
      " [ 0  0  0  1  0  1  0  0 31  0  0  0  0  0  0  0]\n",
      " [ 1  0  0  0  0  1  0  0  0 19  0  0  0  0  0  0]\n",
      " [ 0  0  0  0  0  0  0  1  0  0  4  0  0  0  0  0]\n",
      " [ 0  0  0  0  0  2  0  0  0  0  0 24  0  0  0  0]\n",
      " [ 4  0  0  0  0  0  0  0  0  0  0  0  5  0  0  0]\n",
      " [ 0  0  0  0  0  2  0  0  0  0  0  2  0 16  1  0]\n",
      " [ 1  0  0  0  0  0  0  0  0  0  0  0  0  0  8  0]\n",
      " [ 0  0  0  0  0  1  0  0  0  0  0  0  0  0  0 69]]\n",
      "Classification Report\n",
      "                  precision    recall  f1-score   support\n",
      "\n",
      "         bicycle       0.77      0.96      0.86        28\n",
      "        continue       1.00      1.00      1.00        18\n",
      "        crossing       1.00      0.83      0.91        12\n",
      "         giveway       0.96      0.92      0.94        24\n",
      "         laneend       1.00      1.00      1.00        12\n",
      "  limitedtraffic       0.56      0.91      0.69        11\n",
      "         noentry       1.00      0.93      0.96        41\n",
      "       noparking       0.94      0.97      0.95        30\n",
      "         parking       1.00      0.94      0.97        33\n",
      "      rightofway       1.00      0.90      0.95        21\n",
      "      roundabout       1.00      0.80      0.89         5\n",
      "           speed       0.92      0.92      0.92        26\n",
      "            stop       1.00      0.56      0.71         9\n",
      "trafficdirective       0.94      0.76      0.84        21\n",
      " traveldirection       0.73      0.89      0.80         9\n",
      "         warning       0.96      0.99      0.97        70\n",
      "\n",
      "        accuracy                           0.92       370\n",
      "       macro avg       0.92      0.89      0.90       370\n",
      "    weighted avg       0.94      0.92      0.93       370\n",
      "\n",
      "\n",
      "\n",
      "**********Independ evealuation result model_8\n",
      "Confusion Matrix\n",
      "[[ 4  0  0  0  0  0  0  1  0  1  0  0  0  1  0  0]\n",
      " [ 0  3  0  0  0  0  0  0  0  0  0  0  0  0  0  0]\n",
      " [ 1  0  0  0  0  0  0  1  0  1  0  0  0  0  0  1]\n",
      " [ 0  0  0 14  0  0  0  0  0  0  0  0  0  0  0  0]\n",
      " [ 0  1  0  0  4  0  0  0  0  0  0  0  0  0  0  0]\n",
      " [ 0  0  0  0  0 10  0  0  0  0  0  0  0  0  0  0]\n",
      " [ 0  0  0  0  0  0  1  0  1  1  0  0  0  6  0  2]\n",
      " [ 3  0  0  0  0  1  1  1  0  1  0  1  0  0  0  1]\n",
      " [ 1  0  0  0  0  0  0  0  4  0  0  0  0  0  0  0]\n",
      " [ 1  0  0  1  0  1  1  8  0 11  0  0  0  0  1  0]\n",
      " [ 0  0  0  0  0  0  0  2  0  7  0  0  0  0  0  0]\n",
      " [ 0  0  0  0  0  0  0  0  1  7  0  2  0  0  0  5]\n",
      " [ 0  0  0  1  0  0 18  0  0  0  0  0  1  0  0  1]\n",
      " [ 0  0  0  0  0  0  0  0  1  1  0  0  0  4  0  0]\n",
      " [ 0  8  0  0  0  0  0  5  0  0  0  4  0  0  0  0]\n",
      " [ 0  0  0  0  0  0  0  0  0  0  0  0  0  0  0 15]]\n",
      "Classification Report\n",
      "                  precision    recall  f1-score   support\n",
      "\n",
      "         bicycle       0.40      0.57      0.47         7\n",
      "        continue       0.25      1.00      0.40         3\n",
      "        crossing       0.00      0.00      0.00         4\n",
      "         giveway       0.88      1.00      0.93        14\n",
      "         laneend       1.00      0.80      0.89         5\n",
      "  limitedtraffic       0.83      1.00      0.91        10\n",
      "         noentry       0.05      0.09      0.06        11\n",
      "       noparking       0.06      0.11      0.07         9\n",
      "         parking       0.57      0.80      0.67         5\n",
      "      rightofway       0.37      0.46      0.41        24\n",
      "      roundabout       0.00      0.00      0.00         9\n",
      "           speed       0.29      0.13      0.18        15\n",
      "            stop       1.00      0.05      0.09        21\n",
      "trafficdirective       0.36      0.67      0.47         6\n",
      " traveldirection       0.00      0.00      0.00        17\n",
      "         warning       0.60      1.00      0.75        15\n",
      "\n",
      "        accuracy                           0.42       175\n",
      "       macro avg       0.42      0.48      0.39       175\n",
      "    weighted avg       0.45      0.42      0.37       175\n",
      "\n",
      "\n",
      "\n",
      "*******************************CNN model_8 END************************************\n",
      "*******************************CNN model_10 Start************************************\n",
      "\n",
      "\n"
     ]
    },
    {
     "name": "stderr",
     "output_type": "stream",
     "text": [
      "C:\\Users\\Akshay\\Anaconda3\\lib\\site-packages\\sklearn\\metrics\\_classification.py:1272: UndefinedMetricWarning: Precision and F-score are ill-defined and being set to 0.0 in labels with no predicted samples. Use `zero_division` parameter to control this behavior.\n",
      "  _warn_prf(average, modifier, msg_start, len(result))\n"
     ]
    },
    {
     "data": {
      "image/png": "[encoded data removed]",
      "text/plain": [
       "<Figure size 864x288 with 2 Axes>"
      ]
     },
     "metadata": {
      "needs_background": "light"
     },
     "output_type": "display_data"
    },
    {
     "name": "stdout",
     "output_type": "stream",
     "text": [
      "Confusion Matrix\n",
      "[[27  0  0  0  0  0  0  0  0  0  0  0  0  0  0  1]\n",
      " [ 0 18  0  0  0  0  0  0  0  0  0  0  0  0  0  0]\n",
      " [ 0  0 12  0  0  0  0  0  0  0  0  0  0  0  0  0]\n",
      " [ 0  0  0 24  0  0  0  0  0  0  0  0  0  0  0  0]\n",
      " [ 0  0  0  0 12  0  0  0  0  0  0  0  0  0  0  0]\n",
      " [ 0  0  0  0  0 11  0  0  0  0  0  0  0  0  0  0]\n",
      " [ 1  0  0  0  0  1 39  0  0  0  0  0  0  0  0  0]\n",
      " [ 0  0  0  0  0  0  0 30  0  0  0  0  0  0  0  0]\n",
      " [ 0  0  0  0  0  0  0  0 33  0  0  0  0  0  0  0]\n",
      " [ 0  0  0  0  0  0  0  0  0 20  0  0  0  0  0  1]\n",
      " [ 0  0  0  0  0  0  0  0  0  0  5  0  0  0  0  0]\n",
      " [ 0  0  0  0  0  0  0  0  1  0  0 24  0  1  0  0]\n",
      " [ 0  0  0  0  0  0  0  0  0  0  0  0  9  0  0  0]\n",
      " [ 0  0  0  0  0  3  0  0  0  0  0  0  0 18  0  0]\n",
      " [ 0  0  0  0  0  0  0  0  0  0  0  0  0  0  9  0]\n",
      " [ 0  0  0  0  0  0  0  0  1  0  0  0  0  0  0 69]]\n",
      "Classification Report\n",
      "                  precision    recall  f1-score   support\n",
      "\n",
      "         bicycle       0.96      0.96      0.96        28\n",
      "        continue       1.00      1.00      1.00        18\n",
      "        crossing       1.00      1.00      1.00        12\n",
      "         giveway       1.00      1.00      1.00        24\n",
      "         laneend       1.00      1.00      1.00        12\n",
      "  limitedtraffic       0.73      1.00      0.85        11\n",
      "         noentry       1.00      0.95      0.97        41\n",
      "       noparking       1.00      1.00      1.00        30\n",
      "         parking       0.94      1.00      0.97        33\n",
      "      rightofway       1.00      0.95      0.98        21\n",
      "      roundabout       1.00      1.00      1.00         5\n",
      "           speed       1.00      0.92      0.96        26\n",
      "            stop       1.00      1.00      1.00         9\n",
      "trafficdirective       0.95      0.86      0.90        21\n",
      " traveldirection       1.00      1.00      1.00         9\n",
      "         warning       0.97      0.99      0.98        70\n",
      "\n",
      "        accuracy                           0.97       370\n",
      "       macro avg       0.97      0.98      0.97       370\n",
      "    weighted avg       0.98      0.97      0.97       370\n",
      "\n",
      "\n",
      "\n",
      "**********Independ evealuation result model_10\n",
      "Confusion Matrix\n",
      "[[ 0  0  0  0  0  0  2  3  0  1  0  0  0  1  0  0]\n",
      " [ 1  2  0  0  0  0  0  0  0  0  0  0  0  0  0  0]\n",
      " [ 0  0  0  0  0  0  0  1  0  1  0  0  0  0  0  2]\n",
      " [ 0  0  0 14  0  0  0  0  0  0  0  0  0  0  0  0]\n",
      " [ 1  1  0  0  2  0  0  0  0  0  0  0  0  0  1  0]\n",
      " [ 0  0  0  1  0  9  0  0  0  0  0  0  0  0  0  0]\n",
      " [ 0  0  0  0  0  0  1  1  5  0  0  1  0  2  0  1]\n",
      " [ 1  0  0  0  0  1  0  5  1  1  0  0  0  0  0  0]\n",
      " [ 0  0  0  0  0  0  0  0  5  0  0  0  0  0  0  0]\n",
      " [ 0  0  0  0  0  0  0  8  0 14  0  0  0  0  2  0]\n",
      " [ 0  0  0  0  0  0  0  4  1  4  0  0  0  0  0  0]\n",
      " [ 0  0  0  0  0  0  0 11  4  0  0  0  0  0  0  0]\n",
      " [ 0  0  0  0  0  0 17  0  0  0  0  0  2  0  1  1]\n",
      " [ 0  0  0  0  0  0  0  0  5  0  0  0  0  1  0  0]\n",
      " [ 0  3  0  0  0  0  0  6  0  0  0  3  0  0  5  0]\n",
      " [ 3  0  0  0  0  0  0  3  0  0  0  0  0  0  0  9]]\n",
      "Classification Report\n",
      "                  precision    recall  f1-score   support\n",
      "\n",
      "         bicycle       0.00      0.00      0.00         7\n",
      "        continue       0.33      0.67      0.44         3\n",
      "        crossing       0.00      0.00      0.00         4\n",
      "         giveway       0.93      1.00      0.97        14\n",
      "         laneend       1.00      0.40      0.57         5\n",
      "  limitedtraffic       0.90      0.90      0.90        10\n",
      "         noentry       0.05      0.09      0.06        11\n",
      "       noparking       0.12      0.56      0.20         9\n",
      "         parking       0.24      1.00      0.38         5\n",
      "      rightofway       0.67      0.58      0.62        24\n",
      "      roundabout       0.00      0.00      0.00         9\n",
      "           speed       0.00      0.00      0.00        15\n",
      "            stop       1.00      0.10      0.17        21\n",
      "trafficdirective       0.25      0.17      0.20         6\n",
      " traveldirection       0.56      0.29      0.38        17\n",
      "         warning       0.69      0.60      0.64        15\n",
      "\n",
      "        accuracy                           0.39       175\n",
      "       macro avg       0.42      0.40      0.35       175\n",
      "    weighted avg       0.51      0.39      0.38       175\n",
      "\n",
      "\n",
      "\n",
      "*******************************CNN model_10 END************************************\n",
      "*******************************CNN model_11 Start************************************\n",
      "\n",
      "\n"
     ]
    },
    {
     "name": "stderr",
     "output_type": "stream",
     "text": [
      "C:\\Users\\Akshay\\Anaconda3\\lib\\site-packages\\sklearn\\metrics\\_classification.py:1272: UndefinedMetricWarning: Precision and F-score are ill-defined and being set to 0.0 in labels with no predicted samples. Use `zero_division` parameter to control this behavior.\n",
      "  _warn_prf(average, modifier, msg_start, len(result))\n"
     ]
    },
    {
     "data": {
      "image/png": "[encoded data removed]",
      "text/plain": [
       "<Figure size 864x288 with 2 Axes>"
      ]
     },
     "metadata": {
      "needs_background": "light"
     },
     "output_type": "display_data"
    },
    {
     "name": "stdout",
     "output_type": "stream",
     "text": [
      "Confusion Matrix\n",
      "[[28  0  0  0  0  0  0  0  0  0  0  0  0  0  0  0]\n",
      " [ 0 18  0  0  0  0  0  0  0  0  0  0  0  0  0  0]\n",
      " [ 0  0 12  0  0  0  0  0  0  0  0  0  0  0  0  0]\n",
      " [ 0  0  0 24  0  0  0  0  0  0  0  0  0  0  0  0]\n",
      " [ 0  0  0  0 12  0  0  0  0  0  0  0  0  0  0  0]\n",
      " [ 0  0  0  0  0 11  0  0  0  0  0  0  0  0  0  0]\n",
      " [ 1  0  0  0  0  1 39  0  0  0  0  0  0  0  0  0]\n",
      " [ 1  0  0  0  0  0  0 29  0  0  0  0  0  0  0  0]\n",
      " [ 0  0  0  0  0  0  0  0 33  0  0  0  0  0  0  0]\n",
      " [ 0  0  0  0  0  0  0  0  0 20  0  0  0  0  0  1]\n",
      " [ 0  0  0  0  0  0  0  0  0  0  5  0  0  0  0  0]\n",
      " [ 0  0  0  0  0  0  0  0  2  0  0 24  0  0  0  0]\n",
      " [ 1  0  0  0  0  0  0  0  0  0  0  0  7  0  1  0]\n",
      " [ 0  0  0  0  0  1  0  0  0  0  0  0  0 19  1  0]\n",
      " [ 0  0  0  0  0  0  0  0  0  0  0  0  0  0  9  0]\n",
      " [ 0  0  0  0  0  1  0  0  0  1  0  0  0  0  0 68]]\n",
      "Classification Report\n",
      "                  precision    recall  f1-score   support\n",
      "\n",
      "         bicycle       0.90      1.00      0.95        28\n",
      "        continue       1.00      1.00      1.00        18\n",
      "        crossing       1.00      1.00      1.00        12\n",
      "         giveway       1.00      1.00      1.00        24\n",
      "         laneend       1.00      1.00      1.00        12\n",
      "  limitedtraffic       0.79      1.00      0.88        11\n",
      "         noentry       1.00      0.95      0.97        41\n",
      "       noparking       1.00      0.97      0.98        30\n",
      "         parking       0.94      1.00      0.97        33\n",
      "      rightofway       0.95      0.95      0.95        21\n",
      "      roundabout       1.00      1.00      1.00         5\n",
      "           speed       1.00      0.92      0.96        26\n",
      "            stop       1.00      0.78      0.88         9\n",
      "trafficdirective       1.00      0.90      0.95        21\n",
      " traveldirection       0.82      1.00      0.90         9\n",
      "         warning       0.99      0.97      0.98        70\n",
      "\n",
      "        accuracy                           0.97       370\n",
      "       macro avg       0.96      0.97      0.96       370\n",
      "    weighted avg       0.97      0.97      0.97       370\n",
      "\n",
      "\n",
      "\n",
      "**********Independ evealuation result model_11\n",
      "Confusion Matrix\n",
      "[[ 2  0  0  0  0  0  1  1  0  1  0  0  0  1  0  1]\n",
      " [ 0  2  0  0  0  0  0  1  0  0  0  0  0  0  0  0]\n",
      " [ 0  0  1  0  0  0  0  1  0  1  0  0  0  0  0  1]\n",
      " [ 0  0  0 14  0  0  0  0  0  0  0  0  0  0  0  0]\n",
      " [ 0  0  0  0  5  0  0  0  0  0  0  0  0  0  0  0]\n",
      " [ 0  0  0  1  0  9  0  0  0  0  0  0  0  0  0  0]\n",
      " [ 0  0  0  0  0  0  1  0  0  3  0  1  0  5  1  0]\n",
      " [ 0  0  0  0  1  1  1  3  0  3  0  0  0  0  0  0]\n",
      " [ 1  0  0  0  0  0  0  0  4  0  0  0  0  0  0  0]\n",
      " [ 1  0  0  2  0  0  1  3  0 17  0  0  0  0  0  0]\n",
      " [ 0  0  0  0  0  0  0  0  5  4  0  0  0  0  0  0]\n",
      " [ 0  0  0  0  0  0  0  1  0 14  0  0  0  0  0  0]\n",
      " [ 0  1  0  0  0  0 19  0  0  0  0  0  0  0  1  0]\n",
      " [ 0  0  0  0  0  0  0  0  0  3  0  0  0  3  0  0]\n",
      " [ 0  0  0  4  0  1  0  5  0  3  0  2  0  0  0  2]\n",
      " [ 2  0  0  0  0  0  0  0  0  3  0  0  0  0  0 10]]\n",
      "Classification Report\n",
      "                  precision    recall  f1-score   support\n",
      "\n",
      "         bicycle       0.33      0.29      0.31         7\n",
      "        continue       0.67      0.67      0.67         3\n",
      "        crossing       1.00      0.25      0.40         4\n",
      "         giveway       0.67      1.00      0.80        14\n",
      "         laneend       0.83      1.00      0.91         5\n",
      "  limitedtraffic       0.82      0.90      0.86        10\n",
      "         noentry       0.04      0.09      0.06        11\n",
      "       noparking       0.20      0.33      0.25         9\n",
      "         parking       0.44      0.80      0.57         5\n",
      "      rightofway       0.33      0.71      0.45        24\n",
      "      roundabout       0.00      0.00      0.00         9\n",
      "           speed       0.00      0.00      0.00        15\n",
      "            stop       0.00      0.00      0.00        21\n",
      "trafficdirective       0.33      0.50      0.40         6\n",
      " traveldirection       0.00      0.00      0.00        17\n",
      "         warning       0.71      0.67      0.69        15\n",
      "\n",
      "        accuracy                           0.41       175\n",
      "       macro avg       0.40      0.45      0.40       175\n",
      "    weighted avg       0.31      0.41      0.34       175\n",
      "\n",
      "\n",
      "\n",
      "*******************************CNN model_11 END************************************\n"
     ]
    },
    {
     "name": "stderr",
     "output_type": "stream",
     "text": [
      "C:\\Users\\Akshay\\Anaconda3\\lib\\site-packages\\sklearn\\metrics\\_classification.py:1272: UndefinedMetricWarning: Precision and F-score are ill-defined and being set to 0.0 in labels with no predicted samples. Use `zero_division` parameter to control this behavior.\n",
      "  _warn_prf(average, modifier, msg_start, len(result))\n"
     ]
    }
   ],
   "source": [
    "models_list=[model_1,model_2,model_reg,model_drop,model_drop_a]\n",
    "for model in models_list:\n",
    "    print(\"*******************************CNN\" , model.name, \"Start************************************\")\n",
    "    print(\"\\n\")\n",
    "    res = train_model_weighted(model, num_epoch=100, verbose=0)\n",
    "    plot_results(res)\n",
    "    eval_m(model)\n",
    "    print(\"\\n\")\n",
    "    print(\"**********Independ evealuation result\",model.name)\n",
    "    ind_eval_m(model)\n",
    "    print(\"\\n\")\n",
    "    print(\"*******************************CNN\" , model.name, \"END************************************\")\n"
   ]
  },
  {
   "cell_type": "markdown",
   "metadata": {},
   "source": [
    "### New Sequential approach - Adding 2 hiden layers with maxPooling and reLU/Softmax activation with dropouts using a weighted model with sgd optimizer"
   ]
  },
  {
   "cell_type": "code",
   "execution_count": 40,
   "metadata": {},
   "outputs": [],
   "source": [
    "def newplot(history):\n",
    "    plt.plot(history.history['categorical_accuracy'])\n",
    "    plt.plot(history.history['val_categorical_accuracy'])\n",
    "    plt.title('model accuracy')\n",
    "    plt.ylabel('accuracy')\n",
    "    plt.xlabel('epoch')\n",
    "    plt.legend(['train', 'validation'], loc='upper left')\n",
    "    plt.show()\n",
    "    # \"Loss\"\n",
    "    plt.plot(history.history['loss'])\n",
    "    plt.plot(history.history['val_loss'])\n",
    "    plt.title('model loss')\n",
    "    plt.ylabel('loss')\n",
    "    plt.xlabel('epoch')\n",
    "    plt.legend(['train', 'validation'], loc='upper left')\n",
    "    plt.show()"
   ]
  },
  {
   "cell_type": "code",
   "execution_count": 41,
   "metadata": {},
   "outputs": [],
   "source": [
    "def ind_eval(history):\n",
    "    ind_test_generator.reset()\n",
    "    Y_pred = history.model.predict_generator(ind_test_generator)\n",
    "    y_pred= np.argmax(Y_pred, axis=1)\n",
    "    print('Confusion Matrix')\n",
    "    print(confusion_matrix(ind_test_generator.classes, y_pred))\n",
    "    print('Classification Report')\n",
    "    target_names = ['bicycle', 'continue', 'crossing','giveway','laneend','limitedtraffic','noentry','noparking','parking','rightofway','roundabout','speed','stop','trafficdirective','traveldirection','warning']\n",
    "    print(classification_report(ind_test_generator.classes, y_pred, target_names=target_names))"
   ]
  },
  {
   "cell_type": "code",
   "execution_count": 42,
   "metadata": {},
   "outputs": [],
   "source": [
    "\n",
    "def create_1(model,opt='sgd'):\n",
    "    model.add(Lambda(lambda x: tf.expand_dims(x[:,:,:,0], -1, name=None))) \n",
    "    model.add(Conv2D(32, (3, 3), padding='same',input_shape=(28,28,3)))\n",
    "    model.add(Activation('relu'))\n",
    "    model.add(MaxPooling2D(pool_size=(2, 2)))\n",
    "\n",
    "\n",
    "    model.add(Conv2D(64, (3, 3), padding='same'))\n",
    "    model.add(Activation('relu'))\n",
    "    model.add(MaxPooling2D(pool_size=(2, 2)))\n",
    "\n",
    "\n",
    "    model.add(Flatten())\n",
    "\n",
    "    model.add(Dense(64))\n",
    "    model.add(Activation('relu'))\n",
    "\n",
    "\n",
    "    model.add(Dense(16, activation='softmax'))\n",
    "\n",
    "    \n",
    "    if opt=='sgd':\n",
    "        \n",
    "        model.compile(optimizer=opt,loss=\"categorical_crossentropy\", metrics=[\"categorical_accuracy\"])\n",
    "    if opt=='adam':\n",
    "        \n",
    "        model.compile(optimizer=opt,loss=\"categorical_crossentropy\", metrics=[\"categorical_accuracy\"])\n",
    "\n"
   ]
  },
  {
   "cell_type": "code",
   "execution_count": 43,
   "metadata": {},
   "outputs": [
    {
     "name": "stdout",
     "output_type": "stream",
     "text": [
      "WARNING:tensorflow:From <ipython-input-43-c4accbb58402>:12: Model.fit_generator (from tensorflow.python.keras.engine.training) is deprecated and will be removed in a future version.\n",
      "Instructions for updating:\n",
      "Please use Model.fit, which supports generators.\n",
      "WARNING:tensorflow:sample_weight modes were coerced from\n",
      "  ...\n",
      "    to  \n",
      "  ['...']\n",
      "Confusion Matrix\n",
      "[[26  0  0  0  0  0  0  2  0  0  0  0  0  0  0  0]\n",
      " [ 0 18  0  0  0  0  0  0  0  0  0  0  0  0  0  0]\n",
      " [ 0  0 12  0  0  0  0  0  0  0  0  0  0  0  0  0]\n",
      " [ 0  0  0 24  0  0  0  0  0  0  0  0  0  0  0  0]\n",
      " [ 0  0  0  0 11  0  0  0  0  0  0  0  0  0  1  0]\n",
      " [ 0  0  0  0  0 11  0  0  0  0  0  0  0  0  0  0]\n",
      " [ 0  0  0  0  0  0 39  1  0  1  0  0  0  0  0  0]\n",
      " [ 0  0  0  0  0  0  0 30  0  0  0  0  0  0  0  0]\n",
      " [ 0  0  0  0  0  0  0  0 32  0  0  0  0  0  1  0]\n",
      " [ 0  0  0  0  0  0  0  0  0 20  0  0  0  0  0  1]\n",
      " [ 0  0  0  0  0  0  0  0  0  0  5  0  0  0  0  0]\n",
      " [ 0  0  0  0  0  0  0  0  0  1  0 24  0  1  0  0]\n",
      " [ 0  0  0  0  0  0  0  0  0  0  0  0  9  0  0  0]\n",
      " [ 0  0  0  0  0  1  0  0  0  0  0  1  0 19  0  0]\n",
      " [ 0  0  0  0  0  0  0  0  0  0  0  0  0  0  9  0]\n",
      " [ 0  0  0  0  1  0  0  0  0  0  0  0  0  0  1 68]]\n",
      "Classification Report\n",
      "                  precision    recall  f1-score   support\n",
      "\n",
      "         bicycle       1.00      0.93      0.96        28\n",
      "        continue       1.00      1.00      1.00        18\n",
      "        crossing       1.00      1.00      1.00        12\n",
      "         giveway       1.00      1.00      1.00        24\n",
      "         laneend       0.92      0.92      0.92        12\n",
      "  limitedtraffic       0.92      1.00      0.96        11\n",
      "         noentry       1.00      0.95      0.97        41\n",
      "       noparking       0.91      1.00      0.95        30\n",
      "         parking       1.00      0.97      0.98        33\n",
      "      rightofway       0.91      0.95      0.93        21\n",
      "      roundabout       1.00      1.00      1.00         5\n",
      "           speed       0.96      0.92      0.94        26\n",
      "            stop       1.00      1.00      1.00         9\n",
      "trafficdirective       0.95      0.90      0.93        21\n",
      " traveldirection       0.75      1.00      0.86         9\n",
      "         warning       0.99      0.97      0.98        70\n",
      "\n",
      "        accuracy                           0.96       370\n",
      "       macro avg       0.96      0.97      0.96       370\n",
      "    weighted avg       0.97      0.96      0.97       370\n",
      "\n"
     ]
    },
    {
     "data": {
      "image/png": "[encoded data removed]",
      "text/plain": [
       "<Figure size 432x288 with 1 Axes>"
      ]
     },
     "metadata": {
      "needs_background": "light"
     },
     "output_type": "display_data"
    },
    {
     "data": {
      "image/png": "[encoded data removed]",
      "text/plain": [
       "<Figure size 432x288 with 1 Axes>"
      ]
     },
     "metadata": {
      "needs_background": "light"
     },
     "output_type": "display_data"
    },
    {
     "name": "stdout",
     "output_type": "stream",
     "text": [
      "Confusion Matrix\n",
      "[[ 0  0  0  0  0  0  0  1  0  3  0  0  0  1  1  1]\n",
      " [ 0  3  0  0  0  0  0  0  0  0  0  0  0  0  0  0]\n",
      " [ 1  0  1  0  0  0  0  0  0  1  0  0  0  0  0  1]\n",
      " [ 0  0  0 14  0  0  0  0  0  0  0  0  0  0  0  0]\n",
      " [ 0  0  0  0  4  0  1  0  0  0  0  0  0  0  0  0]\n",
      " [ 0  0  0  0  0 10  0  0  0  0  0  0  0  0  0  0]\n",
      " [ 0  0  0  0  0  0  1  0  3  0  0  1  0  6  0  0]\n",
      " [ 1  1  0  0  0  1  0  0  0  3  0  0  0  0  0  1]\n",
      " [ 0  1  0  0  0  0  0  0  4  0  0  0  0  0  0  0]\n",
      " [ 0  0  0  0  0  1  0  3  0 18  0  0  0  0  2  0]\n",
      " [ 0  0  0  0  0  3  0  0  0  6  0  0  0  0  0  0]\n",
      " [ 0  0  0  0  0  0  0  0  1  7  0  7  0  0  0  0]\n",
      " [ 0  0  0  0  0  6  1  0  0  1  0  0 12  0  0  1]\n",
      " [ 0  0  0  0  0  0  0  0  0  0  0  0  0  6  0  0]\n",
      " [ 0  2  0  0  0  3  3  2  0  0  0  6  0  1  0  0]\n",
      " [ 0  0  0  0  0  0  0  1  0  2  0  0  0  0  2 10]]\n",
      "Classification Report\n",
      "                  precision    recall  f1-score   support\n",
      "\n",
      "         bicycle       0.00      0.00      0.00         7\n",
      "        continue       0.43      1.00      0.60         3\n",
      "        crossing       1.00      0.25      0.40         4\n",
      "         giveway       1.00      1.00      1.00        14\n",
      "         laneend       1.00      0.80      0.89         5\n",
      "  limitedtraffic       0.42      1.00      0.59        10\n",
      "         noentry       0.17      0.09      0.12        11\n",
      "       noparking       0.00      0.00      0.00         7\n",
      "         parking       0.50      0.80      0.62         5\n",
      "      rightofway       0.44      0.75      0.55        24\n",
      "      roundabout       0.00      0.00      0.00         9\n",
      "           speed       0.50      0.47      0.48        15\n",
      "            stop       1.00      0.57      0.73        21\n",
      "trafficdirective       0.43      1.00      0.60         6\n",
      " traveldirection       0.00      0.00      0.00        17\n",
      "         warning       0.71      0.67      0.69        15\n",
      "\n",
      "        accuracy                           0.52       173\n",
      "       macro avg       0.47      0.52      0.45       173\n",
      "    weighted avg       0.49      0.52      0.47       173\n",
      "\n",
      "\n",
      "\n",
      "********************same as above model with class weights and early stopping*************************\n",
      "\n",
      "\n",
      "WARNING:tensorflow:sample_weight modes were coerced from\n",
      "  ...\n",
      "    to  \n",
      "  ['...']\n"
     ]
    },
    {
     "name": "stderr",
     "output_type": "stream",
     "text": [
      "C:\\Users\\Akshay\\Anaconda3\\lib\\site-packages\\sklearn\\metrics\\_classification.py:1272: UndefinedMetricWarning: Precision and F-score are ill-defined and being set to 0.0 in labels with no predicted samples. Use `zero_division` parameter to control this behavior.\n",
      "  _warn_prf(average, modifier, msg_start, len(result))\n"
     ]
    },
    {
     "name": "stdout",
     "output_type": "stream",
     "text": [
      "Restoring model weights from the end of the best epoch.\n",
      "Epoch 00079: early stopping\n",
      "Confusion Matrix\n",
      "[[27  0  0  0  0  0  0  1  0  0  0  0  0  0  0  0]\n",
      " [ 0 18  0  0  0  0  0  0  0  0  0  0  0  0  0  0]\n",
      " [ 0  0 12  0  0  0  0  0  0  0  0  0  0  0  0  0]\n",
      " [ 0  0  0 24  0  0  0  0  0  0  0  0  0  0  0  0]\n",
      " [ 0  0  0  0 12  0  0  0  0  0  0  0  0  0  0  0]\n",
      " [ 0  0  0  0  0 11  0  0  0  0  0  0  0  0  0  0]\n",
      " [ 1  0  0  0  0  0 40  0  0  0  0  0  0  0  0  0]\n",
      " [ 0  0  0  0  0  0  0 30  0  0  0  0  0  0  0  0]\n",
      " [ 0  0  0  0  0  0  0  0 32  0  0  0  0  0  1  0]\n",
      " [ 0  0  0  0  0  0  0  0  0 21  0  0  0  0  0  0]\n",
      " [ 0  0  0  0  0  0  0  0  0  0  5  0  0  0  0  0]\n",
      " [ 0  0  0  0  0  0  0  0  0  0  0 26  0  0  0  0]\n",
      " [ 0  0  0  0  0  0  0  0  0  0  0  0  9  0  0  0]\n",
      " [ 0  0  0  0  0  2  0  0  0  0  0  0  0 19  0  0]\n",
      " [ 0  0  0  0  0  0  0  0  0  0  0  0  0  0  9  0]\n",
      " [ 0  0  0  0  1  0  0  0  0  0  0  0  0  0  1 68]]\n",
      "Classification Report\n",
      "                  precision    recall  f1-score   support\n",
      "\n",
      "         bicycle       0.96      0.96      0.96        28\n",
      "        continue       1.00      1.00      1.00        18\n",
      "        crossing       1.00      1.00      1.00        12\n",
      "         giveway       1.00      1.00      1.00        24\n",
      "         laneend       0.92      1.00      0.96        12\n",
      "  limitedtraffic       0.85      1.00      0.92        11\n",
      "         noentry       1.00      0.98      0.99        41\n",
      "       noparking       0.97      1.00      0.98        30\n",
      "         parking       1.00      0.97      0.98        33\n",
      "      rightofway       1.00      1.00      1.00        21\n",
      "      roundabout       1.00      1.00      1.00         5\n",
      "           speed       1.00      1.00      1.00        26\n",
      "            stop       1.00      1.00      1.00         9\n",
      "trafficdirective       1.00      0.90      0.95        21\n",
      " traveldirection       0.82      1.00      0.90         9\n",
      "         warning       1.00      0.97      0.99        70\n",
      "\n",
      "        accuracy                           0.98       370\n",
      "       macro avg       0.97      0.99      0.98       370\n",
      "    weighted avg       0.98      0.98      0.98       370\n",
      "\n"
     ]
    },
    {
     "data": {
      "image/png": "[encoded data removed]",
      "text/plain": [
       "<Figure size 432x288 with 1 Axes>"
      ]
     },
     "metadata": {
      "needs_background": "light"
     },
     "output_type": "display_data"
    },
    {
     "data": {
      "image/png": "[encoded data removed]",
      "text/plain": [
       "<Figure size 432x288 with 1 Axes>"
      ]
     },
     "metadata": {
      "needs_background": "light"
     },
     "output_type": "display_data"
    },
    {
     "name": "stdout",
     "output_type": "stream",
     "text": [
      "Confusion Matrix\n",
      "[[ 0  0  0  0  0  0  1  1  0  3  0  0  0  1  1  0]\n",
      " [ 0  3  0  0  0  0  0  0  0  0  0  0  0  0  0  0]\n",
      " [ 0  0  1  0  0  0  0  0  0  1  0  0  0  0  0  2]\n",
      " [ 0  0  0 14  0  0  0  0  0  0  0  0  0  0  0  0]\n",
      " [ 0  0  0  0  4  0  1  0  0  0  0  0  0  0  0  0]\n",
      " [ 0  0  0  1  0  8  0  0  0  1  0  0  0  0  0  0]\n",
      " [ 0  0  0  0  0  0  1  0  5  0  0  1  0  4  0  0]\n",
      " [ 1  1  0  0  0  0  0  0  0  4  0  0  0  0  0  1]\n",
      " [ 0  1  0  0  0  0  0  0  2  0  0  0  0  0  1  1]\n",
      " [ 0  0  0  0  0  0  0  3  0 19  0  0  0  0  2  0]\n",
      " [ 0  0  0  0  0  2  0  0  0  7  0  0  0  0  0  0]\n",
      " [ 0  0  0  0  0  0  0  4  0  5  0  6  0  0  0  0]\n",
      " [ 0  0  0  0  0  8  1  0  0  0  0  0 10  0  1  1]\n",
      " [ 0  0  0  0  0  0  0  0  2  0  0  0  0  4  0  0]\n",
      " [ 0  5  0  0  0  1  3  2  0  0  0  5  0  0  1  0]\n",
      " [ 0  0  0  0  0  0  0  1  0  3  0  0  0  0  0 11]]\n",
      "Classification Report\n",
      "                  precision    recall  f1-score   support\n",
      "\n",
      "         bicycle       0.00      0.00      0.00         7\n",
      "        continue       0.30      1.00      0.46         3\n",
      "        crossing       1.00      0.25      0.40         4\n",
      "         giveway       0.93      1.00      0.97        14\n",
      "         laneend       1.00      0.80      0.89         5\n",
      "  limitedtraffic       0.42      0.80      0.55        10\n",
      "         noentry       0.14      0.09      0.11        11\n",
      "       noparking       0.00      0.00      0.00         7\n",
      "         parking       0.22      0.40      0.29         5\n",
      "      rightofway       0.44      0.79      0.57        24\n",
      "      roundabout       0.00      0.00      0.00         9\n",
      "           speed       0.50      0.40      0.44        15\n",
      "            stop       1.00      0.48      0.65        21\n",
      "trafficdirective       0.44      0.67      0.53         6\n",
      " traveldirection       0.17      0.06      0.09        17\n",
      "         warning       0.69      0.73      0.71        15\n",
      "\n",
      "        accuracy                           0.49       173\n",
      "       macro avg       0.45      0.47      0.42       173\n",
      "    weighted avg       0.49      0.49      0.45       173\n",
      "\n",
      "WARNING:tensorflow:sample_weight modes were coerced from\n",
      "  ...\n",
      "    to  \n",
      "  ['...']\n"
     ]
    },
    {
     "name": "stderr",
     "output_type": "stream",
     "text": [
      "C:\\Users\\Akshay\\Anaconda3\\lib\\site-packages\\sklearn\\metrics\\_classification.py:1272: UndefinedMetricWarning: Precision and F-score are ill-defined and being set to 0.0 in labels with no predicted samples. Use `zero_division` parameter to control this behavior.\n",
      "  _warn_prf(average, modifier, msg_start, len(result))\n"
     ]
    },
    {
     "name": "stdout",
     "output_type": "stream",
     "text": [
      "Restoring model weights from the end of the best epoch.\n",
      "Epoch 00047: early stopping\n",
      "Confusion Matrix\n",
      "[[26  0  0  0  0  0  0  1  0  0  0  0  0  0  1  0]\n",
      " [ 0 18  0  0  0  0  0  0  0  0  0  0  0  0  0  0]\n",
      " [ 0  0 12  0  0  0  0  0  0  0  0  0  0  0  0  0]\n",
      " [ 0  0  0 24  0  0  0  0  0  0  0  0  0  0  0  0]\n",
      " [ 0  0  0  0 12  0  0  0  0  0  0  0  0  0  0  0]\n",
      " [ 0  0  0  0  0 11  0  0  0  0  0  0  0  0  0  0]\n",
      " [ 1  0  0  0  0  0 39  1  0  0  0  0  0  0  0  0]\n",
      " [ 0  0  0  0  0  0  0 30  0  0  0  0  0  0  0  0]\n",
      " [ 0  0  0  0  0  0  0  0 33  0  0  0  0  0  0  0]\n",
      " [ 0  0  0  0  0  0  0  0  0 21  0  0  0  0  0  0]\n",
      " [ 0  0  0  0  0  0  0  0  0  0  5  0  0  0  0  0]\n",
      " [ 0  0  0  0  0  0  0  0  0  0  0 25  0  1  0  0]\n",
      " [ 0  0  0  0  0  0  0  0  0  0  0  0  9  0  0  0]\n",
      " [ 0  0  0  0  0  0  0  0  0  0  0  0  1 20  0  0]\n",
      " [ 0  0  0  0  0  0  0  0  0  0  0  0  0  0  9  0]\n",
      " [ 0  0  0  0  0  0  0  0  0  0  0  0  0  0  0 70]]\n",
      "Classification Report\n",
      "                  precision    recall  f1-score   support\n",
      "\n",
      "         bicycle       0.96      0.93      0.95        28\n",
      "        continue       1.00      1.00      1.00        18\n",
      "        crossing       1.00      1.00      1.00        12\n",
      "         giveway       1.00      1.00      1.00        24\n",
      "         laneend       1.00      1.00      1.00        12\n",
      "  limitedtraffic       1.00      1.00      1.00        11\n",
      "         noentry       1.00      0.95      0.97        41\n",
      "       noparking       0.94      1.00      0.97        30\n",
      "         parking       1.00      1.00      1.00        33\n",
      "      rightofway       1.00      1.00      1.00        21\n",
      "      roundabout       1.00      1.00      1.00         5\n",
      "           speed       1.00      0.96      0.98        26\n",
      "            stop       0.90      1.00      0.95         9\n",
      "trafficdirective       0.95      0.95      0.95        21\n",
      " traveldirection       0.90      1.00      0.95         9\n",
      "         warning       1.00      1.00      1.00        70\n",
      "\n",
      "        accuracy                           0.98       370\n",
      "       macro avg       0.98      0.99      0.98       370\n",
      "    weighted avg       0.98      0.98      0.98       370\n",
      "\n"
     ]
    },
    {
     "data": {
      "image/png": "[encoded data removed]",
      "text/plain": [
       "<Figure size 432x288 with 1 Axes>"
      ]
     },
     "metadata": {
      "needs_background": "light"
     },
     "output_type": "display_data"
    },
    {
     "data": {
      "image/png": "[encoded data removed]",
      "text/plain": [
       "<Figure size 432x288 with 1 Axes>"
      ]
     },
     "metadata": {
      "needs_background": "light"
     },
     "output_type": "display_data"
    },
    {
     "name": "stdout",
     "output_type": "stream",
     "text": [
      "Confusion Matrix\n",
      "[[ 0  0  0  0  0  0  0  0  0  1  0  1  0  1  2  2]\n",
      " [ 0  3  0  0  0  0  0  0  0  0  0  0  0  0  0  0]\n",
      " [ 0  0  0  0  0  0  0  0  0  0  0  0  0  0  0  4]\n",
      " [ 0  0  0 14  0  0  0  0  0  0  0  0  0  0  0  0]\n",
      " [ 0  2  0  0  3  0  0  0  0  0  0  0  0  0  0  0]\n",
      " [ 0  0  0  0  0 10  0  0  0  0  0  0  0  0  0  0]\n",
      " [ 0  0  0  0  0  0  1  0  0  0  0  0  0  9  1  0]\n",
      " [ 1  1  0  0  0  0  0  0  0  3  1  0  0  0  0  1]\n",
      " [ 0  0  1  0  0  0  0  0  4  0  0  0  0  0  0  0]\n",
      " [ 0  0  0  0  0  0  0  2  0 20  0  0  0  0  2  0]\n",
      " [ 0  0  0  0  0  0  0  0  0  3  0  5  0  1  0  0]\n",
      " [ 0  0  0  0  0  0  0  0  2  8  0  5  0  0  0  0]\n",
      " [ 0  0  0  0  0  0  1  0  0  0  0  0 18  0  1  1]\n",
      " [ 0  0  0  0  0  0  0  0  0  0  0  0  0  6  0  0]\n",
      " [ 0  3  0  0  0  0  5  2  0  0  0  6  0  0  1  0]\n",
      " [ 0  0  0  0  0  0  0  0  0  0  0  0  0  0  0 15]]\n",
      "Classification Report\n",
      "                  precision    recall  f1-score   support\n",
      "\n",
      "         bicycle       0.00      0.00      0.00         7\n",
      "        continue       0.33      1.00      0.50         3\n",
      "        crossing       0.00      0.00      0.00         4\n",
      "         giveway       1.00      1.00      1.00        14\n",
      "         laneend       1.00      0.60      0.75         5\n",
      "  limitedtraffic       1.00      1.00      1.00        10\n",
      "         noentry       0.14      0.09      0.11        11\n",
      "       noparking       0.00      0.00      0.00         7\n",
      "         parking       0.67      0.80      0.73         5\n",
      "      rightofway       0.57      0.83      0.68        24\n",
      "      roundabout       0.00      0.00      0.00         9\n",
      "           speed       0.29      0.33      0.31        15\n",
      "            stop       1.00      0.86      0.92        21\n",
      "trafficdirective       0.35      1.00      0.52         6\n",
      " traveldirection       0.14      0.06      0.08        17\n",
      "         warning       0.65      1.00      0.79        15\n",
      "\n",
      "        accuracy                           0.58       173\n",
      "       macro avg       0.45      0.54      0.46       173\n",
      "    weighted avg       0.51      0.58      0.53       173\n",
      "\n"
     ]
    }
   ],
   "source": [
    "#This model works better on independent evaluation, F1 score for each category is better, adding class weights doesnot improve th over fitting and independent evaluation is not that good in accuracy and f1 score.\n",
    "\n",
    "monitor=EarlyStopping(monitor='val_loss',min_delta=1e-3,patience=30,verbose=1,restore_best_weights=True)\n",
    "\n",
    "\n",
    "#create model\n",
    "model_2layer = Sequential()\n",
    "create_1(model_2layer,'sgd')\n",
    "# Train model on dataset\n",
    "hist=model_2layer.fit_generator(generator=train_generator,\n",
    "                    validation_data=validation_generator,\n",
    "                    epochs=150,verbose=0)\n",
    "eval_m(model_2layer)\n",
    "newplot(hist)\n",
    "ind_eval(hist)\n",
    "\n",
    "print(\"\\n\")\n",
    "print(\"********************same as above model with class weights and early stopping*************************\")\n",
    "print(\"\\n\")\n",
    "\n",
    "#create model\n",
    "model_2layer_v1=Sequential()\n",
    "create_1(model_2layer_v1,'sgd')\n",
    "\n",
    "\n",
    "# Train model on dataset\n",
    "hist_1=model_2layer_v1.fit_generator(generator=train_generator,\n",
    "                    validation_data=validation_generator,\n",
    "                    callbacks=[monitor],\n",
    "                    epochs=250,\n",
    "                    verbose=0,\n",
    "                    class_weight=class_weight)\n",
    "eval_m(model_2layer_v1)\n",
    "newplot(hist_1)\n",
    "ind_eval(hist_1)\n",
    "\n",
    "\n",
    "#create model\n",
    "model_2layer_v2=Sequential()\n",
    "create_1(model_2layer_v2,'adam')\n",
    "\n",
    "\n",
    "# Train model on dataset\n",
    "hist_2=model_2layer_v2.fit_generator(generator=train_generator,\n",
    "                    validation_data=validation_generator,\n",
    "                    callbacks=[monitor],\n",
    "                    epochs=250,\n",
    "                    verbose=0,\n",
    "                    class_weight=class_weight)\n",
    "eval_m(model_2layer_v2)\n",
    "newplot(hist_2)\n",
    "ind_eval(hist_2)"
   ]
  },
  {
   "cell_type": "markdown",
   "metadata": {},
   "source": [
    "##### Model with drop outs"
   ]
  },
  {
   "cell_type": "code",
   "execution_count": 44,
   "metadata": {},
   "outputs": [],
   "source": [
    "def create_2(model,opt='sgd'):\n",
    "    \n",
    "    model.add(Lambda(lambda x: tf.expand_dims(x[:,:,:,0], -1, name=None))) \n",
    "    model.add(Conv2D(32, (3, 3), padding='same',input_shape=(28,28,3)))\n",
    "    model.add(Activation('relu'))\n",
    "    model.add(MaxPooling2D(pool_size=(2, 2)))\n",
    "\n",
    "\n",
    "    model.add(Conv2D(64, (3, 3), padding='same'))\n",
    "\n",
    "    model.add(Activation('relu'))\n",
    "    model.add(MaxPooling2D(pool_size=(2, 2)))\n",
    "    model.add(Dropout(0.5))\n",
    "\n",
    "    model.add(Flatten())\n",
    "\n",
    "    model.add(Dense(64))\n",
    "    model.add(Activation('relu'))\n",
    "    model.add(Dropout(0.5))\n",
    "\n",
    "    model.add(Dense(16, activation='softmax'))\n",
    "    if opt=='sgd':\n",
    "        optimizers.SGD(lr=0.01)\n",
    "        model.compile(optimizer=opt,loss=\"categorical_crossentropy\", metrics=[\"categorical_accuracy\"])\n",
    "    if opt=='adam':\n",
    "        optimizers.Adam(lr=0.01)\n",
    "        model.compile(optimizer=opt,loss=\"categorical_crossentropy\", metrics=[\"categorical_accuracy\"])\n",
    "\n"
   ]
  },
  {
   "cell_type": "code",
   "execution_count": 65,
   "metadata": {},
   "outputs": [
    {
     "name": "stdout",
     "output_type": "stream",
     "text": [
      "WARNING:tensorflow:sample_weight modes were coerced from\n",
      "  ...\n",
      "    to  \n",
      "  ['...']\n",
      "Confusion Matrix\n",
      "[[28  0  0  0  0  0  0  0  0  0  0  0  0  0  0  0]\n",
      " [ 0 18  0  0  0  0  0  0  0  0  0  0  0  0  0  0]\n",
      " [ 0  0 12  0  0  0  0  0  0  0  0  0  0  0  0  0]\n",
      " [ 0  0  0 24  0  0  0  0  0  0  0  0  0  0  0  0]\n",
      " [ 0  0  0  0 12  0  0  0  0  0  0  0  0  0  0  0]\n",
      " [ 0  0  0  0  0 11  0  0  0  0  0  0  0  0  0  0]\n",
      " [ 0  0  0  0  0  0 40  0  1  0  0  0  0  0  0  0]\n",
      " [ 0  0  0  0  0  0  0 30  0  0  0  0  0  0  0  0]\n",
      " [ 0  0  0  0  0  0  0  0 33  0  0  0  0  0  0  0]\n",
      " [ 0  0  0  0  0  0  0  0  0 21  0  0  0  0  0  0]\n",
      " [ 0  0  0  0  0  0  0  0  0  0  5  0  0  0  0  0]\n",
      " [ 0  0  0  0  0  0  0  0  0  0  0 26  0  0  0  0]\n",
      " [ 0  0  0  0  0  0  0  0  0  0  0  0  9  0  0  0]\n",
      " [ 0  0  0  0  0  2  0  0  0  0  0  0  0 18  1  0]\n",
      " [ 0  0  0  0  0  0  0  0  0  0  0  0  0  0  9  0]\n",
      " [ 0  0  0  0  0  0  0  0  0  0  0  0  0  0  0 70]]\n",
      "Classification Report\n",
      "                  precision    recall  f1-score   support\n",
      "\n",
      "         bicycle       1.00      1.00      1.00        28\n",
      "        continue       1.00      1.00      1.00        18\n",
      "        crossing       1.00      1.00      1.00        12\n",
      "         giveway       1.00      1.00      1.00        24\n",
      "         laneend       1.00      1.00      1.00        12\n",
      "  limitedtraffic       0.85      1.00      0.92        11\n",
      "         noentry       1.00      0.98      0.99        41\n",
      "       noparking       1.00      1.00      1.00        30\n",
      "         parking       0.97      1.00      0.99        33\n",
      "      rightofway       1.00      1.00      1.00        21\n",
      "      roundabout       1.00      1.00      1.00         5\n",
      "           speed       1.00      1.00      1.00        26\n",
      "            stop       1.00      1.00      1.00         9\n",
      "trafficdirective       1.00      0.86      0.92        21\n",
      " traveldirection       0.90      1.00      0.95         9\n",
      "         warning       1.00      1.00      1.00        70\n",
      "\n",
      "        accuracy                           0.99       370\n",
      "       macro avg       0.98      0.99      0.98       370\n",
      "    weighted avg       0.99      0.99      0.99       370\n",
      "\n"
     ]
    },
    {
     "data": {
      "image/png": "[encoded data removed]",
      "text/plain": [
       "<Figure size 432x288 with 1 Axes>"
      ]
     },
     "metadata": {
      "needs_background": "light"
     },
     "output_type": "display_data"
    },
    {
     "data": {
      "image/png": "[encoded data removed]",
      "text/plain": [
       "<Figure size 432x288 with 1 Axes>"
      ]
     },
     "metadata": {
      "needs_background": "light"
     },
     "output_type": "display_data"
    },
    {
     "name": "stdout",
     "output_type": "stream",
     "text": [
      "Confusion Matrix\n",
      "[[ 1  1  1  0  0  0  0  0  0  1  0  0  0  1  0  2]\n",
      " [ 0  2  0  0  1  0  0  0  0  0  0  0  0  0  0  0]\n",
      " [ 0  0  1  0  0  0  0  0  0  0  0  0  0  0  0  3]\n",
      " [ 0  0  0 14  0  0  0  0  0  0  0  0  0  0  0  0]\n",
      " [ 0  0  0  0  5  0  0  0  0  0  0  0  0  0  0  0]\n",
      " [ 0  0  0  0  0 10  0  0  0  0  0  0  0  0  0  0]\n",
      " [ 0  0  0  0  0  0  1  0  1  0  0  0  0  7  1  1]\n",
      " [ 2  0  0  0  0  2  0  1  0  2  0  0  0  0  0  2]\n",
      " [ 0  0  1  0  0  0  0  0  4  0  0  0  0  0  0  0]\n",
      " [ 0  0  0  0  0  0  0  5  0 17  0  0  0  0  2  0]\n",
      " [ 0  0  0  0  0  0  0  0  0  0  0  0  0  9  0  0]\n",
      " [ 0  0  0  0  0  1  0  6  1  1  0  6  0  0  0  0]\n",
      " [ 2  0  0  0  0  0  1  0  0  0  0  0 18  0  0  0]\n",
      " [ 0  0  0  0  0  0  0  0  1  0  0  0  0  5  0  0]\n",
      " [ 0  2  0  0  0  0  7  2  0  0  0  5  0  0  1  0]\n",
      " [ 0  0  0  0  0  0  0  0  0  0  0  0  0  0  0 15]]\n",
      "Classification Report\n",
      "                  precision    recall  f1-score   support\n",
      "\n",
      "         bicycle       0.20      0.14      0.17         7\n",
      "        continue       0.40      0.67      0.50         3\n",
      "        crossing       0.33      0.25      0.29         4\n",
      "         giveway       1.00      1.00      1.00        14\n",
      "         laneend       0.83      1.00      0.91         5\n",
      "  limitedtraffic       0.77      1.00      0.87        10\n",
      "         noentry       0.11      0.09      0.10        11\n",
      "       noparking       0.07      0.11      0.09         9\n",
      "         parking       0.57      0.80      0.67         5\n",
      "      rightofway       0.81      0.71      0.76        24\n",
      "      roundabout       0.00      0.00      0.00         9\n",
      "           speed       0.55      0.40      0.46        15\n",
      "            stop       1.00      0.86      0.92        21\n",
      "trafficdirective       0.23      0.83      0.36         6\n",
      " traveldirection       0.25      0.06      0.10        17\n",
      "         warning       0.65      1.00      0.79        15\n",
      "\n",
      "        accuracy                           0.58       175\n",
      "       macro avg       0.49      0.56      0.50       175\n",
      "    weighted avg       0.56      0.58      0.55       175\n",
      "\n",
      "\n",
      "\n",
      "********************same as above model with class weights and early stopping*************************\n",
      "\n",
      "\n"
     ]
    },
    {
     "name": "stderr",
     "output_type": "stream",
     "text": [
      "C:\\Users\\Akshay\\Anaconda3\\lib\\site-packages\\sklearn\\metrics\\_classification.py:1272: UndefinedMetricWarning: Precision and F-score are ill-defined and being set to 0.0 in labels with no predicted samples. Use `zero_division` parameter to control this behavior.\n",
      "  _warn_prf(average, modifier, msg_start, len(result))\n"
     ]
    },
    {
     "name": "stdout",
     "output_type": "stream",
     "text": [
      "WARNING:tensorflow:sample_weight modes were coerced from\n",
      "  ...\n",
      "    to  \n",
      "  ['...']\n",
      "Restoring model weights from the end of the best epoch.\n",
      "Epoch 00215: early stopping\n",
      "Confusion Matrix\n",
      "[[28  0  0  0  0  0  0  0  0  0  0  0  0  0  0  0]\n",
      " [ 0 18  0  0  0  0  0  0  0  0  0  0  0  0  0  0]\n",
      " [ 0  0 12  0  0  0  0  0  0  0  0  0  0  0  0  0]\n",
      " [ 0  0  0 24  0  0  0  0  0  0  0  0  0  0  0  0]\n",
      " [ 0  0  0  0 12  0  0  0  0  0  0  0  0  0  0  0]\n",
      " [ 0  0  0  0  0 11  0  0  0  0  0  0  0  0  0  0]\n",
      " [ 0  0  0  0  0  0 40  1  0  0  0  0  0  0  0  0]\n",
      " [ 0  0  0  0  0  0  0 30  0  0  0  0  0  0  0  0]\n",
      " [ 0  0  0  0  0  0  0  0 33  0  0  0  0  0  0  0]\n",
      " [ 0  0  0  0  0  0  0  0  0 21  0  0  0  0  0  0]\n",
      " [ 0  0  0  0  0  0  0  0  0  0  5  0  0  0  0  0]\n",
      " [ 0  0  0  0  0  0  0  0  0  0  0 26  0  0  0  0]\n",
      " [ 0  0  0  0  0  0  0  0  0  0  0  0  9  0  0  0]\n",
      " [ 0  0  0  0  0  2  0  0  0  0  0  0  1 18  0  0]\n",
      " [ 0  0  0  0  0  0  0  0  0  0  0  0  0  0  9  0]\n",
      " [ 0  0  0  0  0  0  0  0  0  0  0  0  0  0  0 70]]\n",
      "Classification Report\n",
      "                  precision    recall  f1-score   support\n",
      "\n",
      "         bicycle       1.00      1.00      1.00        28\n",
      "        continue       1.00      1.00      1.00        18\n",
      "        crossing       1.00      1.00      1.00        12\n",
      "         giveway       1.00      1.00      1.00        24\n",
      "         laneend       1.00      1.00      1.00        12\n",
      "  limitedtraffic       0.85      1.00      0.92        11\n",
      "         noentry       1.00      0.98      0.99        41\n",
      "       noparking       0.97      1.00      0.98        30\n",
      "         parking       1.00      1.00      1.00        33\n",
      "      rightofway       1.00      1.00      1.00        21\n",
      "      roundabout       1.00      1.00      1.00         5\n",
      "           speed       1.00      1.00      1.00        26\n",
      "            stop       0.90      1.00      0.95         9\n",
      "trafficdirective       1.00      0.86      0.92        21\n",
      " traveldirection       1.00      1.00      1.00         9\n",
      "         warning       1.00      1.00      1.00        70\n",
      "\n",
      "        accuracy                           0.99       370\n",
      "       macro avg       0.98      0.99      0.98       370\n",
      "    weighted avg       0.99      0.99      0.99       370\n",
      "\n"
     ]
    },
    {
     "data": {
      "image/png": "[encoded data removed]",
      "text/plain": [
       "<Figure size 432x288 with 1 Axes>"
      ]
     },
     "metadata": {
      "needs_background": "light"
     },
     "output_type": "display_data"
    },
    {
     "data": {
      "image/png": "[encoded data removed]",
      "text/plain": [
       "<Figure size 432x288 with 1 Axes>"
      ]
     },
     "metadata": {
      "needs_background": "light"
     },
     "output_type": "display_data"
    },
    {
     "name": "stdout",
     "output_type": "stream",
     "text": [
      "Confusion Matrix\n",
      "[[ 1  0  0  0  0  0  0  0  0  1  0  0  0  1  2  2]\n",
      " [ 0  3  0  0  0  0  0  0  0  0  0  0  0  0  0  0]\n",
      " [ 0  0  1  0  0  0  0  0  0  0  0  0  0  0  0  3]\n",
      " [ 0  0  0 14  0  0  0  0  0  0  0  0  0  0  0  0]\n",
      " [ 0  1  0  0  4  0  0  0  0  0  0  0  0  0  0  0]\n",
      " [ 0  0  0  0  0 10  0  0  0  0  0  0  0  0  0  0]\n",
      " [ 0  0  0  0  0  0  1  0  0  0  0  0  0  9  1  0]\n",
      " [ 1  0  0  0  0  0  1  1  0  2  0  0  0  1  1  2]\n",
      " [ 0  0  0  0  0  0  0  0  4  0  0  0  0  0  0  1]\n",
      " [ 0  0  0  0  0  1  0  3  0 18  0  0  0  0  2  0]\n",
      " [ 0  0  0  0  0  3  0  0  0  0  0  0  0  6  0  0]\n",
      " [ 0  0  0  0  0  0  0  8  2  0  0  5  0  0  0  0]\n",
      " [ 1  0  0  0  0  2  1  0  0  0  0  0 16  0  1  0]\n",
      " [ 0  0  0  0  0  0  0  0  0  0  0  0  0  6  0  0]\n",
      " [ 0  1  0  0  0  0  6  3  0  0  0  5  0  0  2  0]\n",
      " [ 0  0  0  0  0  0  0  0  0  0  0  0  0  0  0 15]]\n",
      "Classification Report\n",
      "                  precision    recall  f1-score   support\n",
      "\n",
      "         bicycle       0.33      0.14      0.20         7\n",
      "        continue       0.60      1.00      0.75         3\n",
      "        crossing       1.00      0.25      0.40         4\n",
      "         giveway       1.00      1.00      1.00        14\n",
      "         laneend       1.00      0.80      0.89         5\n",
      "  limitedtraffic       0.62      1.00      0.77        10\n",
      "         noentry       0.11      0.09      0.10        11\n",
      "       noparking       0.07      0.11      0.08         9\n",
      "         parking       0.67      0.80      0.73         5\n",
      "      rightofway       0.86      0.75      0.80        24\n",
      "      roundabout       0.00      0.00      0.00         9\n",
      "           speed       0.50      0.33      0.40        15\n",
      "            stop       1.00      0.76      0.86        21\n",
      "trafficdirective       0.26      1.00      0.41         6\n",
      " traveldirection       0.22      0.12      0.15        17\n",
      "         warning       0.65      1.00      0.79        15\n",
      "\n",
      "        accuracy                           0.58       175\n",
      "       macro avg       0.56      0.57      0.52       175\n",
      "    weighted avg       0.59      0.58      0.56       175\n",
      "\n",
      "\n",
      "\n",
      "********************same as above model with class weights and early stopping optimizer =adam*************************\n",
      "\n",
      "\n"
     ]
    },
    {
     "name": "stderr",
     "output_type": "stream",
     "text": [
      "C:\\Users\\Akshay\\Anaconda3\\lib\\site-packages\\sklearn\\metrics\\_classification.py:1272: UndefinedMetricWarning: Precision and F-score are ill-defined and being set to 0.0 in labels with no predicted samples. Use `zero_division` parameter to control this behavior.\n",
      "  _warn_prf(average, modifier, msg_start, len(result))\n"
     ]
    },
    {
     "name": "stdout",
     "output_type": "stream",
     "text": [
      "WARNING:tensorflow:sample_weight modes were coerced from\n",
      "  ...\n",
      "    to  \n",
      "  ['...']\n",
      "Restoring model weights from the end of the best epoch.\n",
      "Epoch 00125: early stopping\n",
      "Confusion Matrix\n",
      "[[28  0  0  0  0  0  0  0  0  0  0  0  0  0  0  0]\n",
      " [ 0 18  0  0  0  0  0  0  0  0  0  0  0  0  0  0]\n",
      " [ 0  0 12  0  0  0  0  0  0  0  0  0  0  0  0  0]\n",
      " [ 0  0  0 24  0  0  0  0  0  0  0  0  0  0  0  0]\n",
      " [ 0  0  0  0 12  0  0  0  0  0  0  0  0  0  0  0]\n",
      " [ 0  0  0  0  0 11  0  0  0  0  0  0  0  0  0  0]\n",
      " [ 0  0  0  0  0  0 41  0  0  0  0  0  0  0  0  0]\n",
      " [ 0  0  0  0  0  0  0 30  0  0  0  0  0  0  0  0]\n",
      " [ 0  0  0  0  0  0  0  0 33  0  0  0  0  0  0  0]\n",
      " [ 0  0  0  0  0  0  0  0  0 21  0  0  0  0  0  0]\n",
      " [ 0  0  0  0  0  0  0  0  0  0  5  0  0  0  0  0]\n",
      " [ 0  0  0  0  0  0  0  0  0  0  0 26  0  0  0  0]\n",
      " [ 0  0  0  0  0  0  0  0  0  0  0  0  9  0  0  0]\n",
      " [ 0  0  0  0  0  1  0  0  0  0  0  0  0 20  0  0]\n",
      " [ 0  0  0  0  0  0  0  0  0  0  0  0  0  0  9  0]\n",
      " [ 0  0  0  0  0  0  0  0  0  0  0  0  0  0  0 70]]\n",
      "Classification Report\n",
      "                  precision    recall  f1-score   support\n",
      "\n",
      "         bicycle       1.00      1.00      1.00        28\n",
      "        continue       1.00      1.00      1.00        18\n",
      "        crossing       1.00      1.00      1.00        12\n",
      "         giveway       1.00      1.00      1.00        24\n",
      "         laneend       1.00      1.00      1.00        12\n",
      "  limitedtraffic       0.92      1.00      0.96        11\n",
      "         noentry       1.00      1.00      1.00        41\n",
      "       noparking       1.00      1.00      1.00        30\n",
      "         parking       1.00      1.00      1.00        33\n",
      "      rightofway       1.00      1.00      1.00        21\n",
      "      roundabout       1.00      1.00      1.00         5\n",
      "           speed       1.00      1.00      1.00        26\n",
      "            stop       1.00      1.00      1.00         9\n",
      "trafficdirective       1.00      0.95      0.98        21\n",
      " traveldirection       1.00      1.00      1.00         9\n",
      "         warning       1.00      1.00      1.00        70\n",
      "\n",
      "        accuracy                           1.00       370\n",
      "       macro avg       0.99      1.00      1.00       370\n",
      "    weighted avg       1.00      1.00      1.00       370\n",
      "\n"
     ]
    },
    {
     "data": {
      "image/png": "[encoded data removed]",
      "text/plain": [
       "<Figure size 432x288 with 1 Axes>"
      ]
     },
     "metadata": {
      "needs_background": "light"
     },
     "output_type": "display_data"
    },
    {
     "data": {
      "image/png": "[encoded data removed]",
      "text/plain": [
       "<Figure size 432x288 with 1 Axes>"
      ]
     },
     "metadata": {
      "needs_background": "light"
     },
     "output_type": "display_data"
    },
    {
     "name": "stdout",
     "output_type": "stream",
     "text": [
      "Confusion Matrix\n",
      "[[ 3  0  0  0  0  0  0  0  0  0  0  0  0  1  1  2]\n",
      " [ 0  2  0  0  1  0  0  0  0  0  0  0  0  0  0  0]\n",
      " [ 0  0  2  0  0  0  0  0  0  0  0  0  0  0  0  2]\n",
      " [ 0  0  0 14  0  0  0  0  0  0  0  0  0  0  0  0]\n",
      " [ 0  0  0  0  4  0  0  0  0  0  0  0  0  0  1  0]\n",
      " [ 0  0  0  0  0 10  0  0  0  0  0  0  0  0  0  0]\n",
      " [ 0  0  0  0  0  0  1  0  0  0  0  0  0  8  1  1]\n",
      " [ 2  0  0  0  0  1  0  4  0  1  0  0  0  0  0  1]\n",
      " [ 0  0  0  0  0  0  0  0  5  0  0  0  0  0  0  0]\n",
      " [ 0  0  0  0  0  0  0  2  0 20  0  0  0  0  2  0]\n",
      " [ 0  0  0  0  0  1  0  5  0  0  0  0  0  3  0  0]\n",
      " [ 0  0  0  0  0  0  0  0  2  0  0 13  0  0  0  0]\n",
      " [ 1  0  0  0  0  0  1  0  0  0  0  0 18  0  1  0]\n",
      " [ 0  0  0  0  0  0  0  0  0  0  0  0  0  6  0  0]\n",
      " [ 0  5  0  0  0  0  1  1  2  0  0  0  0  0  5  3]\n",
      " [ 0  0  0  0  0  0  0  0  0  0  0  0  0  0  0 15]]\n",
      "Classification Report\n",
      "                  precision    recall  f1-score   support\n",
      "\n",
      "         bicycle       0.50      0.43      0.46         7\n",
      "        continue       0.29      0.67      0.40         3\n",
      "        crossing       1.00      0.50      0.67         4\n",
      "         giveway       1.00      1.00      1.00        14\n",
      "         laneend       0.80      0.80      0.80         5\n",
      "  limitedtraffic       0.83      1.00      0.91        10\n",
      "         noentry       0.33      0.09      0.14        11\n",
      "       noparking       0.33      0.44      0.38         9\n",
      "         parking       0.56      1.00      0.71         5\n",
      "      rightofway       0.95      0.83      0.89        24\n",
      "      roundabout       0.00      0.00      0.00         9\n",
      "           speed       1.00      0.87      0.93        15\n",
      "            stop       1.00      0.86      0.92        21\n",
      "trafficdirective       0.33      1.00      0.50         6\n",
      " traveldirection       0.45      0.29      0.36        17\n",
      "         warning       0.62      1.00      0.77        15\n",
      "\n",
      "        accuracy                           0.70       175\n",
      "       macro avg       0.63      0.67      0.62       175\n",
      "    weighted avg       0.70      0.70      0.67       175\n",
      "\n"
     ]
    },
    {
     "name": "stderr",
     "output_type": "stream",
     "text": [
      "C:\\Users\\Akshay\\Anaconda3\\lib\\site-packages\\sklearn\\metrics\\_classification.py:1272: UndefinedMetricWarning: Precision and F-score are ill-defined and being set to 0.0 in labels with no predicted samples. Use `zero_division` parameter to control this behavior.\n",
      "  _warn_prf(average, modifier, msg_start, len(result))\n"
     ]
    }
   ],
   "source": [
    "\n",
    "#create model\n",
    "model_2layer = Sequential()\n",
    "create_2(model_2layer,opt='sgd')\n",
    "\n",
    "# Train model on dataset\n",
    "histd=model_2layer.fit_generator(generator=train_generator,\n",
    "                    validation_data=validation_generator,\n",
    "                    epochs=100,verbose=0)\n",
    "eval_m(model_2layer)\n",
    "newplot(histd)\n",
    "ind_eval(histd)\n",
    "#epoch50 accuracy -71\n",
    "#epoch100 accuracy -81\n",
    "#epoch150 accuracy -89\n",
    "#epoch200 accuracy -92\n",
    "#epoch250 accuracy -92\n",
    "#No class weights given there fore the minority class 'hex' is being predicted worng in the independent test set.\n",
    "\n",
    "print(\"\\n\")\n",
    "print(\"********************same as above model with class weights and early stopping*************************\")\n",
    "print(\"\\n\")\n",
    "\n",
    "#create model\n",
    "model_2layer_v1=Sequential()\n",
    "create_2(model_2layer_v1,opt='sgd')\n",
    "\n",
    "monitor=EarlyStopping(monitor='val_loss',min_delta=1e-3,patience=50,verbose=1,restore_best_weights=True)\n",
    "\n",
    "# Train model on dataset\n",
    "histd_1=model_2layer_v1.fit_generator(generator=train_generator,\n",
    "                    validation_data=validation_generator,\n",
    "                    callbacks=[monitor],\n",
    "                    epochs=250,\n",
    "                    verbose=0,\n",
    "                    class_weight=class_weight)\n",
    "eval_m(model_2layer_v1)\n",
    "newplot(histd_1)\n",
    "ind_eval(histd_1)\n",
    "\n",
    "\n",
    "\n",
    "print(\"\\n\")\n",
    "print(\"********************same as above model with class weights and early stopping optimizer =adam*************************\")\n",
    "print(\"\\n\")\n",
    "\n",
    "#create model\n",
    "model_2layer_ad=Sequential()\n",
    "create_2(model_2layer_ad,opt='adam')\n",
    "\n",
    "monitor=EarlyStopping(monitor='val_loss',min_delta=1e-4,patience=50,verbose=1,restore_best_weights=True)\n",
    "\n",
    "# Train model on dataset\n",
    "histd_2=model_2layer_ad.fit_generator(generator=train_generator,\n",
    "                    validation_data=validation_generator,\n",
    "                    callbacks=[monitor],\n",
    "                    epochs=250,\n",
    "                    verbose=0,\n",
    "                    class_weight=class_weight)\n",
    "eval_m(model_2layer_ad)\n",
    "newplot(histd_2)\n",
    "ind_eval(histd_2)\n",
    "\n"
   ]
  },
  {
   "cell_type": "code",
   "execution_count": 46,
   "metadata": {},
   "outputs": [],
   "source": [
    "\n",
    "\n",
    "def create_3(model_cnn,opt='sgd'):\n",
    "\n",
    "    # input\n",
    "    model_cnn.add(Input(shape=(28, 28, 3)))\n",
    "    model_cnn.add(Lambda(lambda x: tf.expand_dims(x[:,:,:,0], -1, name=None))) \n",
    "\n",
    "    # Conv Layer 1\n",
    "    model_cnn.add(Conv2D(32, (3, 3),kernel_regularizer=regularizers.l2(0.001)))\n",
    "    model_cnn.add(Activation('relu'))\n",
    "    model_cnn.add(MaxPooling2D(pool_size=(2, 2)))\n",
    "\n",
    "    # Conv Layer 2 \n",
    "    model_cnn.add(Conv2D(32, (3, 3),kernel_regularizer=regularizers.l2(0.001)))\n",
    "    model_cnn.add(Activation('relu'))\n",
    "\n",
    "    # Conv Layer 3\n",
    "    model_cnn.add(Conv2D(64, (3, 3)))\n",
    "    model_cnn.add(Activation('relu'))\n",
    "    model_cnn.add(MaxPooling2D(pool_size=(2, 2)))\n",
    "\n",
    "    # MLP\n",
    "    model_cnn.add(Flatten())  # this converts our 3D feature maps to 1D feature vectors\n",
    "    model_cnn.add(Dense(64))\n",
    "    model_cnn.add(Activation('relu'))\n",
    "    model_cnn.add(Dropout(0.5))\n",
    "    model_cnn.add(Dense(16))\n",
    "    model_cnn.add(Activation('softmax'))\n",
    "\n",
    "    sgd = optimizers.SGD(lr=0.01, decay=1e-6, momentum=0.9, nesterov=True)\n",
    "    model_cnn.compile(loss='categorical_crossentropy',\n",
    "                  optimizer=sgd,\n",
    "                  metrics=[categorical_accuracy])\n",
    "\n",
    "    if opt=='sgd':\n",
    "        model_cnn.compile(optimizer=opt,loss=\"categorical_crossentropy\", metrics=[\"categorical_accuracy\"])\n",
    "    if opt=='adam':\n",
    "        model_cnn.compile(optimizer=opt,loss=\"categorical_crossentropy\", metrics=[\"categorical_accuracy\"])\n",
    "\n",
    "    model_cnn.summary()"
   ]
  },
  {
   "cell_type": "code",
   "execution_count": 47,
   "metadata": {},
   "outputs": [
    {
     "name": "stdout",
     "output_type": "stream",
     "text": [
      "Model: \"sequential_6\"\n",
      "_________________________________________________________________\n",
      "Layer (type)                 Output Shape              Param #   \n",
      "=================================================================\n",
      "lambda_10 (Lambda)           (None, 28, 28, 1)         0         \n",
      "_________________________________________________________________\n",
      "conv2d_12 (Conv2D)           (None, 26, 26, 32)        320       \n",
      "_________________________________________________________________\n",
      "activation_27 (Activation)   (None, 26, 26, 32)        0         \n",
      "_________________________________________________________________\n",
      "max_pooling2d_12 (MaxPooling (None, 13, 13, 32)        0         \n",
      "_________________________________________________________________\n",
      "conv2d_13 (Conv2D)           (None, 11, 11, 32)        9248      \n",
      "_________________________________________________________________\n",
      "activation_28 (Activation)   (None, 11, 11, 32)        0         \n",
      "_________________________________________________________________\n",
      "conv2d_14 (Conv2D)           (None, 9, 9, 64)          18496     \n",
      "_________________________________________________________________\n",
      "activation_29 (Activation)   (None, 9, 9, 64)          0         \n",
      "_________________________________________________________________\n",
      "max_pooling2d_13 (MaxPooling (None, 4, 4, 64)          0         \n",
      "_________________________________________________________________\n",
      "flatten_11 (Flatten)         (None, 1024)              0         \n",
      "_________________________________________________________________\n",
      "dense_22 (Dense)             (None, 64)                65600     \n",
      "_________________________________________________________________\n",
      "activation_30 (Activation)   (None, 64)                0         \n",
      "_________________________________________________________________\n",
      "dropout_8 (Dropout)          (None, 64)                0         \n",
      "_________________________________________________________________\n",
      "dense_23 (Dense)             (None, 16)                1040      \n",
      "_________________________________________________________________\n",
      "activation_31 (Activation)   (None, 16)                0         \n",
      "=================================================================\n",
      "Total params: 94,704\n",
      "Trainable params: 94,704\n",
      "Non-trainable params: 0\n",
      "_________________________________________________________________\n",
      "WARNING:tensorflow:sample_weight modes were coerced from\n",
      "  ...\n",
      "    to  \n",
      "  ['...']\n",
      "WARNING:tensorflow:sample_weight modes were coerced from\n",
      "  ...\n",
      "    to  \n",
      "  ['...']\n",
      "Restoring model weights from the end of the best epoch.\n",
      "Epoch 00086: early stopping\n",
      "Confusion Matrix\n",
      "[[28  0  0  0  0  0  0  0  0  0  0  0  0  0  0  0]\n",
      " [ 0 18  0  0  0  0  0  0  0  0  0  0  0  0  0  0]\n",
      " [ 0  0 12  0  0  0  0  0  0  0  0  0  0  0  0  0]\n",
      " [ 0  0  0 23  0  0  0  1  0  0  0  0  0  0  0  0]\n",
      " [ 0  0  0  0 12  0  0  0  0  0  0  0  0  0  0  0]\n",
      " [ 0  0  0  0  0 11  0  0  0  0  0  0  0  0  0  0]\n",
      " [ 1  0  0  0  0  0 40  0  0  0  0  0  0  0  0  0]\n",
      " [ 0  0  0  0  0  0  1 29  0  0  0  0  0  0  0  0]\n",
      " [ 0  0  0  0  0  0  0  0 33  0  0  0  0  0  0  0]\n",
      " [ 0  0  0  0  0  0  0  0  0 21  0  0  0  0  0  0]\n",
      " [ 0  0  0  0  0  0  0  0  0  0  5  0  0  0  0  0]\n",
      " [ 0  0  0  0  0  0  0  0  0  0  0 26  0  0  0  0]\n",
      " [ 0  0  0  0  0  0  0  0  0  0  0  0  9  0  0  0]\n",
      " [ 0  0  0  0  0  0  0  0  0  0  0  1  0 20  0  0]\n",
      " [ 0  0  0  0  0  0  0  0  0  0  0  0  0  0  9  0]\n",
      " [ 0  0  0  0  0  0  0  0  0  0  0  0  0  0  0 70]]\n",
      "Classification Report\n",
      "                  precision    recall  f1-score   support\n",
      "\n",
      "         bicycle       0.97      1.00      0.98        28\n",
      "        continue       1.00      1.00      1.00        18\n",
      "        crossing       1.00      1.00      1.00        12\n",
      "         giveway       1.00      0.96      0.98        24\n",
      "         laneend       1.00      1.00      1.00        12\n",
      "  limitedtraffic       1.00      1.00      1.00        11\n",
      "         noentry       0.98      0.98      0.98        41\n",
      "       noparking       0.97      0.97      0.97        30\n",
      "         parking       1.00      1.00      1.00        33\n",
      "      rightofway       1.00      1.00      1.00        21\n",
      "      roundabout       1.00      1.00      1.00         5\n",
      "           speed       0.96      1.00      0.98        26\n",
      "            stop       1.00      1.00      1.00         9\n",
      "trafficdirective       1.00      0.95      0.98        21\n",
      " traveldirection       1.00      1.00      1.00         9\n",
      "         warning       1.00      1.00      1.00        70\n",
      "\n",
      "        accuracy                           0.99       370\n",
      "       macro avg       0.99      0.99      0.99       370\n",
      "    weighted avg       0.99      0.99      0.99       370\n",
      "\n"
     ]
    },
    {
     "data": {
      "image/png": "[encoded data removed]",
      "text/plain": [
       "<Figure size 432x288 with 1 Axes>"
      ]
     },
     "metadata": {
      "needs_background": "light"
     },
     "output_type": "display_data"
    },
    {
     "data": {
      "image/png": "[encoded data removed]",
      "text/plain": [
       "<Figure size 432x288 with 1 Axes>"
      ]
     },
     "metadata": {
      "needs_background": "light"
     },
     "output_type": "display_data"
    },
    {
     "name": "stdout",
     "output_type": "stream",
     "text": [
      "Confusion Matrix\n",
      "[[ 1  0  0  0  0  0  0  0  0  1  0  0  1  1  1  2]\n",
      " [ 0  3  0  0  0  0  0  0  0  0  0  0  0  0  0  0]\n",
      " [ 0  0  2  0  0  0  0  0  0  0  0  0  0  0  0  2]\n",
      " [ 0  0  0 14  0  0  0  0  0  0  0  0  0  0  0  0]\n",
      " [ 0  0  0  0  5  0  0  0  0  0  0  0  0  0  0  0]\n",
      " [ 0  0  0  0  0  6  0  0  0  0  0  3  0  1  0  0]\n",
      " [ 0  0  0  0  0  0  2  0  1  0  2  0  0  6  0  0]\n",
      " [ 2  1  0  0  0  0  0  0  0  3  0  0  0  0  0  1]\n",
      " [ 0  0  1  0  0  0  0  0  4  0  0  0  0  0  0  0]\n",
      " [ 0  0  0  3  0  0  0  0  0 21  0  0  0  0  0  0]\n",
      " [ 0  0  0  0  0  0  0  0  0  0  9  0  0  0  0  0]\n",
      " [ 0  0  0  0  0  0  0  0  0  0  0 15  0  0  0  0]\n",
      " [ 0  0  0  0  0  0  1  0  0  0  0  0 18  0  0  2]\n",
      " [ 0  0  0  0  0  0  0  0  0  0  0  0  0  6  0  0]\n",
      " [ 0 12  0  0  0  0  0  2  0  0  0  0  0  0  3  0]\n",
      " [ 0  0  0  0  0  0  0  0  0  0  0  0  0  0  0 15]]\n",
      "Classification Report\n",
      "                  precision    recall  f1-score   support\n",
      "\n",
      "         bicycle       0.33      0.14      0.20         7\n",
      "        continue       0.19      1.00      0.32         3\n",
      "        crossing       0.67      0.50      0.57         4\n",
      "         giveway       0.82      1.00      0.90        14\n",
      "         laneend       1.00      1.00      1.00         5\n",
      "  limitedtraffic       1.00      0.60      0.75        10\n",
      "         noentry       0.67      0.18      0.29        11\n",
      "       noparking       0.00      0.00      0.00         7\n",
      "         parking       0.80      0.80      0.80         5\n",
      "      rightofway       0.84      0.88      0.86        24\n",
      "      roundabout       0.82      1.00      0.90         9\n",
      "           speed       0.83      1.00      0.91        15\n",
      "            stop       0.95      0.86      0.90        21\n",
      "trafficdirective       0.43      1.00      0.60         6\n",
      " traveldirection       0.75      0.18      0.29        17\n",
      "         warning       0.68      1.00      0.81        15\n",
      "\n",
      "        accuracy                           0.72       173\n",
      "       macro avg       0.67      0.70      0.63       173\n",
      "    weighted avg       0.75      0.72      0.69       173\n",
      "\n"
     ]
    }
   ],
   "source": [
    "#create model\n",
    "model_cnn_3=Sequential()\n",
    "create_3(model_cnn_3,opt='adam')\n",
    "\n",
    "monitor=EarlyStopping(monitor='val_loss',min_delta=1e-4,patience=30,verbose=1,restore_best_weights=True)\n",
    "\n",
    "# Train model on dataset\n",
    "histd3_2=model_cnn_3.fit_generator(generator=train_generator,\n",
    "                    validation_data=validation_generator,\n",
    "                    callbacks=[monitor],\n",
    "                    epochs=250,\n",
    "                    verbose=0,\n",
    "                    class_weight=class_weight)\n",
    "eval_m(model_cnn_3)\n",
    "newplot(histd3_2)\n",
    "ind_eval(histd3_2)\n",
    "\n"
   ]
  },
  {
   "cell_type": "markdown",
   "metadata": {},
   "source": []
  },
  {
   "cell_type": "code",
   "execution_count": 57,
   "metadata": {},
   "outputs": [
    {
     "name": "stdout",
     "output_type": "stream",
     "text": [
      "Model: \"sequential_11\"\n",
      "_________________________________________________________________\n",
      "Layer (type)                 Output Shape              Param #   \n",
      "=================================================================\n",
      "lambda_15 (Lambda)           (None, 28, 28, 1)         0         \n",
      "_________________________________________________________________\n",
      "conv2d_27 (Conv2D)           (None, 26, 26, 32)        320       \n",
      "_________________________________________________________________\n",
      "activation_52 (Activation)   (None, 26, 26, 32)        0         \n",
      "_________________________________________________________________\n",
      "max_pooling2d_22 (MaxPooling (None, 13, 13, 32)        0         \n",
      "_________________________________________________________________\n",
      "conv2d_28 (Conv2D)           (None, 11, 11, 32)        9248      \n",
      "_________________________________________________________________\n",
      "activation_53 (Activation)   (None, 11, 11, 32)        0         \n",
      "_________________________________________________________________\n",
      "conv2d_29 (Conv2D)           (None, 9, 9, 64)          18496     \n",
      "_________________________________________________________________\n",
      "activation_54 (Activation)   (None, 9, 9, 64)          0         \n",
      "_________________________________________________________________\n",
      "max_pooling2d_23 (MaxPooling (None, 4, 4, 64)          0         \n",
      "_________________________________________________________________\n",
      "flatten_16 (Flatten)         (None, 1024)              0         \n",
      "_________________________________________________________________\n",
      "dense_32 (Dense)             (None, 64)                65600     \n",
      "_________________________________________________________________\n",
      "activation_55 (Activation)   (None, 64)                0         \n",
      "_________________________________________________________________\n",
      "dropout_13 (Dropout)         (None, 64)                0         \n",
      "_________________________________________________________________\n",
      "dense_33 (Dense)             (None, 16)                1040      \n",
      "_________________________________________________________________\n",
      "activation_56 (Activation)   (None, 16)                0         \n",
      "=================================================================\n",
      "Total params: 94,704\n",
      "Trainable params: 94,704\n",
      "Non-trainable params: 0\n",
      "_________________________________________________________________\n",
      "WARNING:tensorflow:sample_weight modes were coerced from\n",
      "  ...\n",
      "    to  \n",
      "  ['...']\n",
      "WARNING:tensorflow:sample_weight modes were coerced from\n",
      "  ...\n",
      "    to  \n",
      "  ['...']\n",
      "Restoring model weights from the end of the best epoch.\n",
      "Epoch 00157: early stopping\n",
      "Confusion Matrix\n",
      "[[28  0  0  0  0  0  0  0  0  0  0  0  0  0  0  0]\n",
      " [ 0 18  0  0  0  0  0  0  0  0  0  0  0  0  0  0]\n",
      " [ 0  0 12  0  0  0  0  0  0  0  0  0  0  0  0  0]\n",
      " [ 0  0  0 24  0  0  0  0  0  0  0  0  0  0  0  0]\n",
      " [ 0  0  0  0 12  0  0  0  0  0  0  0  0  0  0  0]\n",
      " [ 0  0  0  0  0 11  0  0  0  0  0  0  0  0  0  0]\n",
      " [ 0  0  0  0  0  0 41  0  0  0  0  0  0  0  0  0]\n",
      " [ 1  0  0  0  0  0  0 29  0  0  0  0  0  0  0  0]\n",
      " [ 0  0  0  0  0  0  0  0 33  0  0  0  0  0  0  0]\n",
      " [ 0  0  0  0  0  0  0  0  0 20  0  0  0  0  0  1]\n",
      " [ 0  0  0  0  0  0  0  0  0  0  5  0  0  0  0  0]\n",
      " [ 0  0  0  0  0  0  0  0  0  0  0 25  0  1  0  0]\n",
      " [ 0  0  0  0  0  0  0  0  0  0  0  0  9  0  0  0]\n",
      " [ 0  0  0  0  0  2  0  0  0  0  0  0  1 18  0  0]\n",
      " [ 0  0  0  0  0  0  0  0  0  0  0  0  0  0  9  0]\n",
      " [ 0  0  0  0  0  0  0  0  0  0  0  0  0  0  0 70]]\n",
      "Classification Report\n",
      "                  precision    recall  f1-score   support\n",
      "\n",
      "         bicycle       0.97      1.00      0.98        28\n",
      "        continue       1.00      1.00      1.00        18\n",
      "        crossing       1.00      1.00      1.00        12\n",
      "         giveway       1.00      1.00      1.00        24\n",
      "         laneend       1.00      1.00      1.00        12\n",
      "  limitedtraffic       0.85      1.00      0.92        11\n",
      "         noentry       1.00      1.00      1.00        41\n",
      "       noparking       1.00      0.97      0.98        30\n",
      "         parking       1.00      1.00      1.00        33\n",
      "      rightofway       1.00      0.95      0.98        21\n",
      "      roundabout       1.00      1.00      1.00         5\n",
      "           speed       1.00      0.96      0.98        26\n",
      "            stop       0.90      1.00      0.95         9\n",
      "trafficdirective       0.95      0.86      0.90        21\n",
      " traveldirection       1.00      1.00      1.00         9\n",
      "         warning       0.99      1.00      0.99        70\n",
      "\n",
      "        accuracy                           0.98       370\n",
      "       macro avg       0.98      0.98      0.98       370\n",
      "    weighted avg       0.98      0.98      0.98       370\n",
      "\n"
     ]
    },
    {
     "data": {
      "image/png": "[encoded data removed]",
      "text/plain": [
       "<Figure size 432x288 with 1 Axes>"
      ]
     },
     "metadata": {
      "needs_background": "light"
     },
     "output_type": "display_data"
    },
    {
     "data": {
      "image/png": "[encoded data removed]",
      "text/plain": [
       "<Figure size 432x288 with 1 Axes>"
      ]
     },
     "metadata": {
      "needs_background": "light"
     },
     "output_type": "display_data"
    },
    {
     "name": "stdout",
     "output_type": "stream",
     "text": [
      "Confusion Matrix\n",
      "[[ 2  0  0  0  0  0  0  0  0  1  0  0  1  1  1  1]\n",
      " [ 0  3  0  0  0  0  0  0  0  0  0  0  0  0  0  0]\n",
      " [ 0  0  2  0  0  0  0  0  0  0  0  0  0  0  0  2]\n",
      " [ 0  0  0 14  0  0  0  0  0  0  0  0  0  0  0  0]\n",
      " [ 0  0  0  0  5  0  0  0  0  0  0  0  0  0  0  0]\n",
      " [ 0  0  0  0  0 10  0  0  0  0  0  0  0  0  0  0]\n",
      " [ 0  0  0  0  0  0  2  0  0  0  0  0  0  8  1  0]\n",
      " [ 0  0  0  0  0  0  0  5  0  2  0  0  0  0  0  2]\n",
      " [ 0  0  1  0  0  0  0  0  4  0  0  0  0  0  0  0]\n",
      " [ 0  0  0  1  0  0  0  0  0 21  0  0  0  0  2  0]\n",
      " [ 0  0  0  0  0  0  0  4  0  0  5  0  0  0  0  0]\n",
      " [ 0  0  0  0  0  0  0  3  0  0  0 12  0  0  0  0]\n",
      " [ 1  0  0  0  0  1  1  0  0  0  0  0 18  0  0  0]\n",
      " [ 0  0  0  0  0  0  0  0  0  0  0  0  0  6  0  0]\n",
      " [ 0 12  0  0  0  0  0  2  0  0  0  1  0  0  2  0]\n",
      " [ 0  0  0  0  0  0  0  0  0  0  0  0  0  0  0 15]]\n",
      "Classification Report\n",
      "                  precision    recall  f1-score   support\n",
      "\n",
      "         bicycle       0.67      0.29      0.40         7\n",
      "        continue       0.20      1.00      0.33         3\n",
      "        crossing       0.67      0.50      0.57         4\n",
      "         giveway       0.93      1.00      0.97        14\n",
      "         laneend       1.00      1.00      1.00         5\n",
      "  limitedtraffic       0.91      1.00      0.95        10\n",
      "         noentry       0.67      0.18      0.29        11\n",
      "       noparking       0.36      0.56      0.43         9\n",
      "         parking       1.00      0.80      0.89         5\n",
      "      rightofway       0.88      0.88      0.88        24\n",
      "      roundabout       1.00      0.56      0.71         9\n",
      "           speed       0.92      0.80      0.86        15\n",
      "            stop       0.95      0.86      0.90        21\n",
      "trafficdirective       0.40      1.00      0.57         6\n",
      " traveldirection       0.33      0.12      0.17        17\n",
      "         warning       0.75      1.00      0.86        15\n",
      "\n",
      "        accuracy                           0.72       175\n",
      "       macro avg       0.73      0.72      0.67       175\n",
      "    weighted avg       0.76      0.72      0.71       175\n",
      "\n"
     ]
    }
   ],
   "source": [
    "#create model\n",
    "model_cnn_3=Sequential()\n",
    "create_3(model_cnn_3,opt='sgd')\n",
    "\n",
    "monitor=EarlyStopping(monitor='val_loss',min_delta=1e-4,patience=50,verbose=1,restore_best_weights=True)\n",
    "\n",
    "# Train model on dataset\n",
    "histd3_2=model_cnn_3.fit_generator(generator=train_generator,\n",
    "                    validation_data=validation_generator,\n",
    "                    callbacks=[monitor],\n",
    "                    epochs=250,\n",
    "                    verbose=0,\n",
    "                    class_weight=class_weight)\n",
    "eval_m(model_cnn_3)\n",
    "newplot(histd3_2)\n",
    "ind_eval(histd3_2)\n",
    "\n"
   ]
  },
  {
   "cell_type": "markdown",
   "metadata": {},
   "source": [
    "### Increasing model complexity by adding more hidden layers"
   ]
  },
  {
   "cell_type": "code",
   "execution_count": 51,
   "metadata": {},
   "outputs": [],
   "source": [
    "\n",
    "\n",
    "def create_4(model_cnn,opt='sgd'):\n",
    "\n",
    "    # input\n",
    "    model_cnn.add(Input(shape=(28, 28, 3)))\n",
    "    model_cnn.add(Lambda(lambda x: tf.expand_dims(x[:,:,:,0], -1, name=None))) \n",
    "\n",
    "    # Conv Layer 1\n",
    "    model_cnn.add(Conv2D(16, (3, 3),padding='same'))\n",
    "    model_cnn.add(BatchNormalization)\n",
    "    model_cnn.add(Activation('relu'))\n",
    "    model_cnn.add(MaxPooling2D(pool_size=(2, 2)))\n",
    "    model_cnn.add(Dropout(0.2))\n",
    "\n",
    "    # Conv Layer 2 \n",
    "    model_cnn.add(Conv2D(32, (3, 3)))\n",
    "    model_cnn.add(BatchNormalization)\n",
    "    model_cnn.add(Activation('relu'))\n",
    "\n",
    "    # Conv Layer 3\n",
    "    model_cnn.add(Conv2D(32, (3, 3)))\n",
    "    model_cnn.add(Activation('relu'))\n",
    "    model_cnn.add(MaxPooling2D(pool_size=(2, 2)))\n",
    "    model_cnn.add(Dropout(0.2))\n",
    "    \n",
    "     # Conv Layer 2 \n",
    "    model_cnn.add(Conv2D(64, (3, 3)))\n",
    "    model_cnn.add(BatchNormalization)\n",
    "    model_cnn.add(Activation('relu'))\n",
    "    \n",
    "         # Conv Layer 2 \n",
    "    model_cnn.add(Conv2D(128, (3, 3)))\n",
    "    model_cnn.add(BatchNormalization)\n",
    "    model_cnn.add(Activation('relu'))\n",
    "    \n",
    "\n",
    "    # MLP\n",
    "    model_cnn.add(Flatten())  # this converts our 3D feature maps to 1D feature vectors\n",
    "    model_cnn.add(Dense(64))\n",
    "    model_cnn.add(Activation('relu'))\n",
    "    model_cnn.add(Dropout(0.5))\n",
    "    model_cnn.add(Dense(16))\n",
    "    model_cnn.add(Activation('softmax'))\n",
    "\n",
    "    sgd = optimizers.SGD(lr=0.01, decay=1e-6, momentum=0.9, nesterov=True)\n",
    "    model_cnn.compile(loss='categorical_crossentropy',\n",
    "                  optimizer=sgd,\n",
    "                  metrics=[categorical_accuracy])\n",
    "\n",
    "    if opt=='sgd':\n",
    "        model_cnn.compile(optimizer=opt,loss=\"categorical_crossentropy\", metrics=[\"categorical_accuracy\"])\n",
    "    if opt=='adam':\n",
    "        model_cnn.compile(optimizer=opt,loss=\"categorical_crossentropy\", metrics=[\"categorical_accuracy\"])\n",
    "\n",
    "    model_cnn.summary()"
   ]
  },
  {
   "cell_type": "code",
   "execution_count": 56,
   "metadata": {},
   "outputs": [
    {
     "name": "stdout",
     "output_type": "stream",
     "text": [
      "Model: \"sequential_10\"\n",
      "_________________________________________________________________\n",
      "Layer (type)                 Output Shape              Param #   \n",
      "=================================================================\n",
      "lambda_14 (Lambda)           (None, 28, 28, 1)         0         \n",
      "_________________________________________________________________\n",
      "conv2d_24 (Conv2D)           (None, 26, 26, 32)        320       \n",
      "_________________________________________________________________\n",
      "activation_47 (Activation)   (None, 26, 26, 32)        0         \n",
      "_________________________________________________________________\n",
      "max_pooling2d_20 (MaxPooling (None, 13, 13, 32)        0         \n",
      "_________________________________________________________________\n",
      "conv2d_25 (Conv2D)           (None, 11, 11, 32)        9248      \n",
      "_________________________________________________________________\n",
      "activation_48 (Activation)   (None, 11, 11, 32)        0         \n",
      "_________________________________________________________________\n",
      "conv2d_26 (Conv2D)           (None, 9, 9, 64)          18496     \n",
      "_________________________________________________________________\n",
      "activation_49 (Activation)   (None, 9, 9, 64)          0         \n",
      "_________________________________________________________________\n",
      "max_pooling2d_21 (MaxPooling (None, 4, 4, 64)          0         \n",
      "_________________________________________________________________\n",
      "flatten_15 (Flatten)         (None, 1024)              0         \n",
      "_________________________________________________________________\n",
      "dense_30 (Dense)             (None, 64)                65600     \n",
      "_________________________________________________________________\n",
      "activation_50 (Activation)   (None, 64)                0         \n",
      "_________________________________________________________________\n",
      "dropout_12 (Dropout)         (None, 64)                0         \n",
      "_________________________________________________________________\n",
      "dense_31 (Dense)             (None, 16)                1040      \n",
      "_________________________________________________________________\n",
      "activation_51 (Activation)   (None, 16)                0         \n",
      "=================================================================\n",
      "Total params: 94,704\n",
      "Trainable params: 94,704\n",
      "Non-trainable params: 0\n",
      "_________________________________________________________________\n",
      "WARNING:tensorflow:sample_weight modes were coerced from\n",
      "  ...\n",
      "    to  \n",
      "  ['...']\n",
      "WARNING:tensorflow:sample_weight modes were coerced from\n",
      "  ...\n",
      "    to  \n",
      "  ['...']\n",
      "Restoring model weights from the end of the best epoch.\n",
      "Epoch 00129: early stopping\n",
      "Confusion Matrix\n",
      "[[28  0  0  0  0  0  0  0  0  0  0  0  0  0  0  0]\n",
      " [ 0 18  0  0  0  0  0  0  0  0  0  0  0  0  0  0]\n",
      " [ 0  0 12  0  0  0  0  0  0  0  0  0  0  0  0  0]\n",
      " [ 0  0  0 24  0  0  0  0  0  0  0  0  0  0  0  0]\n",
      " [ 0  0  0  0 12  0  0  0  0  0  0  0  0  0  0  0]\n",
      " [ 0  0  0  0  0 11  0  0  0  0  0  0  0  0  0  0]\n",
      " [ 0  0  0  0  0  0 40  1  0  0  0  0  0  0  0  0]\n",
      " [ 0  0  0  0  0  0  0 30  0  0  0  0  0  0  0  0]\n",
      " [ 0  0  0  0  0  0  0  0 33  0  0  0  0  0  0  0]\n",
      " [ 0  0  0  0  0  0  0  0  0 21  0  0  0  0  0  0]\n",
      " [ 0  0  0  0  0  0  0  0  0  0  5  0  0  0  0  0]\n",
      " [ 0  0  0  0  0  0  0  0  0  0  0 26  0  0  0  0]\n",
      " [ 0  0  0  0  0  0  0  0  0  0  0  0  9  0  0  0]\n",
      " [ 0  0  0  0  0  2  0  0  0  0  0  0  0 19  0  0]\n",
      " [ 0  0  0  0  0  0  0  0  0  0  0  0  0  0  9  0]\n",
      " [ 0  0  0  0  0  0  0  0  0  0  0  0  0  0  0 70]]\n",
      "Classification Report\n",
      "                  precision    recall  f1-score   support\n",
      "\n",
      "         bicycle       1.00      1.00      1.00        28\n",
      "        continue       1.00      1.00      1.00        18\n",
      "        crossing       1.00      1.00      1.00        12\n",
      "         giveway       1.00      1.00      1.00        24\n",
      "         laneend       1.00      1.00      1.00        12\n",
      "  limitedtraffic       0.85      1.00      0.92        11\n",
      "         noentry       1.00      0.98      0.99        41\n",
      "       noparking       0.97      1.00      0.98        30\n",
      "         parking       1.00      1.00      1.00        33\n",
      "      rightofway       1.00      1.00      1.00        21\n",
      "      roundabout       1.00      1.00      1.00         5\n",
      "           speed       1.00      1.00      1.00        26\n",
      "            stop       1.00      1.00      1.00         9\n",
      "trafficdirective       1.00      0.90      0.95        21\n",
      " traveldirection       1.00      1.00      1.00         9\n",
      "         warning       1.00      1.00      1.00        70\n",
      "\n",
      "        accuracy                           0.99       370\n",
      "       macro avg       0.99      0.99      0.99       370\n",
      "    weighted avg       0.99      0.99      0.99       370\n",
      "\n"
     ]
    },
    {
     "data": {
      "image/png": "[encoded data removed]",
      "text/plain": [
       "<Figure size 432x288 with 1 Axes>"
      ]
     },
     "metadata": {
      "needs_background": "light"
     },
     "output_type": "display_data"
    },
    {
     "data": {
      "image/png": "[encoded data removed]",
      "text/plain": [
       "<Figure size 432x288 with 1 Axes>"
      ]
     },
     "metadata": {
      "needs_background": "light"
     },
     "output_type": "display_data"
    },
    {
     "name": "stdout",
     "output_type": "stream",
     "text": [
      "Confusion Matrix\n",
      "[[ 3  1  0  0  0  0  0  0  0  0  0  0  0  1  0  2]\n",
      " [ 0  3  0  0  0  0  0  0  0  0  0  0  0  0  0  0]\n",
      " [ 0  0  2  0  0  0  0  0  0  0  0  0  0  0  0  2]\n",
      " [ 0  0  0 14  0  0  0  0  0  0  0  0  0  0  0  0]\n",
      " [ 0  0  0  0  5  0  0  0  0  0  0  0  0  0  0  0]\n",
      " [ 0  0  0  0  0 10  0  0  0  0  0  0  0  0  0  0]\n",
      " [ 0  0  0  0  0  0  2  0  2  2  3  0  0  1  1  0]\n",
      " [ 0  0  0  0  0  0  0  5  0  2  0  0  0  1  0  1]\n",
      " [ 0  0  1  0  0  0  0  0  4  0  0  0  0  0  0  0]\n",
      " [ 0  0  0  1  0  0  0  0  0 21  0  0  0  0  2  0]\n",
      " [ 0  0  0  0  0  0  0  0  0  0  9  0  0  0  0  0]\n",
      " [ 0  0  0  0  0  0  0  8  0  0  1  6  0  0  0  0]\n",
      " [ 1  0  0  0  0  0  1  0  0  0  0  0 18  0  1  0]\n",
      " [ 0  0  0  0  0  0  0  0  2  2  1  0  0  1  0  0]\n",
      " [ 0 11  0  0  0  0  0  2  0  0  0  0  0  0  4  0]\n",
      " [ 0  0  0  0  0  0  0  0  0  0  0  0  0  0  0 15]]\n",
      "Classification Report\n",
      "                  precision    recall  f1-score   support\n",
      "\n",
      "         bicycle       0.75      0.43      0.55         7\n",
      "        continue       0.20      1.00      0.33         3\n",
      "        crossing       0.67      0.50      0.57         4\n",
      "         giveway       0.93      1.00      0.97        14\n",
      "         laneend       1.00      1.00      1.00         5\n",
      "  limitedtraffic       1.00      1.00      1.00        10\n",
      "         noentry       0.67      0.18      0.29        11\n",
      "       noparking       0.33      0.56      0.42         9\n",
      "         parking       0.50      0.80      0.62         5\n",
      "      rightofway       0.78      0.88      0.82        24\n",
      "      roundabout       0.64      1.00      0.78         9\n",
      "           speed       1.00      0.40      0.57        15\n",
      "            stop       1.00      0.86      0.92        21\n",
      "trafficdirective       0.25      0.17      0.20         6\n",
      " traveldirection       0.50      0.24      0.32        17\n",
      "         warning       0.75      1.00      0.86        15\n",
      "\n",
      "        accuracy                           0.70       175\n",
      "       macro avg       0.69      0.69      0.64       175\n",
      "    weighted avg       0.75      0.70      0.68       175\n",
      "\n"
     ]
    }
   ],
   "source": [
    "#create model\n",
    "model_cnn_4=Sequential()\n",
    "create_3(model_cnn_4,opt='adam')\n",
    "\n",
    "monitor=EarlyStopping(monitor='val_loss',min_delta=1e-4,patience=50,verbose=1,restore_best_weights=True)\n",
    "\n",
    "# Train model on dataset\n",
    "histd3_2_1=model_cnn_4.fit_generator(generator=train_generator,\n",
    "                    validation_data=validation_generator,\n",
    "                    callbacks=[monitor],\n",
    "                    epochs=250,\n",
    "                    verbose=0,\n",
    "                    class_weight=class_weight)\n",
    "eval_m(model_cnn_4)\n",
    "newplot(histd3_2_1)\n",
    "ind_eval(histd3_2_1)\n",
    "\n"
   ]
  },
  {
   "cell_type": "code",
   "execution_count": 66,
   "metadata": {},
   "outputs": [
    {
     "name": "stdout",
     "output_type": "stream",
     "text": [
      "Model: \"sequential_15\"\n",
      "_________________________________________________________________\n",
      "Layer (type)                 Output Shape              Param #   \n",
      "=================================================================\n",
      "lambda_23 (Lambda)           (None, 28, 28, 1)         0         \n",
      "_________________________________________________________________\n",
      "conv2d_36 (Conv2D)           (None, 26, 26, 32)        320       \n",
      "_________________________________________________________________\n",
      "activation_75 (Activation)   (None, 26, 26, 32)        0         \n",
      "_________________________________________________________________\n",
      "max_pooling2d_30 (MaxPooling (None, 13, 13, 32)        0         \n",
      "_________________________________________________________________\n",
      "conv2d_37 (Conv2D)           (None, 11, 11, 32)        9248      \n",
      "_________________________________________________________________\n",
      "activation_76 (Activation)   (None, 11, 11, 32)        0         \n",
      "_________________________________________________________________\n",
      "conv2d_38 (Conv2D)           (None, 9, 9, 64)          18496     \n",
      "_________________________________________________________________\n",
      "activation_77 (Activation)   (None, 9, 9, 64)          0         \n",
      "_________________________________________________________________\n",
      "max_pooling2d_31 (MaxPooling (None, 4, 4, 64)          0         \n",
      "_________________________________________________________________\n",
      "flatten_25 (Flatten)         (None, 1024)              0         \n",
      "_________________________________________________________________\n",
      "dense_50 (Dense)             (None, 64)                65600     \n",
      "_________________________________________________________________\n",
      "activation_78 (Activation)   (None, 64)                0         \n",
      "_________________________________________________________________\n",
      "dropout_22 (Dropout)         (None, 64)                0         \n",
      "_________________________________________________________________\n",
      "dense_51 (Dense)             (None, 16)                1040      \n",
      "_________________________________________________________________\n",
      "activation_79 (Activation)   (None, 16)                0         \n",
      "=================================================================\n",
      "Total params: 94,704\n",
      "Trainable params: 94,704\n",
      "Non-trainable params: 0\n",
      "_________________________________________________________________\n",
      "WARNING:tensorflow:sample_weight modes were coerced from\n",
      "  ...\n",
      "    to  \n",
      "  ['...']\n",
      "WARNING:tensorflow:sample_weight modes were coerced from\n",
      "  ...\n",
      "    to  \n",
      "  ['...']\n",
      "Restoring model weights from the end of the best epoch.\n",
      "Epoch 00171: early stopping\n",
      "Confusion Matrix\n",
      "[[28  0  0  0  0  0  0  0  0  0  0  0  0  0  0  0]\n",
      " [ 0 18  0  0  0  0  0  0  0  0  0  0  0  0  0  0]\n",
      " [ 0  0 12  0  0  0  0  0  0  0  0  0  0  0  0  0]\n",
      " [ 0  0  0 24  0  0  0  0  0  0  0  0  0  0  0  0]\n",
      " [ 0  0  0  0 12  0  0  0  0  0  0  0  0  0  0  0]\n",
      " [ 0  0  0  0  0 11  0  0  0  0  0  0  0  0  0  0]\n",
      " [ 0  0  0  0  0  0 41  0  0  0  0  0  0  0  0  0]\n",
      " [ 0  0  0  0  0  0  0 30  0  0  0  0  0  0  0  0]\n",
      " [ 0  0  0  0  0  0  0  0 33  0  0  0  0  0  0  0]\n",
      " [ 0  0  0  0  0  0  0  0  0 20  0  0  0  0  0  1]\n",
      " [ 0  0  0  0  0  0  0  0  0  0  5  0  0  0  0  0]\n",
      " [ 0  0  0  0  0  0  0  0  0  1  0 25  0  0  0  0]\n",
      " [ 0  0  0  0  0  0  0  0  0  0  0  0  9  0  0  0]\n",
      " [ 0  0  0  0  0  2  0  0  0  0  0  1  0 18  0  0]\n",
      " [ 0  0  0  0  0  0  0  0  0  0  0  0  0  0  9  0]\n",
      " [ 0  0  0  0  1  0  0  0  0  0  0  0  0  0  0 69]]\n",
      "Classification Report\n",
      "                  precision    recall  f1-score   support\n",
      "\n",
      "         bicycle       1.00      1.00      1.00        28\n",
      "        continue       1.00      1.00      1.00        18\n",
      "        crossing       1.00      1.00      1.00        12\n",
      "         giveway       1.00      1.00      1.00        24\n",
      "         laneend       0.92      1.00      0.96        12\n",
      "  limitedtraffic       0.85      1.00      0.92        11\n",
      "         noentry       1.00      1.00      1.00        41\n",
      "       noparking       1.00      1.00      1.00        30\n",
      "         parking       1.00      1.00      1.00        33\n",
      "      rightofway       0.95      0.95      0.95        21\n",
      "      roundabout       1.00      1.00      1.00         5\n",
      "           speed       0.96      0.96      0.96        26\n",
      "            stop       1.00      1.00      1.00         9\n",
      "trafficdirective       1.00      0.86      0.92        21\n",
      " traveldirection       1.00      1.00      1.00         9\n",
      "         warning       0.99      0.99      0.99        70\n",
      "\n",
      "        accuracy                           0.98       370\n",
      "       macro avg       0.98      0.98      0.98       370\n",
      "    weighted avg       0.98      0.98      0.98       370\n",
      "\n"
     ]
    },
    {
     "data": {
      "image/png": "[encoded data removed]",
      "text/plain": [
       "<Figure size 432x288 with 1 Axes>"
      ]
     },
     "metadata": {
      "needs_background": "light"
     },
     "output_type": "display_data"
    },
    {
     "data": {
      "image/png": "[encoded data removed]",
      "text/plain": [
       "<Figure size 432x288 with 1 Axes>"
      ]
     },
     "metadata": {
      "needs_background": "light"
     },
     "output_type": "display_data"
    },
    {
     "name": "stdout",
     "output_type": "stream",
     "text": [
      "Confusion Matrix\n",
      "[[ 3  0  0  0  0  0  0  0  0  2  0  0  0  1  1  0]\n",
      " [ 0  3  0  0  0  0  0  0  0  0  0  0  0  0  0  0]\n",
      " [ 0  0  2  0  0  0  0  0  0  0  0  0  0  0  0  2]\n",
      " [ 0  0  0 14  0  0  0  0  0  0  0  0  0  0  0  0]\n",
      " [ 0  0  0  0  5  0  0  0  0  0  0  0  0  0  0  0]\n",
      " [ 0  0  0  0  0 10  0  0  0  0  0  0  0  0  0  0]\n",
      " [ 0  0  0  0  0  0  1  0  0  0  0  1  0  8  1  0]\n",
      " [ 0  0  0  0  0  0  0  5  0  2  0  0  0  0  0  2]\n",
      " [ 0  1  0  0  0  0  0  0  4  0  0  0  0  0  0  0]\n",
      " [ 0  0  0  0  0  1  0  1  0 20  0  0  0  0  2  0]\n",
      " [ 0  0  0  0  0  0  0  7  0  0  2  0  0  0  0  0]\n",
      " [ 0  0  0  0  0  0  1  0  0  0  0 14  0  0  0  0]\n",
      " [ 1  0  0  0  0  1  1  0  0  0  0  0 18  0  0  0]\n",
      " [ 0  0  0  0  0  0  0  0  0  0  0  0  0  6  0  0]\n",
      " [ 0  6  0  0  0  0  0  4  0  0  0  0  0  0  6  1]\n",
      " [ 0  0  0  0  0  0  0  0  0  0  0  0  0  0  0 15]]\n",
      "Classification Report\n",
      "                  precision    recall  f1-score   support\n",
      "\n",
      "         bicycle       0.75      0.43      0.55         7\n",
      "        continue       0.30      1.00      0.46         3\n",
      "        crossing       1.00      0.50      0.67         4\n",
      "         giveway       1.00      1.00      1.00        14\n",
      "         laneend       1.00      1.00      1.00         5\n",
      "  limitedtraffic       0.83      1.00      0.91        10\n",
      "         noentry       0.33      0.09      0.14        11\n",
      "       noparking       0.29      0.56      0.38         9\n",
      "         parking       1.00      0.80      0.89         5\n",
      "      rightofway       0.83      0.83      0.83        24\n",
      "      roundabout       1.00      0.22      0.36         9\n",
      "           speed       0.93      0.93      0.93        15\n",
      "            stop       1.00      0.86      0.92        21\n",
      "trafficdirective       0.40      1.00      0.57         6\n",
      " traveldirection       0.60      0.35      0.44        17\n",
      "         warning       0.75      1.00      0.86        15\n",
      "\n",
      "        accuracy                           0.73       175\n",
      "       macro avg       0.75      0.72      0.68       175\n",
      "    weighted avg       0.78      0.73      0.72       175\n",
      "\n"
     ]
    }
   ],
   "source": [
    "#create model\n",
    "model_cnn_5=Sequential()\n",
    "create_3(model_cnn_5,opt='sgd')\n",
    "\n",
    "monitor=EarlyStopping(monitor='val_loss',min_delta=1e-4,patience=50,verbose=1,restore_best_weights=True)\n",
    "\n",
    "# Train model on dataset\n",
    "histd3_2_2=model_cnn_5.fit_generator(generator=train_generator,\n",
    "                    validation_data=validation_generator,\n",
    "                    callbacks=[monitor],\n",
    "                    epochs=250,\n",
    "                    verbose=0,\n",
    "                    class_weight=class_weight)\n",
    "eval_m(model_cnn_5)\n",
    "newplot(histd3_2_2)\n",
    "ind_eval(histd3_2_2)\n",
    "\n"
   ]
  },
  {
   "cell_type": "code",
   "execution_count": null,
   "metadata": {},
   "outputs": [],
   "source": []
  }
 ],
 "metadata": {
  "kernelspec": {
   "display_name": "Python 3",
   "language": "python",
   "name": "python3"
  },
  "language_info": {
   "codemirror_mode": {
    "name": "ipython",
    "version": 3
   },
   "file_extension": ".py",
   "mimetype": "text/x-python",
   "name": "python",
   "nbconvert_exporter": "python",
   "pygments_lexer": "ipython3",
   "version": "3.7.3"
  }
 },
 "nbformat": 4,
 "nbformat_minor": 2
}
